{
 "cells": [
  {
   "cell_type": "markdown",
   "metadata": {},
   "source": [
    "# In class activity - September 13, 2023\n",
    "\n",
    "This activity is intended to give you some practice interpreting regression coefficients and also conducting inference. \n",
    "\n",
    "The data used for this activity comes from medical insurance claims. \n",
    "\n",
    "| Attribute | Type | Description |\n",
    "|:----------|:-----|:------------|\n",
    "| age | integer | Age of individual| \n",
    "| sex | character | Sex of individual at birth |\n",
    "| bmi | integer | Body mass index |\n",
    "| children | integer | Number of children covered on insurance | \n",
    "| smoker | character | Whether individuals smokes or not | \n",
    "| region | character | Region of the United States | \n",
    "| charges | integer | Medical charges | \n",
    "\n",
    "The following code chunk reads in the data and shows the first 6 rows. "
   ]
  },
  {
   "cell_type": "code",
   "execution_count": null,
   "metadata": {
    "vscode": {
     "languageId": "r"
    }
   },
   "outputs": [],
   "source": [
    "library(tidyverse)\n",
    "library(ggformula)\n",
    "\n",
    "charges <- read_csv(\"https://raw.githubusercontent.com/stedy/Machine-Learning-with-R-datasets/master/insurance.csv\")\n",
    "\n",
    "head(charges)"
   ]
  },
  {
   "cell_type": "markdown",
   "metadata": {},
   "source": [
    "## Descriptive analysis\n",
    "\n",
    "Pick 2 integer attributes and explore those two attributes descriptively. Think about key characteristics about these two attributes.\n",
    "\n",
    "## Fitting the linear model\n",
    "\n",
    "Fit the linear model to estimate the regression parameters. Then do the following: \n",
    "\n",
    "1. Extract the linear model estimates. \n",
    "2. Interpret the slope and intercept. \n",
    "3. Interpret the standard errors\n",
    "4. Interpret overall model fit. \n",
    "\n",
    "## Conduct Inference\n",
    "\n",
    "Suppose we wished to use this data to make broader claims to a population of interest. Let us perform classical inference using the NHST framework. Do the following:\n",
    "\n",
    "1. Establish the statistical hypotheses.\n",
    "2. Extract and interpret the test-statistics and p-values\n",
    "3. What do the test-statistics and p-values tell us about the statistical hypotheses?\n",
    "4. What do the test-statistics and p-values tell us about the magnitude (i.e., size) of effect? \n",
    "5. What do the test-statistics and p-values tell us about the practical implications of the effect?\n",
    "\n",
    "## Compute confidence interval\n",
    "\n",
    "Compute a confidence interval in the following steps. \n",
    "\n",
    "1. Establish the confidence level\n",
    "2. Compute the confidence interval.\n",
    "3. Interpret the confidence interval. \n",
    "4. What does the confidence interval tell us about magnitude or practical implications of the effect?"
   ]
  }
 ],
 "metadata": {
  "kernelspec": {
   "display_name": "R",
   "language": "R",
   "name": "ir"
  },
  "language_info": {
   "codemirror_mode": "r",
   "file_extension": ".r",
   "mimetype": "text/x-r-source",
   "name": "R",
   "pygments_lexer": "r",
   "version": "4.3.1"
  }
 },
 "nbformat": 4,
 "nbformat_minor": 2
}
