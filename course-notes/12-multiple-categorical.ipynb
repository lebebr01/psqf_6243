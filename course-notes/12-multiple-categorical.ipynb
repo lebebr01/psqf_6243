{
 "cells": [
  {
   "cell_type": "markdown",
   "metadata": {},
   "source": [
    "# Add more than one categorical predictor\n",
    "\n",
    "Let's explore the ability to add more than one categorical predictor to our model. This will then build into thinking through interactions. Let's load some new data. These are bike data from Philadelphia program, called [Indego](https://www.rideindego.com/about/data/). The data loaded below are from Q3 of 2023. \n",
    "\n",
    "Here is information about the columns in the data.\n",
    "\n",
    "+ **trip_id:** Locally unique integer that identifies the trip\n",
    "+ **duration:** Length of trip in minutes\n",
    "+ **start_time:** The date/time when the trip began, presented in ISO 8601 format in local time\n",
    "+ **end_time:** The date/time when the trip ended, presented in ISO 8601 format in local time\n",
    "+ **start_station:** The station ID where the trip originated (for station name and more information on each station see the Station Table)\n",
    "+ **start_lat:** The latitude of the station where the trip originated\n",
    "+ **start_lon:** The longitude of the station where the trip originated\n",
    "+ **end_station:** The station ID where the trip terminated (for station name and more information on each station see the Station Table)\n",
    "+ **end_lat:** The latitude of the station where the trip terminated\n",
    "+ **end_lon:** The longitude of the station where the trip terminated\n",
    "+ **bike_id:**  Locally unique integer that identifies the bike\n",
    "+ **plan_duration:** The number of days that the plan the passholder is using entitles them to ride; 0 is used for a single ride plan (Walk-up)\n",
    "+ **trip_route_category:** “Round Trip” for trips starting and ending at the same station or “One Way” for all other trips\n",
    "+ **passholder_type:** The name of the passholder’s plan\n",
    "+ **bike_type:** The kind of bike used on the trip, including standard pedal-powered bikes or electric assist bikes\n"
   ]
  },
  {
   "cell_type": "code",
   "execution_count": 2,
   "metadata": {
    "vscode": {
     "languageId": "r"
    }
   },
   "outputs": [
    {
     "name": "stderr",
     "output_type": "stream",
     "text": [
      "Warning message:\n",
      "\"\u001b[1m\u001b[22mOne or more parsing issues, call `problems()` on your data frame for details,\n",
      "e.g.:\n",
      "  dat <- vroom(...)\n",
      "  problems(dat)\"\n",
      "\u001b[1mRows: \u001b[22m\u001b[34m353256\u001b[39m \u001b[1mColumns: \u001b[22m\u001b[34m15\u001b[39m\n",
      "\u001b[36m--\u001b[39m \u001b[1mColumn specification\u001b[22m \u001b[36m--------------------------------------------------------\u001b[39m\n",
      "\u001b[1mDelimiter:\u001b[22m \",\"\n",
      "\u001b[31mchr\u001b[39m  (5): start_time, end_time, trip_route_category, passholder_type, bike_type\n",
      "\u001b[32mdbl\u001b[39m (10): trip_id, duration, start_station, start_lat, start_lon, end_statio...\n",
      "\n",
      "\u001b[36mi\u001b[39m Use `spec()` to retrieve the full column specification for this data.\n",
      "\u001b[36mi\u001b[39m Specify the column types or set `show_col_types = FALSE` to quiet this message.\n"
     ]
    },
    {
     "data": {
      "text/html": [
       "<table class=\"dataframe\">\n",
       "<caption>A tibble: 6 × 15</caption>\n",
       "<thead>\n",
       "\t<tr><th scope=col>trip_id</th><th scope=col>duration</th><th scope=col>start_time</th><th scope=col>end_time</th><th scope=col>start_station</th><th scope=col>start_lat</th><th scope=col>start_lon</th><th scope=col>end_station</th><th scope=col>end_lat</th><th scope=col>end_lon</th><th scope=col>bike_id</th><th scope=col>plan_duration</th><th scope=col>trip_route_category</th><th scope=col>passholder_type</th><th scope=col>bike_type</th></tr>\n",
       "\t<tr><th scope=col>&lt;dbl&gt;</th><th scope=col>&lt;dbl&gt;</th><th scope=col>&lt;chr&gt;</th><th scope=col>&lt;chr&gt;</th><th scope=col>&lt;dbl&gt;</th><th scope=col>&lt;dbl&gt;</th><th scope=col>&lt;dbl&gt;</th><th scope=col>&lt;dbl&gt;</th><th scope=col>&lt;dbl&gt;</th><th scope=col>&lt;dbl&gt;</th><th scope=col>&lt;dbl&gt;</th><th scope=col>&lt;dbl&gt;</th><th scope=col>&lt;chr&gt;</th><th scope=col>&lt;chr&gt;</th><th scope=col>&lt;chr&gt;</th></tr>\n",
       "</thead>\n",
       "<tbody>\n",
       "\t<tr><td>677293140</td><td> 2</td><td>7/1/2023 0:00</td><td>7/1/2023 0:02</td><td>3271</td><td>39.94760</td><td>-75.22946</td><td>3246</td><td>39.94782</td><td>-75.22301</td><td>25775</td><td> 30</td><td>One Way</td><td>Indego30 </td><td>electric</td></tr>\n",
       "\t<tr><td>677304406</td><td>27</td><td>7/1/2023 0:00</td><td>7/1/2023 0:27</td><td>3060</td><td>39.95923</td><td>-75.17036</td><td>3255</td><td>39.95095</td><td>-75.16438</td><td>14583</td><td> 30</td><td>One Way</td><td>Indego30 </td><td>standard</td></tr>\n",
       "\t<tr><td>677304584</td><td>32</td><td>7/1/2023 0:00</td><td>7/1/2023 0:32</td><td>3057</td><td>39.96439</td><td>-75.17987</td><td>3165</td><td>39.95819</td><td>-75.17820</td><td> 5191</td><td>  1</td><td>One Way</td><td>Day Pass </td><td>standard</td></tr>\n",
       "\t<tr><td>677302282</td><td> 6</td><td>7/1/2023 0:00</td><td>7/1/2023 0:06</td><td>3038</td><td>39.94781</td><td>-75.19409</td><td>3256</td><td>39.95269</td><td>-75.17779</td><td>19170</td><td>365</td><td>One Way</td><td>Indego365</td><td>electric</td></tr>\n",
       "\t<tr><td>677304444</td><td>27</td><td>7/1/2023 0:01</td><td>7/1/2023 0:28</td><td>3060</td><td>39.95923</td><td>-75.17036</td><td>3255</td><td>39.95095</td><td>-75.16438</td><td> 5178</td><td> 30</td><td>One Way</td><td>Indego30 </td><td>standard</td></tr>\n",
       "\t<tr><td>677303703</td><td> 9</td><td>7/1/2023 0:01</td><td>7/1/2023 0:10</td><td>3158</td><td>39.92552</td><td>-75.16904</td><td>3253</td><td>39.93174</td><td>-75.18996</td><td>11765</td><td> 30</td><td>One Way</td><td>Indego30 </td><td>standard</td></tr>\n",
       "</tbody>\n",
       "</table>\n"
      ],
      "text/latex": [
       "A tibble: 6 × 15\n",
       "\\begin{tabular}{lllllllllllllll}\n",
       " trip\\_id & duration & start\\_time & end\\_time & start\\_station & start\\_lat & start\\_lon & end\\_station & end\\_lat & end\\_lon & bike\\_id & plan\\_duration & trip\\_route\\_category & passholder\\_type & bike\\_type\\\\\n",
       " <dbl> & <dbl> & <chr> & <chr> & <dbl> & <dbl> & <dbl> & <dbl> & <dbl> & <dbl> & <dbl> & <dbl> & <chr> & <chr> & <chr>\\\\\n",
       "\\hline\n",
       "\t 677293140 &  2 & 7/1/2023 0:00 & 7/1/2023 0:02 & 3271 & 39.94760 & -75.22946 & 3246 & 39.94782 & -75.22301 & 25775 &  30 & One Way & Indego30  & electric\\\\\n",
       "\t 677304406 & 27 & 7/1/2023 0:00 & 7/1/2023 0:27 & 3060 & 39.95923 & -75.17036 & 3255 & 39.95095 & -75.16438 & 14583 &  30 & One Way & Indego30  & standard\\\\\n",
       "\t 677304584 & 32 & 7/1/2023 0:00 & 7/1/2023 0:32 & 3057 & 39.96439 & -75.17987 & 3165 & 39.95819 & -75.17820 &  5191 &   1 & One Way & Day Pass  & standard\\\\\n",
       "\t 677302282 &  6 & 7/1/2023 0:00 & 7/1/2023 0:06 & 3038 & 39.94781 & -75.19409 & 3256 & 39.95269 & -75.17779 & 19170 & 365 & One Way & Indego365 & electric\\\\\n",
       "\t 677304444 & 27 & 7/1/2023 0:01 & 7/1/2023 0:28 & 3060 & 39.95923 & -75.17036 & 3255 & 39.95095 & -75.16438 &  5178 &  30 & One Way & Indego30  & standard\\\\\n",
       "\t 677303703 &  9 & 7/1/2023 0:01 & 7/1/2023 0:10 & 3158 & 39.92552 & -75.16904 & 3253 & 39.93174 & -75.18996 & 11765 &  30 & One Way & Indego30  & standard\\\\\n",
       "\\end{tabular}\n"
      ],
      "text/markdown": [
       "\n",
       "A tibble: 6 × 15\n",
       "\n",
       "| trip_id &lt;dbl&gt; | duration &lt;dbl&gt; | start_time &lt;chr&gt; | end_time &lt;chr&gt; | start_station &lt;dbl&gt; | start_lat &lt;dbl&gt; | start_lon &lt;dbl&gt; | end_station &lt;dbl&gt; | end_lat &lt;dbl&gt; | end_lon &lt;dbl&gt; | bike_id &lt;dbl&gt; | plan_duration &lt;dbl&gt; | trip_route_category &lt;chr&gt; | passholder_type &lt;chr&gt; | bike_type &lt;chr&gt; |\n",
       "|---|---|---|---|---|---|---|---|---|---|---|---|---|---|---|\n",
       "| 677293140 |  2 | 7/1/2023 0:00 | 7/1/2023 0:02 | 3271 | 39.94760 | -75.22946 | 3246 | 39.94782 | -75.22301 | 25775 |  30 | One Way | Indego30  | electric |\n",
       "| 677304406 | 27 | 7/1/2023 0:00 | 7/1/2023 0:27 | 3060 | 39.95923 | -75.17036 | 3255 | 39.95095 | -75.16438 | 14583 |  30 | One Way | Indego30  | standard |\n",
       "| 677304584 | 32 | 7/1/2023 0:00 | 7/1/2023 0:32 | 3057 | 39.96439 | -75.17987 | 3165 | 39.95819 | -75.17820 |  5191 |   1 | One Way | Day Pass  | standard |\n",
       "| 677302282 |  6 | 7/1/2023 0:00 | 7/1/2023 0:06 | 3038 | 39.94781 | -75.19409 | 3256 | 39.95269 | -75.17779 | 19170 | 365 | One Way | Indego365 | electric |\n",
       "| 677304444 | 27 | 7/1/2023 0:01 | 7/1/2023 0:28 | 3060 | 39.95923 | -75.17036 | 3255 | 39.95095 | -75.16438 |  5178 |  30 | One Way | Indego30  | standard |\n",
       "| 677303703 |  9 | 7/1/2023 0:01 | 7/1/2023 0:10 | 3158 | 39.92552 | -75.16904 | 3253 | 39.93174 | -75.18996 | 11765 |  30 | One Way | Indego30  | standard |\n",
       "\n"
      ],
      "text/plain": [
       "  trip_id   duration start_time    end_time      start_station start_lat\n",
       "1 677293140  2       7/1/2023 0:00 7/1/2023 0:02 3271          39.94760 \n",
       "2 677304406 27       7/1/2023 0:00 7/1/2023 0:27 3060          39.95923 \n",
       "3 677304584 32       7/1/2023 0:00 7/1/2023 0:32 3057          39.96439 \n",
       "4 677302282  6       7/1/2023 0:00 7/1/2023 0:06 3038          39.94781 \n",
       "5 677304444 27       7/1/2023 0:01 7/1/2023 0:28 3060          39.95923 \n",
       "6 677303703  9       7/1/2023 0:01 7/1/2023 0:10 3158          39.92552 \n",
       "  start_lon end_station end_lat  end_lon   bike_id plan_duration\n",
       "1 -75.22946 3246        39.94782 -75.22301 25775    30          \n",
       "2 -75.17036 3255        39.95095 -75.16438 14583    30          \n",
       "3 -75.17987 3165        39.95819 -75.17820  5191     1          \n",
       "4 -75.19409 3256        39.95269 -75.17779 19170   365          \n",
       "5 -75.17036 3255        39.95095 -75.16438  5178    30          \n",
       "6 -75.16904 3253        39.93174 -75.18996 11765    30          \n",
       "  trip_route_category passholder_type bike_type\n",
       "1 One Way             Indego30        electric \n",
       "2 One Way             Indego30        standard \n",
       "3 One Way             Day Pass        standard \n",
       "4 One Way             Indego365       electric \n",
       "5 One Way             Indego30        standard \n",
       "6 One Way             Indego30        standard "
      ]
     },
     "metadata": {},
     "output_type": "display_data"
    },
    {
     "data": {
      "text/html": [
       "<style>\n",
       ".list-inline {list-style: none; margin:0; padding: 0}\n",
       ".list-inline>li {display: inline-block}\n",
       ".list-inline>li:not(:last-child)::after {content: \"\\00b7\"; padding: 0 .5ex}\n",
       "</style>\n",
       "<ol class=list-inline><li>351189</li><li>15</li></ol>\n"
      ],
      "text/latex": [
       "\\begin{enumerate*}\n",
       "\\item 351189\n",
       "\\item 15\n",
       "\\end{enumerate*}\n"
      ],
      "text/markdown": [
       "1. 351189\n",
       "2. 15\n",
       "\n",
       "\n"
      ],
      "text/plain": [
       "[1] 351189     15"
      ]
     },
     "metadata": {},
     "output_type": "display_data"
    }
   ],
   "source": [
    "library(tidyverse)\n",
    "library(ggformula)\n",
    "\n",
    "theme_set(theme_bw(base_size = 18))\n",
    "\n",
    "temp <- tempfile()\n",
    "download.file(\"https://bicycletransit.wpenginepowered.com/wp-content/uploads/2023/10/indego-trips-2023-q3.zip\", temp)\n",
    "bike <- readr::read_csv(unz(temp, \"indego-trips-2023-q3-2.csv\")) %>%\n",
    "   filter(duration <= 120 & passholder_type != 'Walk-up')\n",
    "unlink(temp)\n",
    "\n",
    "head(bike)\n",
    "dim(bike)"
   ]
  },
  {
   "cell_type": "markdown",
   "metadata": {},
   "source": [
    "Suppose we were interested in the following research questions. \n",
    "\n",
    "+ Does the trip route, type of pass, and bike type explain variation in the duration the bike was rented?\n",
    "\n",
    "Let's explore this descriptively. "
   ]
  },
  {
   "cell_type": "code",
   "execution_count": null,
   "metadata": {
    "vscode": {
     "languageId": "r"
    }
   },
   "outputs": [],
   "source": [
    "gf_density(~ duration, data = bike) %>%\n",
    "  gf_labs(x = \"Duration, in minutes\")"
   ]
  },
  {
   "cell_type": "code",
   "execution_count": null,
   "metadata": {
    "vscode": {
     "languageId": "r"
    }
   },
   "outputs": [],
   "source": [
    "gf_violin(bike_type ~ duration, data = bike, fill = 'gray85', draw_quantiles = c(0.1, 0.5, 0.9)) %>%\n",
    "  gf_labs(x = \"Duration, in minutes\", y = \"\") "
   ]
  },
  {
   "cell_type": "code",
   "execution_count": null,
   "metadata": {
    "vscode": {
     "languageId": "r"
    }
   },
   "outputs": [],
   "source": [
    "gf_violin(passholder_type ~ duration, data = bike, fill = 'gray85', draw_quantiles = c(0.1, 0.5, 0.9)) %>%\n",
    "  gf_labs(x = \"Duration, in minutes\", y = \"\") "
   ]
  },
  {
   "cell_type": "code",
   "execution_count": null,
   "metadata": {
    "vscode": {
     "languageId": "r"
    }
   },
   "outputs": [],
   "source": [
    "gf_violin(trip_route_category ~ duration, data = bike, fill = 'gray85', draw_quantiles = c(0.1, 0.5, 0.9)) %>%\n",
    "  gf_labs(x = \"Duration, in minutes\", y = \"\") "
   ]
  },
  {
   "cell_type": "markdown",
   "metadata": {},
   "source": [
    "## Regression model with multiple categorical predictors\n",
    "\n",
    "Similar to multiple linear regression, including multiple categorical predictors is similar to that case. The simplest model is the additive model, also commonly referred to as the main effect model. Let's start with two categorical attributes that take on two different values. \n",
    "\n",
    "$$\n",
    "duration = \\beta_{0} + \\beta_{1} bike\\_type + \\beta_{2} trip\\_route\\_category + \\epsilon\n",
    "$$"
   ]
  },
  {
   "cell_type": "code",
   "execution_count": null,
   "metadata": {
    "vscode": {
     "languageId": "r"
    }
   },
   "outputs": [],
   "source": [
    "bike_lm <- lm(duration ~ bike_type + trip_route_category, data = bike)\n",
    "\n",
    "broom::glance(bike_lm)\n",
    "broom::tidy(bike_lm) |>\n",
    "  mutate_if(is.double, round, 3)"
   ]
  },
  {
   "cell_type": "code",
   "execution_count": null,
   "metadata": {
    "vscode": {
     "languageId": "r"
    }
   },
   "outputs": [],
   "source": [
    "two_way_predict <- broom::augment(bike_lm) %>%\n",
    "   distinct(bike_type, trip_route_category, .fitted)\n",
    "\n",
    "two_way_predict"
   ]
  },
  {
   "cell_type": "code",
   "execution_count": null,
   "metadata": {
    "vscode": {
     "languageId": "r"
    }
   },
   "outputs": [],
   "source": [
    "mean_duration <- df_stats(duration ~ bike_type + trip_route_category, data =bike, mean, length)\n",
    "mean_duration"
   ]
  },
  {
   "cell_type": "code",
   "execution_count": null,
   "metadata": {
    "vscode": {
     "languageId": "r"
    }
   },
   "outputs": [],
   "source": [
    "gf_point(.fitted ~ bike_type, color = ~ trip_route_category, data = two_way_predict, size = 5) %>%\n",
    "  gf_line(size = 1.5, group = ~ trip_route_category) %>%\n",
    "  gf_labs(x = \"\", y = \"Model Predicted Values\", color = 'Trip Route') %>%\n",
    "  gf_point(mean ~ bike_type, color = ~ trip_route_category, data = mean_duration, shape = 15, size = 5)"
   ]
  },
  {
   "cell_type": "markdown",
   "metadata": {},
   "source": [
    "Back to the coefficients to really understand what these are."
   ]
  },
  {
   "cell_type": "code",
   "execution_count": null,
   "metadata": {
    "vscode": {
     "languageId": "r"
    }
   },
   "outputs": [],
   "source": [
    "broom::tidy(bike_lm) |>\n",
    "  mutate_if(is.double, round, 3)"
   ]
  },
  {
   "cell_type": "markdown",
   "metadata": {},
   "source": [
    "+ *Intercept*: The average bike rental duration for the reference group (electric bikes and one-way trips). \n",
    "+ *bike_typestandard*: This is like a slope, so for a one unit change in bike type (ie, moving from an electric bike to a standard bike), the estimated mean change in bike duration decreased by 0.375 minutes, holding other attributes constant.\n",
    "+ *trip_route_categoryRound Trip*: This is again like a slope, for a one unit change in trip route (ie, moving from a one-way trip to a round trip), the estimated mean change in bike duraction increased by 7.246 minutes, holder other attributes constant.\n",
    "\n",
    "These are like weighted marginal means, where the weighting is occuring due to different sample sizes among the groups. "
   ]
  },
  {
   "cell_type": "code",
   "execution_count": null,
   "metadata": {
    "vscode": {
     "languageId": "r"
    }
   },
   "outputs": [],
   "source": [
    "count(bike, bike_type, trip_route_category)"
   ]
  },
  {
   "cell_type": "code",
   "execution_count": null,
   "metadata": {
    "vscode": {
     "languageId": "r"
    }
   },
   "outputs": [],
   "source": [
    "df_stats(duration ~ bike_type + trip_route_category, data = bike, mean) %>%\n",
    "  pivot_wider(names_from = 'trip_route_category', values_from = \"mean\")"
   ]
  },
  {
   "cell_type": "markdown",
   "metadata": {},
   "source": [
    "### Interaction Model\n",
    "\n",
    "The interaction model expands on the main effect only model, by allowing the effect of one category to differ based on elements of the other category. One way to think about this in the case with two categorical attributes, is that the mean change differs based on levels of the second attribute. This model, in the case where the attributes are each two groups, adds one additional term.\n",
    "\n",
    "$$\n",
    "duration = \\beta_{0} + \\beta_{1} bike\\_type + \\beta_{2} trip\\_route\\_category + \\beta_{3} bike\\_type:trip\\_route\\_category + \\epsilon\n",
    "$$"
   ]
  },
  {
   "cell_type": "code",
   "execution_count": null,
   "metadata": {
    "vscode": {
     "languageId": "r"
    }
   },
   "outputs": [],
   "source": [
    "bike_lm_int <- lm(duration ~ bike_type + trip_route_category + bike_type:trip_route_category, data = bike)\n",
    "\n",
    "broom::glance(bike_lm_int)\n",
    "broom::tidy(bike_lm_int)  |>\n",
    "  mutate_if(is.double, round, 3)"
   ]
  },
  {
   "cell_type": "code",
   "execution_count": null,
   "metadata": {
    "vscode": {
     "languageId": "r"
    }
   },
   "outputs": [],
   "source": [
    "two_way_predict_int <- broom::augment(bike_lm_int) %>%\n",
    "   distinct(bike_type, trip_route_category, .fitted)\n",
    "\n",
    "two_way_predict_int"
   ]
  },
  {
   "cell_type": "code",
   "execution_count": null,
   "metadata": {
    "vscode": {
     "languageId": "r"
    }
   },
   "outputs": [],
   "source": [
    "gf_point(.fitted ~ bike_type, color = ~ trip_route_category, data = two_way_predict_int, size = 5) %>%\n",
    "  gf_line(size = 1.5, group = ~ trip_route_category) %>%\n",
    "  gf_labs(x = \"\", y = \"Model Predicted Values\", color = 'Trip Route') %>%\n",
    "  gf_point(mean ~ bike_type, color = ~ trip_route_category, data = mean_duration, shape = 15, size = 5)"
   ]
  },
  {
   "cell_type": "markdown",
   "metadata": {},
   "source": [
    "Back to the coefficients and what do these mean here. "
   ]
  },
  {
   "cell_type": "code",
   "execution_count": null,
   "metadata": {
    "vscode": {
     "languageId": "r"
    }
   },
   "outputs": [],
   "source": [
    "broom::tidy(bike_lm_int)  |>\n",
    "  mutate_if(is.double, round, 3)"
   ]
  },
  {
   "cell_type": "markdown",
   "metadata": {},
   "source": [
    "+ *Intercept*: The average bike rental duration for the reference group (electric bikes and one-way trips). \n",
    "+ *bike_typestandard*: This is like a slope, so for a one unit change in bike type (ie, moving from an electric bike to a standard bike), the estimated mean change in bike duration decreased by .05 minutes, holding other attributes constant.\n",
    "+ *trip_route_categoryRound Trip*: This is again like a slope, for a one unit change in trip route (ie, moving from a one-way trip to a round trip), the estimated mean change in bike duraction increased by 4.3 minutes, holder other attributes constant.\n",
    "+ *bike_typestandard:trip_route_categoryRound Trip*: This is the interaction effect and is the **additional** mean level change for standard bikes *and* round trips, holding other attributes constant.\n",
    "\n",
    "We can get the estimated means for the 4 groups as follows:\n",
    "\n",
    "$$\n",
    "\\hat{\\mu}_{elec-1way} = 15.2\n",
    "$$\n",
    "$$\n",
    "\\hat{\\mu}_{elec-RT} = 15.2 + 4.3\n",
    "$$\n",
    "$$\n",
    "\\hat{\\mu}_{stand-1way} = 15.2 - .05\n",
    "$$\n",
    "$$\n",
    "\\hat{\\mu}_{stand-RT} = 15.2 - 0.05 + 4.3 + 4.7\n",
    "$$\n",
    "\n",
    "### Example\n",
    "\n",
    "What about the example with two categorical attributes bike type and passholder type? Fit this model below and interpret the parameter estimates, both one without and with interaction effects. "
   ]
  },
  {
   "cell_type": "code",
   "execution_count": null,
   "metadata": {
    "vscode": {
     "languageId": "r"
    }
   },
   "outputs": [],
   "source": []
  },
  {
   "cell_type": "markdown",
   "metadata": {},
   "source": [
    "## Second order (three-way) interaction\n",
    "\n",
    "The more attributes that interact with one another makes the model more complicated and difficult to interpret. Still, let's try a second order or three way interaction. "
   ]
  },
  {
   "cell_type": "code",
   "execution_count": null,
   "metadata": {
    "vscode": {
     "languageId": "r"
    }
   },
   "outputs": [],
   "source": [
    "bike_lm_3way <- lm(duration ~ bike_type * trip_route_category * passholder_type, data = bike)\n",
    "\n",
    "broom::glance(bike_lm_3way)\n",
    "broom::tidy(bike_lm_3way) |>\n",
    "  mutate_if(is.double, round, 3)"
   ]
  },
  {
   "cell_type": "markdown",
   "metadata": {},
   "source": [
    "Interpreting these coefficients can be challenging, visualizing them can be a more effective way to undersand the impact these may have. The following steps will be used to visualize these model results:\n",
    "\n",
    "1. Generate model-implied or predicted values for each combination of model values\n",
    "2. Plot those model implied means"
   ]
  },
  {
   "cell_type": "code",
   "execution_count": null,
   "metadata": {
    "vscode": {
     "languageId": "r"
    }
   },
   "outputs": [],
   "source": [
    "three_way_predict_int <- broom::augment(bike_lm_3way) %>%\n",
    "   distinct(bike_type, trip_route_category, passholder_type, .fitted)\n",
    "\n",
    "three_way_predict_int"
   ]
  },
  {
   "cell_type": "code",
   "execution_count": null,
   "metadata": {
    "vscode": {
     "languageId": "r"
    }
   },
   "outputs": [],
   "source": [
    "gf_point(.fitted ~ bike_type, color = ~ trip_route_category, data = three_way_predict_int, size = 5) %>%\n",
    "  gf_line(size = 1.5, group = ~ trip_route_category) %>%\n",
    "  gf_facet_wrap(~ passholder_type) %>%\n",
    "  gf_labs(y = \"\", x = \"Model Predicted Values\", color = 'Trip Route')"
   ]
  }
 ],
 "metadata": {
  "kernelspec": {
   "display_name": "R",
   "language": "R",
   "name": "ir"
  },
  "language_info": {
   "codemirror_mode": "r",
   "file_extension": ".r",
   "mimetype": "text/x-r-source",
   "name": "R",
   "pygments_lexer": "r",
   "version": "4.3.0"
  },
  "orig_nbformat": 4
 },
 "nbformat": 4,
 "nbformat_minor": 2
}
