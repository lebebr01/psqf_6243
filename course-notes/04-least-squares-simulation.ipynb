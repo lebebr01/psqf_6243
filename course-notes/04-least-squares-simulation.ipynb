{
 "cells": [
  {
   "cell_type": "markdown",
   "metadata": {},
   "source": [
    "## Example to show least squares minimization\n",
    "\n",
    "This little example is meant as a way to show the least square really minimizes the criterion, $ \\sum \\left( Y - \\hat{Y} \\right)^2 $.\n",
    "\n",
    "In this example, we will generate some data so that we know what the truth is. Then, upon data generation, we will compute a bunch of different values for the linear slope and y-intercept. For each combination of the y-intercept and slope, I will compute the sum of squares error depicted above. \n",
    "\n",
    "\n",
    "### Simulate some data\n",
    "\n",
    "The following example simulates data based on the following linear regression formula:\n",
    "\n",
    "$$\n",
    "Y = 5 + 0.5 X + \\epsilon\n",
    "$$\n",
    "\n",
    "More explicitly, the simulation allows us to specify what the intercept and slope is in the population. These are specified below in the `reg_weights` simulation argument. "
   ]
  },
  {
   "cell_type": "code",
   "execution_count": null,
   "metadata": {
    "vscode": {
     "languageId": "r"
    }
   },
   "outputs": [],
   "source": [
    "library(tidyverse)\n",
    "library(simglm)\n",
    "\n",
    "theme_set(theme_bw(base_size = 18))\n",
    "\n",
    "set.seed(2023)\n",
    "\n",
    "sim_arguments <- list(\n",
    "    formula = y ~ x,\n",
    "    fixed = list(x = list(var_type = 'continuous', mean = 100, sd = 20)),\n",
    "    error = list(variance = 100),\n",
    "    sample_size = 1000,\n",
    "    reg_weights = c(5, .5)\n",
    ")\n",
    "\n",
    "sim_data <- simulate_fixed(data = NULL, sim_arguments) |>\n",
    "  simulate_error(sim_arguments) |>\n",
    "  generate_response(sim_arguments)\n",
    "\n",
    "head(sim_data)"
   ]
  },
  {
   "cell_type": "markdown",
   "metadata": {},
   "source": [
    "### Visualize the Simulated Data\n",
    "\n",
    "The following code visualizes the simulated data from above. What would you estimate the correlation to be? "
   ]
  },
  {
   "cell_type": "code",
   "execution_count": null,
   "metadata": {
    "vscode": {
     "languageId": "r"
    }
   },
   "outputs": [],
   "source": [
    "library(ggformula)\n",
    "\n",
    "gf_point(y ~ x, data = sim_data, size = 4) |>\n",
    "  gf_smooth(method = 'lm')"
   ]
  },
  {
   "cell_type": "markdown",
   "metadata": {},
   "source": [
    "### Estimate Regression Coefficients\n",
    "\n",
    "Even though we know what truth is, there is error involved in the simulation process, therefore, the population values specified above will not equal the exact regression coefficients estimated. Below, we estimate what those regression coefficients are. "
   ]
  },
  {
   "cell_type": "code",
   "execution_count": null,
   "metadata": {
    "vscode": {
     "languageId": "r"
    }
   },
   "outputs": [],
   "source": [
    "sim_lm <- lm (y ~ x, data = sim_data)\n",
    "coef(sim_lm)"
   ]
  },
  {
   "cell_type": "markdown",
   "metadata": {},
   "source": [
    "### Create different combinations of intercept and slope coefficients\n",
    "\n",
    "The following code generates a sequence of intercept and corresponding slope conditions. We will use these different values to estimate the sum of squares error shown at the top of the notes for each of these intercept and slope values to show that the regression estimates are optimal to minimize the sum of square error. "
   ]
  },
  {
   "cell_type": "code",
   "execution_count": null,
   "metadata": {
    "vscode": {
     "languageId": "r"
    }
   },
   "outputs": [],
   "source": [
    "y_intercept <- seq(0, 15, by = .25)\n",
    "slope <- seq(0, 1.5, by = .01)\n",
    "\n",
    "conditions <- rbind(expand.grid(y_intercept = y_intercept, \n",
    "                          slope = slope),\n",
    "                          coef(sim_lm))\n",
    "\n",
    "tail(conditions)\n",
    "dim(conditions)"
   ]
  },
  {
   "cell_type": "markdown",
   "metadata": {},
   "source": [
    "### Showing Two Combinations\n",
    "\n",
    "Here we visualize two possible slope conditions. Which one seems better for the data? "
   ]
  },
  {
   "cell_type": "code",
   "execution_count": null,
   "metadata": {
    "vscode": {
     "languageId": "r"
    }
   },
   "outputs": [],
   "source": [
    "gf_point(y ~ x, data = sim_data, size = 4) |>\n",
    "  gf_smooth(method = 'lm') |>\n",
    "  gf_abline(slope = ~slope, intercept = ~y_intercept, data = slice(conditions, 1), linetype = 2, size = 2) |>\n",
    "  gf_abline(slope = ~slope, intercept = ~y_intercept, data = slice(conditions, 855), linetype = 2, color = 'lightgreen', size = 2) |>\n",
    "  gf_refine(coord_cartesian(xlim = c(0, 160), ylim = c(0, 120)))\n",
    "\n"
   ]
  },
  {
   "cell_type": "markdown",
   "metadata": {},
   "source": [
    "### Compute Sum of Squares Error\n",
    "\n",
    "The following code creates a new function that computes the sum of square error. The function takes two arguments, the combination of intercept and slope values and the simulated data. The output is the sigma or average error from the regression line. The first code chunk below performs the computation for a single condition. The second code chunk does it for all of the conditions. "
   ]
  },
  {
   "cell_type": "code",
   "execution_count": null,
   "metadata": {
    "vscode": {
     "languageId": "r"
    }
   },
   "outputs": [],
   "source": [
    "sum_square_error <- function(conditions, sim_data) {\n",
    "    fitted <- conditions[['y_intercept']] + conditions[['slope']] * sim_data[['x']]\n",
    "\n",
    "    deviation <- sim_data[['y']] - fitted\n",
    "\n",
    "    sqrt((sum(deviation^2) / (nrow(sim_data) - 2)))\n",
    "}\n",
    "\n",
    "sum_square_error(conditions[1892, ], sim_data)\n",
    "summary(sim_lm)$sigma"
   ]
  },
  {
   "cell_type": "code",
   "execution_count": null,
   "metadata": {
    "vscode": {
     "languageId": "r"
    }
   },
   "outputs": [],
   "source": [
    "library(future)\n",
    "\n",
    "plan(multicore)\n",
    "\n",
    "conditions$sse <- unlist(lapply(1:nrow(conditions), function(xx) sum_square_error(conditions[xx, ], sim_data)))\n",
    "\n",
    "head(conditions)"
   ]
  }
 ],
 "metadata": {
  "kernelspec": {
   "display_name": "R",
   "language": "R",
   "name": "ir"
  },
  "language_info": {
   "codemirror_mode": "r",
   "file_extension": ".r",
   "mimetype": "text/x-r-source",
   "name": "R",
   "pygments_lexer": "r",
   "version": "4.3.0"
  },
  "orig_nbformat": 4
 },
 "nbformat": 4,
 "nbformat_minor": 2
}
