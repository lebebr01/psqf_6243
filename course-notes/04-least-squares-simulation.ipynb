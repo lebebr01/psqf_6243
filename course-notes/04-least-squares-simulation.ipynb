{
 "cells": [
  {
   "cell_type": "markdown",
   "source": [
    "## Example to show least squares minimization\n",
    "\n",
    "This little example is meant as a way to show the least square really minimizes the criterion, $ \\sum \\left( Y - \\hat{Y} \\right)^2 $.\n",
    "\n",
    "In this example, we will generate some data so that we know what the truth is. Then, upon data generation, we will compute a bunch of different values for the linear slope and y-intercept. For each combination of the y-intercept and slope, I will compute the sum of squares error depicted above. "
   ],
   "metadata": {}
  },
  {
   "cell_type": "code",
   "execution_count": null,
   "source": [
    "library(tidyverse)\n",
    "library(simglm)\n",
    "\n",
    "theme_set(theme_bw(base_size = 18))\n",
    "\n",
    "set.seed(2021)\n",
    "\n",
    "sim_arguments <- list(\n",
    "    formula = y ~ x,\n",
    "    fixed = list(x = list(var_type = 'continuous', mean = 100, sd = 20)),\n",
    "    error = list(variance = 100),\n",
    "    sample_size = 1000,\n",
    "    reg_weights = c(5, .5)\n",
    ")\n",
    "\n",
    "sim_data <- simulate_fixed(data = NULL, sim_arguments) %>%\n",
    "  simulate_error(sim_arguments) %>%\n",
    "  generate_response(sim_arguments)\n",
    "\n",
    "head(sim_data)"
   ],
   "outputs": [],
   "metadata": {}
  },
  {
   "cell_type": "code",
   "execution_count": null,
   "source": [
    "library(ggformula)\n",
    "\n",
    "gf_point(y ~ x, data = sim_data, size = 4) %>%\n",
    "  gf_smooth(method = 'lm')"
   ],
   "outputs": [],
   "metadata": {}
  },
  {
   "cell_type": "code",
   "execution_count": null,
   "source": [
    "sim_lm <- lm (y ~ x, data = sim_data)\n",
    "coef(sim_lm)"
   ],
   "outputs": [],
   "metadata": {}
  },
  {
   "cell_type": "code",
   "execution_count": null,
   "source": [
    "y_intercept <- seq(0, 15, by = .25)\n",
    "slope <- seq(0, 1.5, by = .01)\n",
    "\n",
    "conditions <- rbind(expand.grid(y_intercept = y_intercept, \n",
    "                          slope = slope),\n",
    "                          coef(sim_lm))\n",
    "\n",
    "tail(conditions)\n",
    "dim(conditions)"
   ],
   "outputs": [],
   "metadata": {}
  },
  {
   "cell_type": "code",
   "execution_count": null,
   "source": [
    "gf_point(y ~ x, data = sim_data, size = 4) %>%\n",
    "  gf_smooth(method = 'lm') %>%\n",
    "  gf_abline(slope = ~slope, intercept = ~y_intercept, data = slice(conditions, 1), linetype = 2, size = 2) %>%\n",
    "  gf_abline(slope = ~slope, intercept = ~y_intercept, data = slice(conditions, 855), linetype = 2, color = 'lightgreen', size = 2) %>%\n",
    "  gf_refine(coord_cartesian(xlim = c(0, 160), ylim = c(0, 120)))\n",
    "\n"
   ],
   "outputs": [],
   "metadata": {}
  },
  {
   "cell_type": "code",
   "execution_count": null,
   "source": [
    "sum_square_error <- function(conditions, sim_data) {\n",
    "    fitted <- conditions[['y_intercept']] + conditions[['slope']] * sim_data[['x']]\n",
    "\n",
    "    deviation <- sim_data[['y']] - fitted\n",
    "\n",
    "    sqrt((sum(deviation^2) / (nrow(sim_data) - 2)))\n",
    "}\n",
    "\n",
    "sum_square_error(conditions[1892, ], sim_data)\n",
    "summary(sim_lm)$sigma"
   ],
   "outputs": [],
   "metadata": {}
  },
  {
   "cell_type": "code",
   "execution_count": null,
   "source": [
    "library(future)\n",
    "\n",
    "plan(multicore)\n",
    "\n",
    "conditions$sse <- unlist(lapply(1:nrow(conditions), function(xx) sum_square_error(conditions[xx, ], sim_data)))\n",
    "\n",
    "head(conditions)"
   ],
   "outputs": [],
   "metadata": {}
  }
 ],
 "metadata": {
  "orig_nbformat": 4,
  "language_info": {
   "name": "R",
   "codemirror_mode": "r",
   "pygments_lexer": "r",
   "mimetype": "text/x-r-source",
   "file_extension": ".r",
   "version": "4.1.0"
  },
  "kernelspec": {
   "name": "ir",
   "display_name": "R",
   "language": "R"
  }
 },
 "nbformat": 4,
 "nbformat_minor": 2
}