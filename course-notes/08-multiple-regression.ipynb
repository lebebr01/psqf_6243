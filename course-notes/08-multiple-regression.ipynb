{
 "cells": [
  {
   "cell_type": "markdown",
   "metadata": {},
   "source": [
    "# Multiple Regression\n",
    "\n",
    "So far, the course has considered a single continuous predictor attribute. That is, in the following equation, we have only considered a single $X$ attribute.\n",
    "\n",
    "$$\n",
    "Y = \\beta_{0} + \\beta_{1} X + \\epsilon\n",
    "$$\n",
    "\n",
    "However, there are many situations where we would want more than one predictor attribute in the data. We can simply add another predictor attribute and this would look like the following regression equation. \n",
    "\n",
    "$$\n",
    "Y = \\beta_{0} + \\beta_{1} X_{1} + \\beta_{2} X_{2} + \\epsilon\n",
    "$$\n",
    "\n",
    "where $X_{1}$ and $X_{2}$ are two different predictors attributes. Let's dive right into some data to explore this a bit more. "
   ]
  },
  {
   "cell_type": "markdown",
   "metadata": {},
   "source": [
    "## Data\n",
    "\n",
    "For this portion, using data from the college scorecard representing information about higher education institutions. "
   ]
  },
  {
   "cell_type": "code",
   "execution_count": null,
   "metadata": {},
   "outputs": [],
   "source": [
    "library(tidyverse)\n",
    "library(ggformula)\n",
    "\n",
    "theme_set(theme_bw(base_size = 18))\n",
    "\n",
    "college <- read_csv(\"https://raw.githubusercontent.com/lebebr01/statthink/main/data-raw/College-scorecard-4143.csv\")\n",
    "\n",
    "head(college)"
   ]
  },
  {
   "cell_type": "markdown",
   "metadata": {},
   "source": [
    "## Question\n",
    "\n",
    "Suppose we were interested in exploring admission rates and which attributes helped to explain variation in admission rates. "
   ]
  },
  {
   "cell_type": "code",
   "execution_count": null,
   "metadata": {},
   "outputs": [],
   "source": [
    "gf_density(~ adm_rate, data = college) %>%\n",
    "  gf_labs(x = \"Admission Rate\")"
   ]
  },
  {
   "cell_type": "code",
   "execution_count": null,
   "metadata": {},
   "outputs": [],
   "source": [
    "gf_point(adm_rate ~ actcmmid, data = college) %>%\n",
    "  gf_smooth(method = 'loess') %>%\n",
    "  gf_labs(x = \"Median ACT Score\",\n",
    "          y = \"Admission Rate\")"
   ]
  },
  {
   "cell_type": "code",
   "execution_count": null,
   "metadata": {},
   "outputs": [],
   "source": [
    "library(GGally)\n",
    "\n",
    "ggpairs(college[c('adm_rate', 'actcmmid', 'costt4_a')])"
   ]
  },
  {
   "cell_type": "markdown",
   "metadata": {},
   "source": [
    "Let's now fit a multiple regression model. "
   ]
  },
  {
   "cell_type": "code",
   "execution_count": null,
   "metadata": {},
   "outputs": [],
   "source": [
    "adm_mult_reg <- lm(adm_rate ~ actcmmid + costt4_a, data = college)\n",
    "\n",
    "summary(adm_mult_reg)"
   ]
  },
  {
   "cell_type": "markdown",
   "metadata": {},
   "source": [
    "This model is now the following form:\n",
    "\n",
    "$$\n",
    "Admission\\ Rate = 1.1 + -0.017 ACT + -0.000002 cost + \\epsilon\n",
    "$$\n",
    "\n",
    "1. Why are these parameter estimates so small? \n",
    "2. How well is the overall model doing? \n",
    "3. Are both terms important in understanding variation in admission rates? How can you tell?"
   ]
  },
  {
   "cell_type": "markdown",
   "metadata": {},
   "source": [
    "## Variance decomposition\n",
    "\n",
    "Ultimately, multiple regression is a decomposition of variance. Recall, \n",
    "\n",
    "$$ \n",
    "\\sum (Y - \\bar{Y})^2 =  \\sum (\\hat{Y} - \\bar{Y})^2 + \\sum (Y - \\hat{Y})^2  \\\\[10pt]\n",
    "SS_{Total} = SS_{Regression} + SS_{Error}\n",
    "$$\n",
    "\n",
    "Multiple regression still does this, but now, there are two attributes going into helping explain variation in the regression portion of the variance decomposition. How is this variance decomposed by default? For linear regression, the variance decomposition is commonly done using type I sum of square decomposition. What does this mean? Essentially, this means that additional terms are added to determine if they help explain variation over and above the other terms in the model. This is a conditional variance added. For example, given the model above, the variance decomposition could be broken down into the following.\n",
    "\n",
    "$$\n",
    "SS_{Total} = SS_{Regression} + SS_{Error}   \\\\[10pt]\n",
    "SS_{Total} = SS_{X_{1}} + SS_{X_{2} | X_{1}} + SS_{Error}\n",
    "$$"
   ]
  },
  {
   "cell_type": "code",
   "execution_count": null,
   "metadata": {},
   "outputs": [],
   "source": [
    "act_lm <- lm(adm_rate ~ actcmmid, data = college)\n",
    "\n",
    "summary(act_lm)"
   ]
  },
  {
   "cell_type": "code",
   "execution_count": null,
   "metadata": {},
   "outputs": [],
   "source": [
    "anova(act_lm)\n",
    "anova(adm_mult_reg)"
   ]
  },
  {
   "cell_type": "code",
   "execution_count": null,
   "metadata": {},
   "outputs": [],
   "source": [
    "cost_lm <- lm(adm_rate ~ costt4_a, data = college)\n",
    "\n",
    "summary(cost_lm)\n",
    "anova(cost_lm)"
   ]
  }
 ],
 "metadata": {
  "kernelspec": {
   "display_name": "R",
   "language": "R",
   "name": "ir"
  },
  "language_info": {
   "codemirror_mode": "r",
   "file_extension": ".r",
   "mimetype": "text/x-r-source",
   "name": "R",
   "pygments_lexer": "r",
   "version": "4.1.0"
  },
  "orig_nbformat": 4
 },
 "nbformat": 4,
 "nbformat_minor": 2
}
