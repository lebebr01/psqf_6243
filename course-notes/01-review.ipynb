{
 "cells": [
  {
   "cell_type": "markdown",
   "source": [
    "# Review for PSQF 6243\n",
    "\n",
    "This serves as a non-exhaustive review for the course. These are elements that I assume you have knowledge of prior to starting the course. \n",
    "\n",
    "+ Variable vs constant attributes\n",
    "+ Types of variables (ie., nominal, ordinal, integer, ratio)\n",
    "+ Descriptive Statistics (eg., mean, median, standard deviation, variance, percentiles)\n",
    "+ Higher order moments (eg., skewness and kurtosis)\n",
    "+ Exploring/summarizing univariate distributions (eg., histogram or density figure)\n",
    "+ What is a statistical model? Why do we use them?\n",
    "+ Population vs Sample\n",
    "\n",
    "\n",
    "## Examples\n",
    "\n",
    "Mario Kart 64 world record data:\n",
    "\n",
    "| variable         | class     | description                     |\n",
    "|:-----------------|:----------|:--------------------------------|\n",
    "| track            | character | Track name                      |\n",
    "| type             | factor    | Single or three lap record      |\n",
    "| shortcut         | factor    | Shortcut or non-shortcut record |\n",
    "| player           | character | Player’s name                   |\n",
    "| system_played    | character | Used system (NTSC or PAL)       |\n",
    "| date             | date      | World record date               |\n",
    "| time_period      | period    | Time as `hms` period            |\n",
    "| time             | double    | Time in seconds                 |\n",
    "| record_duration  | double    | Record duration in days         |"
   ],
   "metadata": {}
  },
  {
   "cell_type": "code",
   "execution_count": null,
   "source": [
    "# load some libraries\n",
    "library(tidyverse)\n",
    "library(ggformula)\n",
    "library(lubridate)\n",
    "library(mosaic)\n",
    "library(e1071)\n",
    "\n",
    "theme_set(theme_bw(base_size = 18))\n",
    "\n",
    "# load in some data\n",
    "mariokart <- readr::read_csv('https://raw.githubusercontent.com/rfordatascience/tidytuesday/master/data/2021/2021-05-25/records.csv') %>%\n",
    "    mutate(year = year(date),\n",
    "           month = month(date),\n",
    "           day = month(date))\n",
    "\n",
    "head(mariokart)"
   ],
   "outputs": [],
   "metadata": {}
  },
  {
   "cell_type": "code",
   "execution_count": null,
   "source": [
    "# univariate distribution of time\n",
    "gf_histogram(~ time, data = mariokart, bins = 30) %>% \n",
    "   gf_labs(x = \"Time (in seconds)\")"
   ],
   "outputs": [],
   "metadata": {}
  },
  {
   "cell_type": "code",
   "execution_count": null,
   "source": [
    "gf_density(~ time, data = mariokart) %>% \n",
    "   gf_labs(x = \"Time (in seconds)\")"
   ],
   "outputs": [],
   "metadata": {}
  },
  {
   "cell_type": "code",
   "execution_count": null,
   "source": [
    "df_stats(~ time, data = mariokart, mean, median, sd, skewness, kurtosis, quantile(probs = c(0.1, 0.5, 0.9)))"
   ],
   "outputs": [],
   "metadata": {}
  },
  {
   "cell_type": "markdown",
   "source": [
    "# Bivariate Association"
   ],
   "metadata": {}
  },
  {
   "cell_type": "code",
   "execution_count": null,
   "source": [
    "cor(time ~ record_duration, data = mariokart)"
   ],
   "outputs": [],
   "metadata": {}
  },
  {
   "cell_type": "code",
   "execution_count": null,
   "source": [
    "gf_point(time ~ record_duration, data = mariokart) %>%\n",
    "  gf_labs(x = \"How long the record was held\",\n",
    "          y = \"Time (in seconds)\")"
   ],
   "outputs": [],
   "metadata": {}
  },
  {
   "cell_type": "markdown",
   "source": [
    "## Questions\n",
    "1. What is problematic about the analyses above? Why?\n",
    "2. What could be done to improve the analyses above?"
   ],
   "metadata": {}
  }
 ],
 "metadata": {
  "orig_nbformat": 4,
  "language_info": {
   "name": "R",
   "codemirror_mode": "r",
   "pygments_lexer": "r",
   "mimetype": "text/x-r-source",
   "file_extension": ".r",
   "version": "4.1.0"
  },
  "kernelspec": {
   "name": "ir",
   "display_name": "R",
   "language": "R"
  }
 },
 "nbformat": 4,
 "nbformat_minor": 2
}