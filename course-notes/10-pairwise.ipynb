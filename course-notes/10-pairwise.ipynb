{
 "cells": [
  {
   "cell_type": "markdown",
   "metadata": {},
   "source": [
    "# More details on pairwise contrasts\n",
    "\n",
    "Last week the idea of pairwise contrasts were introduced. Here is a more formal discussion of pairwise contrasts and controlling of familywise type I error rates. \n",
    "\n",
    "## Bonferroni Method\n",
    "\n",
    "This method is introduced first, primarily due to its simplicity. This is not the best measure to use however as will be discussed below. The Bonferroni method makes the following adjustment:\n",
    "\n",
    "$$ \n",
    "\\alpha_{new} = \\frac{\\alpha}{m}\n",
    "$$\n",
    "\n",
    "Where $m$ is the number of hypotheses being tested. Let's use a specific example to frame this based on the baseball data. "
   ]
  },
  {
   "cell_type": "code",
   "execution_count": null,
   "metadata": {
    "vscode": {
     "languageId": "r"
    }
   },
   "outputs": [],
   "source": [
    "library(tidyverse)\n",
    "library(Lahman)\n",
    "library(ggformula)\n",
    "\n",
    "theme_set(theme_bw(base_size = 18))\n",
    "\n",
    "career <- Batting %>%\n",
    "  filter(AB > 100) %>%\n",
    "  anti_join(Pitching, by = \"playerID\") %>%\n",
    "  filter(yearID > 1990) %>%\n",
    "  group_by(playerID, lgID) %>%\n",
    "  summarise(H = sum(H), AB = sum(AB)) %>%\n",
    "  mutate(average = H / AB)\n",
    "\n",
    "career <- Appearances %>%\n",
    "  filter(yearID > 1990) %>%\n",
    "  select(-GS, -G_ph, -G_pr, -G_batting, -G_defense, -G_p, -G_lf, -G_cf, -G_rf) %>%\n",
    "  rowwise() %>%\n",
    "  mutate(g_inf = sum(c_across(G_1b:G_ss))) %>%\n",
    "  select(-G_1b, -G_2b, -G_3b, -G_ss) %>%\n",
    "  group_by(playerID, lgID) %>%\n",
    "  summarise(catcher = sum(G_c),\n",
    "            outfield = sum(G_of),\n",
    "            dh = sum(G_dh),\n",
    "            infield = sum(g_inf),\n",
    "            total_games = sum(G_all)) %>%\n",
    "  pivot_longer(catcher:infield,\n",
    "               names_to = \"position\") %>%\n",
    "  filter(value > 0) %>%\n",
    "  group_by(playerID, lgID) %>%\n",
    "  slice_max(value) %>%\n",
    "  select(playerID, lgID, position) %>%\n",
    "  inner_join(career)\n",
    "\n",
    "career <- People %>%\n",
    "  tbl_df() %>%\n",
    "  dplyr::select(playerID, nameFirst, nameLast) %>%\n",
    "  unite(name, nameFirst, nameLast, sep = \" \") %>%\n",
    "  inner_join(career, by = \"playerID\")\n",
    "\n",
    "career <- career %>%\n",
    "  mutate(league_dummy = ifelse(lgID == 'NL', 1, 0))\n",
    "\n",
    "head(career)"
   ]
  },
  {
   "cell_type": "code",
   "execution_count": null,
   "metadata": {
    "vscode": {
     "languageId": "r"
    }
   },
   "outputs": [],
   "source": [
    "\n",
    "position_lm <- lm(average ~ 1 + position, data = career)\n",
    "\n",
    "broom::tidy(position_lm)"
   ]
  },
  {
   "cell_type": "code",
   "execution_count": null,
   "metadata": {
    "vscode": {
     "languageId": "r"
    }
   },
   "outputs": [],
   "source": [
    "count(career, position)"
   ]
  },
  {
   "cell_type": "markdown",
   "metadata": {},
   "source": [
    "Given that there are 4 groups, if all pairwise comparisons were of interest, the following would be all possible **NULL** hypotheses. Note, I am assuming that each of these has a matching alternative hypothesis that states the groups differences are *different* from 0.\n",
    "\n",
    "$$\n",
    "H_{0}: \\mu_{catcher} - \\mu_{dh} = 0 \\\\\n",
    "H_{0}: \\mu_{catcher} - \\mu_{infield} = 0 \\\\\n",
    "H_{0}: \\mu_{catcher} - \\mu_{outfield} = 0 \\\\\n",
    "H_{0}: \\mu_{dh} - \\mu_{infield} = 0 \\\\\n",
    "H_{0}: \\mu_{dh} - \\mu_{outfield} = 0 \\\\\n",
    "H_{0}: \\mu_{infield} - \\mu_{outfield} = 0 \\\\\n",
    "$$\n",
    "\n",
    "In general, to find the total number of hypotheses, you can use the combinations formula:\n",
    "\n",
    "$$\n",
    "C(n, r) = \\binom{n}{r} = \\frac{n!}{r!(n - r)!}\n",
    "$$\n",
    "\n",
    "For our example this would lead to:\n",
    "\n",
    "$$\n",
    "\\binom{4}{2} = \\frac{4!}{2!(4 - 2)!} = \\frac{4 * 3 * 2 * 1}{2 * 1 * (2 * 1)} = \\frac{24}{4} = 6\n",
    "$$\n",
    "\n",
    "Therefore, using bonferroni's correction, our new alpha would be:\n",
    "\n",
    "$$\n",
    "\\alpha_{new} = \\frac{.05}{6} = .0083\n",
    "$$\n",
    "\n",
    "Alternatively, you could also adjust the p-values to make them smaller and still use .05 (or any other predetermined familywise $\\alpha$ value).\n",
    "\n",
    "$$\n",
    "p_{new} = \\frac{p_{original}}{m}\n",
    "$$\n",
    "\n",
    "This is what most software programs do automatically for you. "
   ]
  },
  {
   "cell_type": "code",
   "execution_count": null,
   "metadata": {
    "vscode": {
     "languageId": "r"
    }
   },
   "outputs": [],
   "source": [
    "pairwise.t.test(career$average, career$position, p.adjust = 'bonf')"
   ]
  },
  {
   "cell_type": "markdown",
   "metadata": {},
   "source": [
    "## What is a type I error?\n",
    "\n",
    "Before moving to why you should care, let's more formally talk about type I errors. Suppose we have the following table of possible outcomes:\n",
    "\n",
    "|                | $H_{0}$ true | $H_{0}$ false | \n",
    "|:---------------|-------------:|--------------:|\n",
    "| Reject $H_{0}$ | Type I Error ($\\alpha$) | Correct - Power ($1 - \\beta$)    | \n",
    "| Retain $H_{0}$ | Correct  ($1 - \\alpha$)    | Type II Error ($\\beta$) |\n",
    "\n",
    "**Type I error** is when the null hypothesis is true in the population, but the statistical evidence *supports the alternative hypothesis*. \n",
    "**Type II error** is when the null hypothesis is false in the population, but the statistical evidence *supports the null hypothesis*. \n",
    "\n",
    "Here is a good link for an interactive app that shows many of these terms visually: https://rpsychologist.com/d3/nhst/. \n",
    "\n",
    "### Type M and Type S errors\n",
    "\n",
    "These were first defined by Gelman and Tuerlinckx (2000) and is also in section 4.4 of *Regression and Other Stories* textbook. \n",
    "\n",
    "+ Type S (sign) occurs when the sign of the estimated effect is in the opposite direction as the true effect.\n",
    "+ Type M (magnitude) occurse when the magnitude of the estimated effect is much different (often larger) than the true effect.\n",
    "\n",
    "These really shift the narrative away from achieving statistical signficiance and moving toward proper estimation of effects or precision, this is a better goal in my opinion. \n",
    "\n",
    "## Holm-Bonferroni Procedure\n",
    "\n",
    "The boneferroni procedure will be overly conservative and I wouldn't recommend it's use in practice. If you want a simple approach to p-value adjustment, I'd recommend just setting a specific value for the alpha value to be more conservative, for example setting it to 0.01. \n",
    "\n",
    "The Holm-Bonferroni approach is an adjustment method that is more powerful then the original bonferroni procedure, but does not come with onerous assumptions. The Holm-Boneferroni procedure uses the following steps for adjustment. \n",
    "\n",
    "Suppose there are $m$ p-values (ie, $m$ null hypotheses). First, order these from smallest to largest, be sure to keep track of which hypothese the p-value is associated with. Then, \n",
    "1. Is the smallest p-value **less than** $\\alpha / m$, if yes, provide evidence for the alternative hypothesis and proceed to the next p-value, it not stop.\n",
    "2. Is the second smallest p-value **less than** $ \\alpha / m - 1$, if eys, provide evidence for the alternative hypothesis and proceed to the next p-value, if not stop.\n",
    "3. Continue, comparing the p-values in order to the following adjust alpha, \n",
    "\n",
    "$$\n",
    "\\alpha_{new_{k}} = \\frac{\\alpha}{m + 1 - k}\n",
    "$$\n",
    "\n",
    "where is $k$ is the rank of the p-values when ordered from smallest to largest. \n",
    "\n",
    "Similar to the bonferroni, the p-values can be adjusted with the following formula: \n",
    "\n",
    "$$\n",
    "p_{adj} = min(1, max((m + 1 - k) * p_{k} ))\n",
    "$$\n",
    "\n",
    "where is $k$ is the rank of the p-values when ordered from smallest to largest. "
   ]
  },
  {
   "cell_type": "code",
   "execution_count": null,
   "metadata": {
    "vscode": {
     "languageId": "r"
    }
   },
   "outputs": [],
   "source": [
    "pairwise.t.test(career$average, career$position, p.adjust = 'holm')"
   ]
  },
  {
   "cell_type": "code",
   "execution_count": null,
   "metadata": {
    "vscode": {
     "languageId": "r"
    }
   },
   "outputs": [],
   "source": [
    "pairwise.t.test(career$average, career$position, p.adjust = 'none')$p.value\n"
   ]
  },
  {
   "cell_type": "code",
   "execution_count": null,
   "metadata": {
    "vscode": {
     "languageId": "r"
    }
   },
   "outputs": [],
   "source": [
    "pairwise.t.test(career$average, career$position, p.adjust = 'none')$p.value[3] * (6 + 1 - 1)\n",
    "pairwise.t.test(career$average, career$position, p.adjust = 'none')$p.value[2] * (6 + 1 - 2)\n",
    "pairwise.t.test(career$average, career$position, p.adjust = 'none')$p.value[1] * (6 + 1 - 3)\n",
    "pairwise.t.test(career$average, career$position, p.adjust = 'none')$p.value[9] * (6 + 1 - 4)\n",
    "pairwise.t.test(career$average, career$position, p.adjust = 'none')$p.value[5] * (6 + 1 - 5)\n",
    "pairwise.t.test(career$average, career$position, p.adjust = 'none')$p.value[6] * (6 + 1 - 6)"
   ]
  },
  {
   "cell_type": "markdown",
   "metadata": {},
   "source": [
    "## Exploring assumptions/Data Conditions for model with categorical attributes"
   ]
  },
  {
   "cell_type": "code",
   "execution_count": null,
   "metadata": {
    "vscode": {
     "languageId": "r"
    }
   },
   "outputs": [],
   "source": [
    "plot(position_lm, which = 1:5)"
   ]
  }
 ],
 "metadata": {
  "kernelspec": {
   "display_name": "R",
   "language": "R",
   "name": "ir"
  },
  "language_info": {
   "codemirror_mode": "r",
   "file_extension": ".r",
   "mimetype": "text/x-r-source",
   "name": "R",
   "pygments_lexer": "r",
   "version": "4.1.1"
  },
  "orig_nbformat": 4
 },
 "nbformat": 4,
 "nbformat_minor": 2
}
