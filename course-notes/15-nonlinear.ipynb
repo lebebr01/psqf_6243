{
 "cells": [
  {
   "attachments": {},
   "cell_type": "markdown",
   "metadata": {},
   "source": [
    "# Modeling non-linearity\n",
    "\n",
    "Although linear regression has the word, *linear*, in the name, this is really is misnomer. Regression is able to be more flexible, but the idea of linear regression is that the coeffecients, the $\\beta$ terms, are additive. For example,\n",
    "\n",
    "$$ \n",
    "Y = \\beta_{0} + \\beta_{1} X + \\beta_{2} X^2 + \\beta_{3} X^3 + \\epsilon\n",
    "$$\n",
    "\n",
    "and \n",
    "\n",
    "$$ \n",
    "Y = \\beta_{0} + \\beta_{1} log(X) + \\epsilon\n",
    "$$\n",
    "\n",
    "are both additive in the coefficients, therefore are special cases of regression for terms that would result in predictive curves that would be non-linear. \n",
    "\n",
    "### Non-linear in the parameters\n",
    "\n",
    "There are a series of models that can be non-linear in the parameters. An example is the logistic population-growth model (Shryock, Siegel, et al., 1973):\n",
    "\n",
    "$$\n",
    "Y = \\frac{\\beta_{1}}{1 + exp(\\beta_{2} + \\beta_{3}X)} + \\epsilon\n",
    "$$\n",
    "\n",
    "We are going to focus on an example for the first example, modeling non-linear associations while keeping the regression model additive. \n",
    "\n",
    "## Non-linear example\n",
    "\n",
    "Let's explore some weather data from Australia. "
   ]
  },
  {
   "cell_type": "code",
   "execution_count": null,
   "metadata": {
    "vscode": {
     "languageId": "r"
    }
   },
   "outputs": [],
   "source": [
    "library(tidyverse)\n",
    "library(mosaic)\n",
    "library(broom)\n",
    "library(ggformula)\n",
    "library(lubridate)\n",
    "\n",
    "theme_set(theme_bw(base_size = 16))\n",
    "\n",
    "aus_weather <- readr::read_csv(\"https://raw.githubusercontent.com/lebebr01/statthink/main/data-raw/weatherAUS.csv\") |> \n",
    "    filter(Location %in% c('Adelaide', 'Canberra')) |>\n",
    "    mutate(day_of_year = yday(Date))"
   ]
  },
  {
   "cell_type": "code",
   "execution_count": null,
   "metadata": {
    "vscode": {
     "languageId": "r"
    }
   },
   "outputs": [],
   "source": [
    "count(aus_weather, Location)"
   ]
  },
  {
   "cell_type": "code",
   "execution_count": null,
   "metadata": {
    "vscode": {
     "languageId": "r"
    }
   },
   "outputs": [],
   "source": [
    "gf_point(Temp3pm ~ day_of_year, data = aus_weather) |>\n",
    "  gf_labs(x = \"Day of Year\",\n",
    "          y = \"Temperature (Celsius)\")"
   ]
  },
  {
   "cell_type": "code",
   "execution_count": null,
   "metadata": {
    "vscode": {
     "languageId": "r"
    }
   },
   "outputs": [],
   "source": []
  }
 ],
 "metadata": {
  "kernelspec": {
   "display_name": "R",
   "language": "R",
   "name": "ir"
  },
  "language_info": {
   "codemirror_mode": "r",
   "file_extension": ".r",
   "mimetype": "text/x-r-source",
   "name": "R",
   "pygments_lexer": "r",
   "version": "4.2.0"
  },
  "orig_nbformat": 4
 },
 "nbformat": 4,
 "nbformat_minor": 2
}
