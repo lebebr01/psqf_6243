{
 "cells": [
  {
   "cell_type": "markdown",
   "metadata": {},
   "source": [
    "# Bootstrap\n",
    "\n",
    "The bootstrap is an alternative to the NHST framework already discussed. The primary benefit of the bootstrap is that it comes with fewer assumptions then the NHST framework. The only real assumption when doing a bootstrap approach is that the sample is obtained randomly from the population, an assumption already made in the NHST framework. The primary drawback of the bootstrap approach is that it is computationally expensive, therefore, it can take time to peform the procedure. \n",
    "\n",
    "## Bootstrapping Steps\n",
    "\n",
    "The following are the steps when performing a bootstrap. \n",
    "\n",
    "1. Treat the sample data as the population.\n",
    "2. Resample, with replacement, from the sample data, ensuring the new sample is the same size as the original. \n",
    "3. Estimate the model using the resampled data from step 2. \n",
    "4. Repeat steps 2 and 3 many many times (eg, 10,000 or more). \n",
    "5. Visualize distribution of effect of interest\n",
    "\n",
    "## Resampling with replacement\n",
    "\n",
    "What is meant by sampling with replacement? Let's do an example."
   ]
  },
  {
   "cell_type": "code",
   "execution_count": null,
   "metadata": {},
   "outputs": [],
   "source": [
    "library(tidyverse)\n",
    "\n",
    "fruit <- data.frame(name = c('watermelon', 'apple', 'orange', 'kumquat', 'grapes', 'canteloupe', 'kiwi', 'banana')) %>%\n",
    "    mutate(obs_num = 1:n())\n",
    "\n",
    "slice_sample(fruit, n = nrow(fruit), replace = FALSE)"
   ]
  },
  {
   "cell_type": "code",
   "execution_count": null,
   "metadata": {},
   "outputs": [],
   "source": [
    "slice_sample(fruit, n = nrow(fruit), replace = TRUE)"
   ]
  },
  {
   "cell_type": "markdown",
   "metadata": {},
   "source": [
    "## More practical example\n",
    "\n",
    "Let's load some data to do a more practical example. The following data come from a [Tidy Tuesday example](https://github.com/rfordatascience/tidytuesday/blob/master/data/2020/2020-07-14/readme.md) on astronauts and their missions in space. \n",
    "\n",
    "| variable                 | class     | description                                               |\n",
    "| :----------------------- | :-------- | --------------------------------------------------------- |\n",
    "| id                       | double    | ID                                                        |\n",
    "| number                   | double    | Number                                                    |\n",
    "| nationwide_number        | double    | Number within country                                     |\n",
    "| name                     | character | Full  name                                                |\n",
    "| original_name            | character | Name in original language                                 |\n",
    "| sex                      | character | Sex                                                       |\n",
    "| year_of_birth            | double    | Year of birth                                             |\n",
    "| nationality              | character | Nationality                                               |\n",
    "| military_civilian        | character | Military status                                           |\n",
    "| selection                | character | Name of selection program                                 |\n",
    "| year_of_selection        | double    | Year of selection program                                 |\n",
    "| mission_number           | double    | Mission number                                            |\n",
    "| total_number_of_missions | double    | Total number of missions                                  |\n",
    "| occupation               | character | Occupation                                                |\n",
    "| year_of_mission          | double    | Mission year                                              |\n",
    "| mission_title            | character | Mission title                                             |\n",
    "| ascend_shuttle           | character | Name of ascent shuttle                                    |\n",
    "| in_orbit                 | character | Name of spacecraft used in orbit                          |\n",
    "| descend_shuttle          | character | Name of descent shuttle                                   |\n",
    "| hours_mission            | double    | Duration of mission in hours                              |\n",
    "| total_hrs_sum            | double    | Total duration of all missions in hours                   |\n",
    "| field21                  | double    | Instances of EVA by mission                               |\n",
    "| eva_hrs_mission          | double    | Duration of extravehicular activities  during the mission |\n",
    "| total_eva_hrs            | double    | Total duration of all extravehicular activities in hours  |"
   ]
  },
  {
   "cell_type": "code",
   "execution_count": null,
   "metadata": {},
   "outputs": [],
   "source": [
    "astronauts <- readr::read_csv('https://raw.githubusercontent.com/rfordatascience/tidytuesday/master/data/2020/2020-07-14/astronauts.csv') %>%\n",
    "   mutate(year_centered = year_of_mission - min(year_of_mission))\n",
    "\n",
    "head(astronauts)"
   ]
  },
  {
   "cell_type": "code",
   "execution_count": null,
   "metadata": {},
   "outputs": [],
   "source": [
    "library(ggformula)\n",
    "\n",
    "theme_set(theme_bw(base_size = 18))\n",
    "\n",
    "gf_point(hours_mission ~ year_of_mission, data = astronauts, size = 5) %>%\n",
    "  gf_smooth(method = 'loess', size = 2) %>%\n",
    "  gf_smooth(method = 'lm', linetype = 2, color = 'lightblue', size = 2) %>%\n",
    "  gf_labs(x = 'Year of Mission',\n",
    "          y = \"Mission Hours\")"
   ]
  },
  {
   "cell_type": "code",
   "execution_count": null,
   "metadata": {},
   "outputs": [],
   "source": [
    "mission_lm <- lm(hours_mission ~ year_of_mission, data = astronauts)\n",
    "\n",
    "summary(mission_lm)\n",
    "confint(mission_lm)"
   ]
  },
  {
   "cell_type": "code",
   "execution_count": null,
   "metadata": {},
   "outputs": [],
   "source": [
    "mission_lm <- lm(hours_mission ~ year_centered, data = astronauts)\n",
    "\n",
    "summary(mission_lm)\n",
    "confint(mission_lm)"
   ]
  },
  {
   "cell_type": "markdown",
   "metadata": {},
   "source": [
    "## Resample these data\n",
    "\n",
    "For the astronauts data, to resample, a similar idea can be made. Essentially, we are treating these data as a random sample of some population of space missions. We again, would resample, with replacement, which means that multiple missions would likely show up in the resampling procedure. "
   ]
  },
  {
   "cell_type": "code",
   "execution_count": null,
   "metadata": {},
   "outputs": [],
   "source": [
    "slice_sample(astronauts, n = nrow(astronauts), replace = TRUE) %>% \n",
    "  count(id) %>%\n",
    "  gf_col(n ~ id)"
   ]
  },
  {
   "cell_type": "code",
   "execution_count": null,
   "metadata": {},
   "outputs": [],
   "source": [
    "resamp_lm <- slice_sample(astronauts, n = nrow(astronauts), replace = TRUE) %>% \n",
    "  lm(hours_mission ~ year_centered, data = .)\n",
    "\n",
    "summary(resamp_lm)\n",
    "confint(resamp_lm)"
   ]
  },
  {
   "cell_type": "markdown",
   "metadata": {},
   "source": [
    "Let's now repeat this a bunch of times. "
   ]
  },
  {
   "cell_type": "code",
   "execution_count": null,
   "metadata": {},
   "outputs": [],
   "source": [
    "set.seed(2021)\n",
    "\n",
    "resample_astronaut <- function(...) {\n",
    "  astronaut_resample <- slice_sample(astronauts, n = nrow(astronauts), replace = TRUE)\n",
    "\n",
    "  astronaut_resample %>%\n",
    "    lm(hours_mission ~ year_centered, data = .) %>%\n",
    "    coef(.) %>%\n",
    "    broom::tidy()\n",
    "}"
   ]
  },
  {
   "cell_type": "code",
   "execution_count": null,
   "metadata": {},
   "outputs": [],
   "source": [
    "resample_astronaut(astronauts)"
   ]
  },
  {
   "cell_type": "code",
   "execution_count": null,
   "metadata": {},
   "outputs": [],
   "source": [
    "astronaut_coef <- map_dfr(1:10000, resample_astronaut)\n",
    "\n",
    "gf_density(~ x, data = astronaut_coef) %>%\n",
    "  gf_facet_wrap(~ names, scales = 'free') %>%\n",
    "  gf_labs(x = \"Regression Estimates\")"
   ]
  }
 ],
 "metadata": {
  "kernelspec": {
   "display_name": "R",
   "language": "R",
   "name": "ir"
  },
  "language_info": {
   "codemirror_mode": "r",
   "file_extension": ".r",
   "mimetype": "text/x-r-source",
   "name": "R",
   "pygments_lexer": "r",
   "version": "4.1.0"
  },
  "orig_nbformat": 4
 },
 "nbformat": 4,
 "nbformat_minor": 2
}
