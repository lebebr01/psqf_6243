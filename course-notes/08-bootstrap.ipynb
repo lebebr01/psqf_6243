{
 "cells": [
  {
   "cell_type": "markdown",
   "metadata": {},
   "source": [
    "# Bootstrap\n",
    "\n",
    "The bootstrap is an alternative to the NHST framework already discussed. The primary benefit of the bootstrap is that it comes with fewer assumptions then the NHST framework. The only real assumption when doing a bootstrap approach is that the sample is obtained randomly from the population, an assumption already made in the NHST framework. The primary drawback of the bootstrap approach is that it is computationally expensive, therefore, it can take time to peform the procedure. \n",
    "\n",
    "## Bootstrapping Steps\n",
    "\n",
    "The following are the steps when performing a bootstrap. \n",
    "\n",
    "1. Treat the sample data as the population.\n",
    "2. Resample, with replacement, from the sample data, ensuring the new sample is the same size as the original. \n",
    "3. Estimate the model using the resampled data from step 2. \n",
    "4. Repeat steps 2 and 3 many many times (eg, 10,000 or more). \n",
    "5. Visualize distribution of effect of interest\n",
    "\n",
    "## Resampling with replacement\n",
    "\n",
    "What is meant by sampling with replacement? Let's do an example."
   ]
  },
  {
   "cell_type": "code",
   "execution_count": null,
   "metadata": {
    "vscode": {
     "languageId": "r"
    }
   },
   "outputs": [],
   "source": [
    "library(tidyverse)\n",
    "\n",
    "fruit <- data.frame(name = c('watermelon', 'apple', 'orange', 'kumquat', 'grapes', 'canteloupe', 'kiwi', 'banana')) %>%\n",
    "    mutate(obs_num = 1:n())\n",
    "\n",
    "fruit"
   ]
  },
  {
   "cell_type": "code",
   "execution_count": null,
   "metadata": {
    "vscode": {
     "languageId": "r"
    }
   },
   "outputs": [],
   "source": [
    "slice_sample(fruit, n = nrow(fruit), replace = FALSE)"
   ]
  },
  {
   "cell_type": "code",
   "execution_count": null,
   "metadata": {
    "vscode": {
     "languageId": "r"
    }
   },
   "outputs": [],
   "source": [
    "slice_sample(fruit, n = nrow(fruit), replace = TRUE)"
   ]
  },
  {
   "cell_type": "markdown",
   "metadata": {},
   "source": [
    "## More practical example\n",
    "\n",
    "Let's load some data to do a more practical example. The following data come from a [TIMSS](https://nces.ed.gov/timss/) on science achievement. The data provided is a subset of the available data and is not intended to be representative. Below is a short description of the data. Please don’t hesitate to send any data related questions, happy to provide additional help on interpreting the data appropriately.\n",
    "\n",
    "+ **IDSTUD**: A unique student ID \n",
    "+ **ITBIRTHM**: The birth month of the student \n",
    "+ **ITBIRTHY**: The birth year of the student \n",
    "+ **ITSEX**: The birth sex of the student \n",
    "+ **ASDAGE**: The age of the student (at time of test) \n",
    "+ **ASSSCI01**: Overall science scale score \n",
    "+ **ASSEAR01**: Earth science scale score \n",
    "+ **ASSLIF01**: Life science scale score \n",
    "+ **ASSPHY01**: Physics scale score \n",
    "+ **ASSKNO01**: Science knowing scale score \n",
    "+ **ASSAPP01**: Science applying scale score \n",
    "+ **ASSREA01**: Science reasoning scale score "
   ]
  },
  {
   "cell_type": "code",
   "execution_count": 1,
   "metadata": {
    "vscode": {
     "languageId": "r"
    }
   },
   "outputs": [
    {
     "name": "stderr",
     "output_type": "stream",
     "text": [
      "-- \u001b[1mAttaching packages\u001b[22m --------------------------------------- tidyverse 1.3.2 --\n",
      "\u001b[32mv\u001b[39m \u001b[34mggplot2\u001b[39m 3.3.6      \u001b[32mv\u001b[39m \u001b[34mpurrr  \u001b[39m 0.3.4 \n",
      "\u001b[32mv\u001b[39m \u001b[34mtibble \u001b[39m 3.1.8      \u001b[32mv\u001b[39m \u001b[34mdplyr  \u001b[39m 1.0.10\n",
      "\u001b[32mv\u001b[39m \u001b[34mtidyr  \u001b[39m 1.2.1      \u001b[32mv\u001b[39m \u001b[34mstringr\u001b[39m 1.4.1 \n",
      "\u001b[32mv\u001b[39m \u001b[34mreadr  \u001b[39m 2.1.2      \u001b[32mv\u001b[39m \u001b[34mforcats\u001b[39m 0.5.2 \n",
      "-- \u001b[1mConflicts\u001b[22m ------------------------------------------ tidyverse_conflicts() --\n",
      "\u001b[31mx\u001b[39m \u001b[34mdplyr\u001b[39m::\u001b[32mfilter()\u001b[39m masks \u001b[34mstats\u001b[39m::filter()\n",
      "\u001b[31mx\u001b[39m \u001b[34mdplyr\u001b[39m::\u001b[32mlag()\u001b[39m    masks \u001b[34mstats\u001b[39m::lag()\n",
      "\u001b[1mRows: \u001b[22m\u001b[34m10029\u001b[39m \u001b[1mColumns: \u001b[22m\u001b[34m12\u001b[39m\n",
      "\u001b[36m--\u001b[39m \u001b[1mColumn specification\u001b[22m \u001b[36m--------------------------------------------------------\u001b[39m\n",
      "\u001b[1mDelimiter:\u001b[22m \",\"\n",
      "\u001b[32mdbl\u001b[39m (12): IDSTUD, ITBIRTHM, ITBIRTHY, ITSEX, ASDAGE, ASSSCI01, ASSEAR01, ASS...\n",
      "\n",
      "\u001b[36mi\u001b[39m Use `spec()` to retrieve the full column specification for this data.\n",
      "\u001b[36mi\u001b[39m Specify the column types or set `show_col_types = FALSE` to quiet this message.\n"
     ]
    },
    {
     "data": {
      "text/html": [
       "<table class=\"dataframe\">\n",
       "<caption>A tibble: 6 × 12</caption>\n",
       "<thead>\n",
       "\t<tr><th scope=col>IDSTUD</th><th scope=col>ITBIRTHM</th><th scope=col>ITBIRTHY</th><th scope=col>ITSEX</th><th scope=col>ASDAGE</th><th scope=col>ASSSCI01</th><th scope=col>ASSEAR01</th><th scope=col>ASSLIF01</th><th scope=col>ASSPHY01</th><th scope=col>ASSKNO01</th><th scope=col>ASSAPP01</th><th scope=col>ASSREA01</th></tr>\n",
       "\t<tr><th scope=col>&lt;dbl&gt;</th><th scope=col>&lt;dbl&gt;</th><th scope=col>&lt;dbl&gt;</th><th scope=col>&lt;dbl&gt;</th><th scope=col>&lt;dbl&gt;</th><th scope=col>&lt;dbl&gt;</th><th scope=col>&lt;dbl&gt;</th><th scope=col>&lt;dbl&gt;</th><th scope=col>&lt;dbl&gt;</th><th scope=col>&lt;dbl&gt;</th><th scope=col>&lt;dbl&gt;</th><th scope=col>&lt;dbl&gt;</th></tr>\n",
       "</thead>\n",
       "<tbody>\n",
       "\t<tr><td>10101</td><td> 6</td><td>2005</td><td>2</td><td> 9.92</td><td>504.5513</td><td>445.2919</td><td>408.2991</td><td>458.0210</td><td>529.5136</td><td>519.7842</td><td>543.8187</td></tr>\n",
       "\t<tr><td>10102</td><td>10</td><td>2005</td><td>2</td><td> 9.58</td><td>400.6735</td><td>291.2442</td><td>323.3329</td><td>296.5886</td><td>379.1956</td><td>385.0167</td><td>372.9960</td></tr>\n",
       "\t<tr><td>10103</td><td> 1</td><td>2005</td><td>1</td><td>10.33</td><td>542.0670</td><td>440.0107</td><td>528.8448</td><td>529.4147</td><td>521.0647</td><td>538.5045</td><td>535.2791</td></tr>\n",
       "\t<tr><td>10104</td><td> 6</td><td>2005</td><td>2</td><td> 9.92</td><td>544.1907</td><td>534.2964</td><td>551.7017</td><td>557.1893</td><td>538.3842</td><td>540.3896</td><td>535.3284</td></tr>\n",
       "\t<tr><td>10105</td><td> 6</td><td>2005</td><td>2</td><td> 9.92</td><td>588.0062</td><td>555.3388</td><td>499.9448</td><td>559.4732</td><td>532.7365</td><td>503.0834</td><td>460.8084</td></tr>\n",
       "\t<tr><td>10106</td><td>12</td><td>2005</td><td>1</td><td> 9.42</td><td>582.6241</td><td>556.1076</td><td>585.3797</td><td>561.5692</td><td>526.2867</td><td>573.1294</td><td>513.5148</td></tr>\n",
       "</tbody>\n",
       "</table>\n"
      ],
      "text/latex": [
       "A tibble: 6 × 12\n",
       "\\begin{tabular}{llllllllllll}\n",
       " IDSTUD & ITBIRTHM & ITBIRTHY & ITSEX & ASDAGE & ASSSCI01 & ASSEAR01 & ASSLIF01 & ASSPHY01 & ASSKNO01 & ASSAPP01 & ASSREA01\\\\\n",
       " <dbl> & <dbl> & <dbl> & <dbl> & <dbl> & <dbl> & <dbl> & <dbl> & <dbl> & <dbl> & <dbl> & <dbl>\\\\\n",
       "\\hline\n",
       "\t 10101 &  6 & 2005 & 2 &  9.92 & 504.5513 & 445.2919 & 408.2991 & 458.0210 & 529.5136 & 519.7842 & 543.8187\\\\\n",
       "\t 10102 & 10 & 2005 & 2 &  9.58 & 400.6735 & 291.2442 & 323.3329 & 296.5886 & 379.1956 & 385.0167 & 372.9960\\\\\n",
       "\t 10103 &  1 & 2005 & 1 & 10.33 & 542.0670 & 440.0107 & 528.8448 & 529.4147 & 521.0647 & 538.5045 & 535.2791\\\\\n",
       "\t 10104 &  6 & 2005 & 2 &  9.92 & 544.1907 & 534.2964 & 551.7017 & 557.1893 & 538.3842 & 540.3896 & 535.3284\\\\\n",
       "\t 10105 &  6 & 2005 & 2 &  9.92 & 588.0062 & 555.3388 & 499.9448 & 559.4732 & 532.7365 & 503.0834 & 460.8084\\\\\n",
       "\t 10106 & 12 & 2005 & 1 &  9.42 & 582.6241 & 556.1076 & 585.3797 & 561.5692 & 526.2867 & 573.1294 & 513.5148\\\\\n",
       "\\end{tabular}\n"
      ],
      "text/markdown": [
       "\n",
       "A tibble: 6 × 12\n",
       "\n",
       "| IDSTUD &lt;dbl&gt; | ITBIRTHM &lt;dbl&gt; | ITBIRTHY &lt;dbl&gt; | ITSEX &lt;dbl&gt; | ASDAGE &lt;dbl&gt; | ASSSCI01 &lt;dbl&gt; | ASSEAR01 &lt;dbl&gt; | ASSLIF01 &lt;dbl&gt; | ASSPHY01 &lt;dbl&gt; | ASSKNO01 &lt;dbl&gt; | ASSAPP01 &lt;dbl&gt; | ASSREA01 &lt;dbl&gt; |\n",
       "|---|---|---|---|---|---|---|---|---|---|---|---|\n",
       "| 10101 |  6 | 2005 | 2 |  9.92 | 504.5513 | 445.2919 | 408.2991 | 458.0210 | 529.5136 | 519.7842 | 543.8187 |\n",
       "| 10102 | 10 | 2005 | 2 |  9.58 | 400.6735 | 291.2442 | 323.3329 | 296.5886 | 379.1956 | 385.0167 | 372.9960 |\n",
       "| 10103 |  1 | 2005 | 1 | 10.33 | 542.0670 | 440.0107 | 528.8448 | 529.4147 | 521.0647 | 538.5045 | 535.2791 |\n",
       "| 10104 |  6 | 2005 | 2 |  9.92 | 544.1907 | 534.2964 | 551.7017 | 557.1893 | 538.3842 | 540.3896 | 535.3284 |\n",
       "| 10105 |  6 | 2005 | 2 |  9.92 | 588.0062 | 555.3388 | 499.9448 | 559.4732 | 532.7365 | 503.0834 | 460.8084 |\n",
       "| 10106 | 12 | 2005 | 1 |  9.42 | 582.6241 | 556.1076 | 585.3797 | 561.5692 | 526.2867 | 573.1294 | 513.5148 |\n",
       "\n"
      ],
      "text/plain": [
       "  IDSTUD ITBIRTHM ITBIRTHY ITSEX ASDAGE ASSSCI01 ASSEAR01 ASSLIF01 ASSPHY01\n",
       "1 10101   6       2005     2      9.92  504.5513 445.2919 408.2991 458.0210\n",
       "2 10102  10       2005     2      9.58  400.6735 291.2442 323.3329 296.5886\n",
       "3 10103   1       2005     1     10.33  542.0670 440.0107 528.8448 529.4147\n",
       "4 10104   6       2005     2      9.92  544.1907 534.2964 551.7017 557.1893\n",
       "5 10105   6       2005     2      9.92  588.0062 555.3388 499.9448 559.4732\n",
       "6 10106  12       2005     1      9.42  582.6241 556.1076 585.3797 561.5692\n",
       "  ASSKNO01 ASSAPP01 ASSREA01\n",
       "1 529.5136 519.7842 543.8187\n",
       "2 379.1956 385.0167 372.9960\n",
       "3 521.0647 538.5045 535.2791\n",
       "4 538.3842 540.3896 535.3284\n",
       "5 532.7365 503.0834 460.8084\n",
       "6 526.2867 573.1294 513.5148"
      ]
     },
     "metadata": {},
     "output_type": "display_data"
    }
   ],
   "source": [
    "library(tidyverse)\n",
    "\n",
    "timss <- readr::read_csv('https://raw.githubusercontent.com/lebebr01/psqf_6243/main/data/timss_grade4_science.csv') |> \n",
    "   filter(ASDAGE < 15)\n",
    "\n",
    "head(timss)"
   ]
  },
  {
   "cell_type": "markdown",
   "metadata": {},
   "source": [
    "## Two Guiding Questions\n",
    "\n",
    "1. Is the age of a student related to their overall science scale score? \n",
    "2. Is the life science scale score related to the overall science scale score?"
   ]
  },
  {
   "cell_type": "markdown",
   "metadata": {},
   "source": [
    "## Bivariate exploration\n",
    "\n",
    "It is important to explore relationships bivariately before going to the model phase. To do this, fill in the outcome of interest in place of \"%%\" below and fill in the appropriate predictor in place of \"^^\". You may also want to fill in an appropriate axis labels in place of \"@@\" below. \n",
    "\n",
    "+ Summarize the bivariate association"
   ]
  },
  {
   "cell_type": "code",
   "execution_count": null,
   "metadata": {
    "vscode": {
     "languageId": "r"
    }
   },
   "outputs": [],
   "source": [
    "library(ggformula)\n",
    "\n",
    "theme_set(theme_bw(base_size = 18))\n",
    "\n",
    "gf_point(%% ~ ^^, data = timss, size = 4) |> \n",
    "  gf_smooth(method = 'lm', size = 1.5) |>\n",
    "  gf_smooth(method = 'loess', size = 1.5, color = 'green') |>\n",
    "  gf_labs(x = \"@@\",\n",
    "          y = \"@@\")"
   ]
  },
  {
   "cell_type": "markdown",
   "metadata": {},
   "source": [
    "## Estimate Parameters\n",
    "\n",
    "To do this, fill in the outcome of interest in place of \"%%\" below and fill in the appropriate predictor in place of \"^^\". \n",
    "\n",
    "+ Interpret the following parameter estimates in the context of the current problem. (ie., what do these parameter estimates mean?)"
   ]
  },
  {
   "cell_type": "code",
   "execution_count": null,
   "metadata": {
    "vscode": {
     "languageId": "r"
    }
   },
   "outputs": [],
   "source": [
    "timss_model <- lm(%% ~ ^^, data = timss)\n",
    "\n",
    "summary(timss_model)\n",
    "confint(timss_model)"
   ]
  },
  {
   "cell_type": "markdown",
   "metadata": {},
   "source": [
    "## Resample these data\n",
    "\n",
    "For the astronauts data, to resample, a similar idea can be made. Essentially, we are treating these data as a random sample of some population of space missions. We again, would resample, with replacement, which means that multiple missions would likely show up in the resampling procedure. "
   ]
  },
  {
   "cell_type": "code",
   "execution_count": null,
   "metadata": {
    "vscode": {
     "languageId": "r"
    }
   },
   "outputs": [],
   "source": [
    "slice_sample(timss, n = nrow(timss), replace = TRUE) %>% \n",
    "  count(IDSTUD) %>%\n",
    "  gf_col(n ~ IDSTUD)"
   ]
  },
  {
   "cell_type": "code",
   "execution_count": null,
   "metadata": {
    "vscode": {
     "languageId": "r"
    }
   },
   "outputs": [],
   "source": [
    "resamp_lm <- slice_sample(timss, n = nrow(timss), replace = TRUE) %>% \n",
    "  lm(%% ~ ^^, data = .)\n",
    "\n",
    "summary(resamp_lm)\n",
    "confint(resamp_lm)"
   ]
  },
  {
   "cell_type": "markdown",
   "metadata": {},
   "source": [
    "### Questions to consider\n",
    "\n",
    "1. Do the parameter estimates differ from before? Why or why not? \n",
    "2. Would you come to substantially different conclusions from the original analysis? Why or why not?"
   ]
  },
  {
   "cell_type": "markdown",
   "metadata": {},
   "source": [
    "Let's now repeat this a bunch of times. "
   ]
  },
  {
   "cell_type": "code",
   "execution_count": null,
   "metadata": {
    "vscode": {
     "languageId": "r"
    }
   },
   "outputs": [],
   "source": [
    "set.seed(2022)\n",
    "\n",
    "resample_timss <- function(data, model_equation) {\n",
    "  timss_resample <- slice_sample(data, n = nrow(data), replace = TRUE)\n",
    "\n",
    "  \n",
    "  lm(model_equation, data = timss_resample) %>%\n",
    "    coef() %>%\n",
    "    broom::tidy()\n",
    "}"
   ]
  },
  {
   "cell_type": "markdown",
   "metadata": {},
   "source": [
    "Run this function a bunch of times manually, what happens to the estimates? Why is this happening? "
   ]
  },
  {
   "cell_type": "code",
   "execution_count": null,
   "metadata": {
    "vscode": {
     "languageId": "r"
    }
   },
   "outputs": [],
   "source": [
    "resample_timss(data = timss, model_equation = %% ~ ^^)"
   ]
  },
  {
   "cell_type": "markdown",
   "metadata": {},
   "source": [
    "## Make sure future.apply is installed\n",
    "\n",
    "The following code chunk makes sure the future.apply function is installed for parallel processing in R. If you get an error, you can uncomment (delete the `#` symbol) in the first line of code to (hopefully) install the package yourself."
   ]
  },
  {
   "cell_type": "code",
   "execution_count": null,
   "metadata": {
    "vscode": {
     "languageId": "r"
    }
   },
   "outputs": [],
   "source": [
    "# install.packages(\"future.apply\")\n",
    "library(future.apply)\n",
    "\n",
    "plan(multisession)"
   ]
  },
  {
   "cell_type": "markdown",
   "metadata": {},
   "source": [
    "## Replicate\n",
    "\n",
    "The following code replicates the analysis many times. Pick an initial value for N and fill in the model equation to match your code above. I will ask you to change this N value later."
   ]
  },
  {
   "cell_type": "code",
   "execution_count": null,
   "metadata": {
    "vscode": {
     "languageId": "r"
    }
   },
   "outputs": [],
   "source": [
    "timss_coef <- future.apply::future_replicate(N, resample_timss(data = timss, \n",
    "                        model_equation = %% ~ ASDAGE), ^^ = FALSE) |>\n",
    "                        dplyr::bind_rows()\n",
    "\n",
    "head(timss_coef)"
   ]
  },
  {
   "cell_type": "markdown",
   "metadata": {},
   "source": [
    "## Visualize results\n",
    "\n",
    "The following code visualizes the results of the analysis above. Explore the following questions. \n",
    "\n",
    "1. What does this distribution show/represent? \n",
    "2. What are key features of this distribution? \n",
    "3. How do these values compare to the original linear regression results? \n",
    "    + Are there comparable statistics here compared to those?"
   ]
  },
  {
   "cell_type": "code",
   "execution_count": null,
   "metadata": {
    "vscode": {
     "languageId": "r"
    }
   },
   "outputs": [],
   "source": [
    "gf_density(~ x, data = timss_coef) %>%\n",
    "  gf_facet_wrap(~ names, scales = 'free') %>%\n",
    "  gf_labs(x = \"Regression Estimates\")"
   ]
  },
  {
   "cell_type": "markdown",
   "metadata": {},
   "source": [
    "## Change the N value\n",
    "\n",
    "Now, change the N value for the replicate step (you can either add a new cell to copy/paste the code or just change it in the code above). \n",
    "\n",
    "+ What happens to the resulting figure when the N increases?\n",
    "+ What value for N seems to be reasonable? Why?"
   ]
  }
 ],
 "metadata": {
  "kernelspec": {
   "display_name": "R",
   "language": "R",
   "name": "ir"
  },
  "language_info": {
   "codemirror_mode": "r",
   "file_extension": ".r",
   "mimetype": "text/x-r-source",
   "name": "R",
   "pygments_lexer": "r",
   "version": "4.2.0"
  },
  "orig_nbformat": 4
 },
 "nbformat": 4,
 "nbformat_minor": 2
}
