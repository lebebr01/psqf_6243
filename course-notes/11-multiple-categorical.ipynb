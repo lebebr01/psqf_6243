{
 "cells": [
  {
   "cell_type": "markdown",
   "metadata": {},
   "source": [
    "# Add more than one categorical predictor\n",
    "\n",
    "Let's explore the ability to add more than one categorical predictor to our model. This will then build into thinking through interactions. Let's load some new data. These are bike data from Philadelphia program, called [Indego](https://www.rideindego.com/about/data/). The data loaded below are from Q3 of 2023. \n",
    "\n",
    "Here is information about the columns in the data.\n",
    "\n",
    "+ **trip_id:** Locally unique integer that identifies the trip\n",
    "+ **duration:** Length of trip in minutes\n",
    "+ **start_time:** The date/time when the trip began, presented in ISO 8601 format in local time\n",
    "+ **end_time:** The date/time when the trip ended, presented in ISO 8601 format in local time\n",
    "+ **start_station:** The station ID where the trip originated (for station name and more information on each station see the Station Table)\n",
    "+ **start_lat:** The latitude of the station where the trip originated\n",
    "+ **start_lon:** The longitude of the station where the trip originated\n",
    "+ **end_station:** The station ID where the trip terminated (for station name and more information on each station see the Station Table)\n",
    "+ **end_lat:** The latitude of the station where the trip terminated\n",
    "+ **end_lon:** The longitude of the station where the trip terminated\n",
    "+ **bike_id:**  Locally unique integer that identifies the bike\n",
    "+ **plan_duration:** The number of days that the plan the passholder is using entitles them to ride; 0 is used for a single ride plan (Walk-up)\n",
    "+ **trip_route_category:** “Round Trip” for trips starting and ending at the same station or “One Way” for all other trips\n",
    "+ **passholder_type:** The name of the passholder’s plan\n",
    "+ **bike_type:** The kind of bike used on the trip, including standard pedal-powered bikes or electric assist bikes\n"
   ]
  },
  {
   "cell_type": "code",
   "execution_count": null,
   "metadata": {
    "vscode": {
     "languageId": "r"
    }
   },
   "outputs": [],
   "source": [
    "library(tidyverse)\n",
    "library(ggformula)\n",
    "\n",
    "theme_set(theme_bw(base_size = 18))\n",
    "\n",
    "temp <- tempfile()\n",
    "download.file(\"https://bicycletransit.wpenginepowered.com/wp-content/uploads/2023/10/indego-trips-2023-q3.zip\", temp)\n",
    "bike <- readr::read_csv(unz(temp, \"indego-trips-2023-q3-2.csv\")) |>\n",
    "   filter(duration <= 120 & passholder_type != 'Walk-up')\n",
    "unlink(temp)\n",
    "\n",
    "head(bike)\n",
    "dim(bike)"
   ]
  },
  {
   "cell_type": "markdown",
   "metadata": {},
   "source": [
    "Suppose we were interested in the following research questions. \n",
    "\n",
    "+ Does the trip route, type of pass, and bike type explain variation in the duration the bike was rented?\n",
    "\n",
    "Let's explore this descriptively. "
   ]
  },
  {
   "cell_type": "code",
   "execution_count": null,
   "metadata": {
    "vscode": {
     "languageId": "r"
    }
   },
   "outputs": [],
   "source": [
    "gf_density(~ duration, data = bike) |>\n",
    "  gf_labs(x = \"Duration, in minutes\")"
   ]
  },
  {
   "cell_type": "code",
   "execution_count": null,
   "metadata": {
    "vscode": {
     "languageId": "r"
    }
   },
   "outputs": [],
   "source": [
    "gf_violin(bike_type ~ duration, data = bike, fill = 'gray85', draw_quantiles = c(0.1, 0.5, 0.9)) |>\n",
    "  gf_labs(x = \"Duration, in minutes\", y = \"\") "
   ]
  },
  {
   "cell_type": "code",
   "execution_count": null,
   "metadata": {
    "vscode": {
     "languageId": "r"
    }
   },
   "outputs": [],
   "source": [
    "gf_violin(passholder_type ~ duration, data = bike, fill = 'gray85', draw_quantiles = c(0.1, 0.5, 0.9)) |>\n",
    "  gf_labs(x = \"Duration, in minutes\", y = \"\") "
   ]
  },
  {
   "cell_type": "code",
   "execution_count": null,
   "metadata": {
    "vscode": {
     "languageId": "r"
    }
   },
   "outputs": [],
   "source": [
    "gf_violin(trip_route_category ~ duration, data = bike, fill = 'gray85', draw_quantiles = c(0.1, 0.5, 0.9)) |>\n",
    "  gf_labs(x = \"Duration, in minutes\", y = \"\") "
   ]
  },
  {
   "cell_type": "markdown",
   "metadata": {},
   "source": [
    "## Regression model with multiple categorical predictors\n",
    "\n",
    "Similar to multiple linear regression, including multiple categorical predictors is similar to that case. The simplest model is the additive model, also commonly referred to as the main effect model. Let's start with two categorical attributes that take on two different values. \n",
    "\n",
    "$$\n",
    "duration = \\beta_{0} + \\beta_{1} bike\\_type + \\beta_{2} trip\\_route\\_category + \\epsilon\n",
    "$$"
   ]
  },
  {
   "cell_type": "code",
   "execution_count": null,
   "metadata": {
    "vscode": {
     "languageId": "r"
    }
   },
   "outputs": [],
   "source": [
    "bike_lm <- lm(duration ~ bike_type + trip_route_category, data = bike)\n",
    "\n",
    "broom::glance(bike_lm)\n",
    "broom::tidy(bike_lm) |>\n",
    "  mutate_if(is.double, round, 3)"
   ]
  },
  {
   "cell_type": "code",
   "execution_count": null,
   "metadata": {
    "vscode": {
     "languageId": "r"
    }
   },
   "outputs": [],
   "source": [
    "two_way_predict <- broom::augment(bike_lm) |>\n",
    "   distinct(bike_type, trip_route_category, .fitted)\n",
    "\n",
    "two_way_predict"
   ]
  },
  {
   "cell_type": "code",
   "execution_count": null,
   "metadata": {
    "vscode": {
     "languageId": "r"
    }
   },
   "outputs": [],
   "source": [
    "mean_duration <- df_stats(duration ~ bike_type + trip_route_category, data =bike, mean, length)\n",
    "mean_duration"
   ]
  },
  {
   "cell_type": "code",
   "execution_count": null,
   "metadata": {
    "vscode": {
     "languageId": "r"
    }
   },
   "outputs": [],
   "source": [
    "gf_point(.fitted ~ bike_type, color = ~ trip_route_category, data = two_way_predict, size = 5) |>\n",
    "  gf_line(size = 1.5, group = ~ trip_route_category) |>\n",
    "  gf_labs(x = \"\", y = \"Model Predicted Values\", color = 'Trip Route') |>\n",
    "  gf_point(mean ~ bike_type, color = ~ trip_route_category, data = mean_duration, shape = 15, size = 5)"
   ]
  },
  {
   "cell_type": "markdown",
   "metadata": {},
   "source": [
    "Back to the coefficients to really understand what these are."
   ]
  },
  {
   "cell_type": "code",
   "execution_count": null,
   "metadata": {
    "vscode": {
     "languageId": "r"
    }
   },
   "outputs": [],
   "source": [
    "broom::tidy(bike_lm) |>\n",
    "  mutate_if(is.double, round, 3)"
   ]
  },
  {
   "cell_type": "markdown",
   "metadata": {},
   "source": [
    "+ *Intercept*: The average bike rental duration for the reference group (electric bikes and one-way trips). \n",
    "+ *bike_typestandard*: This is like a slope, so for a one unit change in bike type (ie, moving from an electric bike to a standard bike), the estimated mean change in bike duration decreased by 0.375 minutes, holding other attributes constant.\n",
    "+ *trip_route_categoryRound Trip*: This is again like a slope, for a one unit change in trip route (ie, moving from a one-way trip to a round trip), the estimated mean change in bike duraction increased by 7.246 minutes, holder other attributes constant.\n",
    "\n",
    "These are like weighted marginal means, where the weighting is occuring due to different sample sizes among the groups. "
   ]
  },
  {
   "cell_type": "code",
   "execution_count": null,
   "metadata": {
    "vscode": {
     "languageId": "r"
    }
   },
   "outputs": [],
   "source": [
    "count(bike, bike_type, trip_route_category)"
   ]
  },
  {
   "cell_type": "code",
   "execution_count": null,
   "metadata": {
    "vscode": {
     "languageId": "r"
    }
   },
   "outputs": [],
   "source": [
    "df_stats(duration ~ bike_type + trip_route_category, data = bike, mean) |>\n",
    "  pivot_wider(names_from = 'trip_route_category', values_from = \"mean\")"
   ]
  },
  {
   "cell_type": "markdown",
   "metadata": {},
   "source": [
    "### Interaction Model\n",
    "\n",
    "The interaction model expands on the main effect only model, by allowing the effect of one category to differ based on elements of the other category. One way to think about this in the case with two categorical attributes, is that the mean change differs based on levels of the second attribute. This model, in the case where the attributes are each two groups, adds one additional term.\n",
    "\n",
    "$$\n",
    "duration = \\beta_{0} + \\beta_{1} bike\\_type + \\beta_{2} trip\\_route\\_category + \\beta_{3} bike\\_type:trip\\_route\\_category + \\epsilon\n",
    "$$"
   ]
  },
  {
   "cell_type": "code",
   "execution_count": null,
   "metadata": {
    "vscode": {
     "languageId": "r"
    }
   },
   "outputs": [],
   "source": [
    "bike_lm_int <- lm(duration ~ bike_type + trip_route_category + bike_type:trip_route_category, data = bike)\n",
    "\n",
    "broom::glance(bike_lm_int)\n",
    "broom::tidy(bike_lm_int)  |>\n",
    "  mutate_if(is.double, round, 3)"
   ]
  },
  {
   "cell_type": "code",
   "execution_count": null,
   "metadata": {
    "vscode": {
     "languageId": "r"
    }
   },
   "outputs": [],
   "source": [
    "two_way_predict_int <- broom::augment(bike_lm_int) |>\n",
    "   distinct(bike_type, trip_route_category, .fitted)\n",
    "\n",
    "two_way_predict_int"
   ]
  },
  {
   "cell_type": "code",
   "execution_count": null,
   "metadata": {
    "vscode": {
     "languageId": "r"
    }
   },
   "outputs": [],
   "source": [
    "gf_point(.fitted ~ bike_type, color = ~ trip_route_category, data = two_way_predict_int, size = 5) |>\n",
    "  gf_line(size = 1.5, group = ~ trip_route_category) |>\n",
    "  gf_labs(x = \"\", y = \"Model Predicted Values\", color = 'Trip Route') |>\n",
    "  gf_point(mean ~ bike_type, color = ~ trip_route_category, data = mean_duration, shape = 15, size = 5)"
   ]
  },
  {
   "cell_type": "markdown",
   "metadata": {},
   "source": [
    "Back to the coefficients and what do these mean here. "
   ]
  },
  {
   "cell_type": "code",
   "execution_count": null,
   "metadata": {
    "vscode": {
     "languageId": "r"
    }
   },
   "outputs": [],
   "source": [
    "broom::tidy(bike_lm_int)  |>\n",
    "  mutate_if(is.double, round, 3)"
   ]
  },
  {
   "cell_type": "markdown",
   "metadata": {},
   "source": [
    "+ *Intercept*: The average bike rental duration for the reference group (electric bikes and one-way trips). \n",
    "+ *bike_typestandard*: This is like a slope, so for a one unit change in bike type (ie, moving from an electric bike to a standard bike), the estimated mean change in bike duration decreased by .05 minutes, holding other attributes constant.\n",
    "+ *trip_route_categoryRound Trip*: This is again like a slope, for a one unit change in trip route (ie, moving from a one-way trip to a round trip), the estimated mean change in bike duraction increased by 4.3 minutes, holder other attributes constant.\n",
    "+ *bike_typestandard:trip_route_categoryRound Trip*: This is the interaction effect and is the **additional** mean level change for standard bikes *and* round trips, holding other attributes constant.\n",
    "\n",
    "We can get the estimated means for the 4 groups as follows:\n",
    "\n",
    "$$\n",
    "\\hat{\\mu}_{elec-1way} = 15.2\n",
    "$$\n",
    "$$\n",
    "\\hat{\\mu}_{elec-RT} = 15.2 + 4.3\n",
    "$$\n",
    "$$\n",
    "\\hat{\\mu}_{stand-1way} = 15.2 - .05\n",
    "$$\n",
    "$$\n",
    "\\hat{\\mu}_{stand-RT} = 15.2 - 0.05 + 4.3 + 4.7\n",
    "$$\n",
    "\n",
    "### Example\n",
    "\n",
    "What about the example with two categorical attributes bike type and passholder type? Fit this model below and interpret the parameter estimates, both one without and with interaction effects. "
   ]
  },
  {
   "cell_type": "code",
   "execution_count": null,
   "metadata": {
    "vscode": {
     "languageId": "r"
    }
   },
   "outputs": [],
   "source": []
  },
  {
   "cell_type": "markdown",
   "metadata": {},
   "source": [
    "## Second order (three-way) interaction\n",
    "\n",
    "The more attributes that interact with one another makes the model more complicated and difficult to interpret. Still, let's try a second order or three way interaction. "
   ]
  },
  {
   "cell_type": "code",
   "execution_count": null,
   "metadata": {
    "vscode": {
     "languageId": "r"
    }
   },
   "outputs": [],
   "source": [
    "bike_lm_3way <- lm(duration ~ bike_type * trip_route_category * passholder_type, data = bike)\n",
    "\n",
    "broom::glance(bike_lm_3way)\n",
    "broom::tidy(bike_lm_3way) |>\n",
    "  mutate_if(is.double, round, 3)"
   ]
  },
  {
   "cell_type": "markdown",
   "metadata": {},
   "source": [
    "Interpreting these coefficients can be challenging, visualizing them can be a more effective way to undersand the impact these may have. The following steps will be used to visualize these model results:\n",
    "\n",
    "1. Generate model-implied or predicted values for each combination of model values\n",
    "2. Plot those model implied means"
   ]
  },
  {
   "cell_type": "code",
   "execution_count": null,
   "metadata": {
    "vscode": {
     "languageId": "r"
    }
   },
   "outputs": [],
   "source": [
    "three_way_predict_int <- broom::augment(bike_lm_3way) |>\n",
    "   distinct(bike_type, trip_route_category, passholder_type, .fitted)\n",
    "\n",
    "three_way_predict_int"
   ]
  },
  {
   "cell_type": "code",
   "execution_count": null,
   "metadata": {
    "vscode": {
     "languageId": "r"
    }
   },
   "outputs": [],
   "source": [
    "gf_point(.fitted ~ bike_type, color = ~ trip_route_category, data = three_way_predict_int, size = 5) |>\n",
    "  gf_line(size = 1.5, group = ~ trip_route_category) |>\n",
    "  gf_facet_wrap(~ passholder_type) |>\n",
    "  gf_labs(y = \"\", x = \"Model Predicted Values\", color = 'Trip Route')"
   ]
  }
 ],
 "metadata": {
  "kernelspec": {
   "display_name": "R",
   "language": "R",
   "name": "ir"
  },
  "language_info": {
   "codemirror_mode": "r",
   "file_extension": ".r",
   "mimetype": "text/x-r-source",
   "name": "R",
   "pygments_lexer": "r",
   "version": "4.3.0"
  },
  "orig_nbformat": 4
 },
 "nbformat": 4,
 "nbformat_minor": 2
}
