{
 "cells": [
  {
   "cell_type": "markdown",
   "metadata": {},
   "source": [
    "# Model Comparison\n",
    "\n",
    "This section of multiple regression is going to explore model comparison, to guide the selection of the best fitting model from a set of competing models. "
   ]
  },
  {
   "cell_type": "code",
   "execution_count": null,
   "metadata": {
    "vscode": {
     "languageId": "r"
    }
   },
   "outputs": [],
   "source": [
    "library(tidyverse)\n",
    "library(ggformula)\n",
    "\n",
    "theme_set(theme_bw(base_size = 18))\n",
    "\n",
    "college <- read_csv(\"https://raw.githubusercontent.com/lebebr01/statthink/main/data-raw/College-scorecard-4143.csv\") %>%\n",
    "  mutate(act_mean = actcmmid - mean(actcmmid, na.rm = TRUE),\n",
    "         cost_mean = costt4_a - mean(costt4_a, na.rm = TRUE)) %>%\n",
    "  drop_na(act_mean, cost_mean)\n",
    "\n",
    "head(college)\n",
    "dim(college)"
   ]
  },
  {
   "cell_type": "code",
   "execution_count": null,
   "metadata": {
    "vscode": {
     "languageId": "r"
    }
   },
   "outputs": [],
   "source": [
    "adm_mult_reg <- lm(adm_rate ~ act_mean + cost_mean, data = college)\n",
    "\n",
    "summary(adm_mult_reg)"
   ]
  },
  {
   "cell_type": "markdown",
   "metadata": {},
   "source": [
    "## Omnibus Hypothesis\n",
    "\n",
    "In linear regression, I omitted a portion of the output from above that typically comes with most statistical output. That is, there is a test statistic that aims to test if the model is explaining variation over and above a simple mean. More specifically, this omnibus hypothesis tests the following:\n",
    "\n",
    "$$ \n",
    "H_{0}: All\\ \\beta = 0 \\\\[10pt]\n",
    "H_{A}: Any\\ \\beta \\neq 0\n",
    "$$\n",
    "\n",
    "This hypothesis can be formally tested with an F-statistic which is distributed as an F distribution with $p$ predictor attributes and $n - p - 1$ degrees of freedom. "
   ]
  },
  {
   "cell_type": "code",
   "execution_count": null,
   "metadata": {
    "vscode": {
     "languageId": "r"
    }
   },
   "outputs": [],
   "source": [
    "f_data <- data.frame(value = seq(0, 5, by = .01)) %>%\n",
    "   mutate(dens = df(value, 2, 1278))\n",
    "\n",
    "gf_line(dens ~ value, data = f_data, size = 2)"
   ]
  },
  {
   "cell_type": "code",
   "execution_count": null,
   "metadata": {
    "vscode": {
     "languageId": "r"
    }
   },
   "outputs": [],
   "source": [
    "f_data <- data.frame(value = seq(0, 5, by = .01)) %>%\n",
    "   mutate(dens = df(value, 5, 50))\n",
    "\n",
    "gf_line(dens ~ value, data = f_data, size = 2)"
   ]
  },
  {
   "cell_type": "markdown",
   "metadata": {},
   "source": [
    "## Adjusted R-squared\n",
    "The adjusted R-squared is typically used when comparing models. This statistic is commonly used as R-square represents the ratio between explained and total variance, therefore, this will always increase, even if the new attribute entered is not helpful. The adjusted R-squared tries to adjust for model complexity. There are many ways to do this, but the most common will be defined here.\n",
    "\n",
    "$$\n",
    "\\bar{R}^2 = 1 - (1 - R^2) \\frac{n - 1}{n - p - 1}\n",
    "$$\n",
    "\n",
    "or \n",
    "\n",
    "$$ \n",
    "\\bar{R}^2 = 1 - \\frac{SS_{res} / df_{e}}{SS_{tot} / df_{t}}\n",
    "$$\n",
    "where $p$ is the number of predictors (excluding the intercept), $n$ is the sample size, $SS_{e}$ and $SS_{tot}$ are sum of square residual and total respectively, and $df_{e}$ and $df_{t}$ are degrees of freedom for the error ($n - p - 1$) and total ($n - 1$) respectively. "
   ]
  },
  {
   "cell_type": "code",
   "execution_count": null,
   "metadata": {
    "vscode": {
     "languageId": "r"
    }
   },
   "outputs": [],
   "source": [
    "summary(adm_mult_reg)"
   ]
  },
  {
   "cell_type": "code",
   "execution_count": null,
   "metadata": {
    "vscode": {
     "languageId": "r"
    }
   },
   "outputs": [],
   "source": [
    "1 - (1 - .1836) * (1281 - 1) / (1281 - 2 - 1)"
   ]
  },
  {
   "cell_type": "code",
   "execution_count": null,
   "metadata": {
    "vscode": {
     "languageId": "r"
    }
   },
   "outputs": [],
   "source": [
    "anova(adm_mult_reg)"
   ]
  },
  {
   "cell_type": "code",
   "execution_count": null,
   "metadata": {
    "vscode": {
     "languageId": "r"
    }
   },
   "outputs": [],
   "source": [
    "1 - (42.01 / 1278) / ((8.39 + 1.066 + 42.014) / 1280)"
   ]
  },
  {
   "cell_type": "markdown",
   "metadata": {},
   "source": [
    "## Model Comparison\n",
    "\n",
    "There are a variety of statistics used to provide statistical evidence for competing models. If the models are nested, then the variance decomposition can be used to determine if the added predictors helped to explain significant variation over and above the simpler model. \n",
    "\n",
    "In this situation, another F statistic can be derived where \n",
    "\n",
    "$$\n",
    "F = \\frac{SS_{res}^{R} - SS_{res}^{F} / \\Delta p}{SS_{res}^{F} / df_{F}}\n",
    "$$"
   ]
  },
  {
   "cell_type": "code",
   "execution_count": null,
   "metadata": {
    "vscode": {
     "languageId": "r"
    }
   },
   "outputs": [],
   "source": [
    "act_lm <- lm(adm_rate ~ act_mean, data = college)\n",
    "\n",
    "summary(act_lm)"
   ]
  },
  {
   "cell_type": "code",
   "execution_count": null,
   "metadata": {
    "vscode": {
     "languageId": "r"
    }
   },
   "outputs": [],
   "source": [
    "anova(act_lm, adm_mult_reg)"
   ]
  },
  {
   "cell_type": "code",
   "execution_count": null,
   "metadata": {
    "vscode": {
     "languageId": "r"
    }
   },
   "outputs": [],
   "source": [
    "((43.08 - 42.01) / 1)"
   ]
  },
  {
   "cell_type": "code",
   "execution_count": null,
   "metadata": {
    "vscode": {
     "languageId": "r"
    }
   },
   "outputs": [],
   "source": [
    "1.07 / (42.01 / 1278)"
   ]
  },
  {
   "cell_type": "markdown",
   "metadata": {},
   "source": [
    "### Non-nested models\n",
    "\n",
    "For non-nested models, the F-statistic defined above will not work. Instead other statistics are needed to evaluate which model is the best. The one that I prefer for this is the AIC (Akaike information criteria) or the related small sample form, AICc. The equations for these aren't all that useful, utilizing software is the best way to compute these statistics. In general, smaller AIC values indicate a better fitting model. "
   ]
  },
  {
   "cell_type": "code",
   "execution_count": 4,
   "metadata": {
    "vscode": {
     "languageId": "r"
    }
   },
   "outputs": [
    {
     "data": {
      "text/html": [
       "<table class=\"dataframe\">\n",
       "<caption>A aictab: 2 x 8</caption>\n",
       "<thead>\n",
       "\t<tr><th></th><th scope=col>Modnames</th><th scope=col>K</th><th scope=col>AICc</th><th scope=col>Delta_AICc</th><th scope=col>ModelLik</th><th scope=col>AICcWt</th><th scope=col>LL</th><th scope=col>Cum.Wt</th></tr>\n",
       "\t<tr><th></th><th scope=col>&lt;chr&gt;</th><th scope=col>&lt;dbl&gt;</th><th scope=col>&lt;dbl&gt;</th><th scope=col>&lt;dbl&gt;</th><th scope=col>&lt;dbl&gt;</th><th scope=col>&lt;dbl&gt;</th><th scope=col>&lt;dbl&gt;</th><th scope=col>&lt;dbl&gt;</th></tr>\n",
       "</thead>\n",
       "<tbody>\n",
       "\t<tr><th scope=row>2</th><td>act </td><td>3</td><td>-704.2621</td><td> 0.00000</td><td>1.000000e+00</td><td>1.000000e+00</td><td>355.1404</td><td>1</td></tr>\n",
       "\t<tr><th scope=row>1</th><td>cost</td><td>3</td><td>-637.7000</td><td>66.56211</td><td>3.517391e-15</td><td>3.517391e-15</td><td>321.8594</td><td>1</td></tr>\n",
       "</tbody>\n",
       "</table>\n"
      ],
      "text/latex": [
       "A aictab: 2 x 8\n",
       "\\begin{tabular}{r|llllllll}\n",
       "  & Modnames & K & AICc & Delta\\_AICc & ModelLik & AICcWt & LL & Cum.Wt\\\\\n",
       "  & <chr> & <dbl> & <dbl> & <dbl> & <dbl> & <dbl> & <dbl> & <dbl>\\\\\n",
       "\\hline\n",
       "\t2 & act  & 3 & -704.2621 &  0.00000 & 1.000000e+00 & 1.000000e+00 & 355.1404 & 1\\\\\n",
       "\t1 & cost & 3 & -637.7000 & 66.56211 & 3.517391e-15 & 3.517391e-15 & 321.8594 & 1\\\\\n",
       "\\end{tabular}\n"
      ],
      "text/markdown": [
       "\n",
       "A aictab: 2 x 8\n",
       "\n",
       "| <!--/--> | Modnames &lt;chr&gt; | K &lt;dbl&gt; | AICc &lt;dbl&gt; | Delta_AICc &lt;dbl&gt; | ModelLik &lt;dbl&gt; | AICcWt &lt;dbl&gt; | LL &lt;dbl&gt; | Cum.Wt &lt;dbl&gt; |\n",
       "|---|---|---|---|---|---|---|---|---|\n",
       "| 2 | act  | 3 | -704.2621 |  0.00000 | 1.000000e+00 | 1.000000e+00 | 355.1404 | 1 |\n",
       "| 1 | cost | 3 | -637.7000 | 66.56211 | 3.517391e-15 | 3.517391e-15 | 321.8594 | 1 |\n",
       "\n"
      ],
      "text/plain": [
       "  Modnames K AICc      Delta_AICc ModelLik     AICcWt       LL       Cum.Wt\n",
       "2 act      3 -704.2621  0.00000   1.000000e+00 1.000000e+00 355.1404 1     \n",
       "1 cost     3 -637.7000 66.56211   3.517391e-15 3.517391e-15 321.8594 1     "
      ]
     },
     "metadata": {},
     "output_type": "display_data"
    }
   ],
   "source": [
    "library(AICcmodavg)\n",
    "\n",
    "cost_lm <- lm(adm_rate ~ cost_mean, data = college)\n",
    "act_lm <- lm(adm_rate ~ act_mean, data = college)\n",
    "\n",
    "aictab(list(cost_lm, act_lm), \n",
    "       modnames = c('cost', 'act'))"
   ]
  }
 ],
 "metadata": {
  "kernelspec": {
   "display_name": "R",
   "language": "R",
   "name": "ir"
  },
  "language_info": {
   "codemirror_mode": "r",
   "file_extension": ".r",
   "mimetype": "text/x-r-source",
   "name": "R",
   "pygments_lexer": "r",
   "version": "4.3.1"
  },
  "orig_nbformat": 4
 },
 "nbformat": 4,
 "nbformat_minor": 2
}
