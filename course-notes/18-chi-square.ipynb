{
 "cells": [
  {
   "cell_type": "markdown",
   "metadata": {},
   "source": [
    "# Chi-Square Tests\n",
    "\n",
    "There are a total of 2 different chi-square tests for categorical attributes.\n",
    "\n",
    "1. Chi-square goodness of fit - Useful for 1 categorical attribute\n",
    "2. Chi-square test of independence - Useful for 2 categorical attributes\n",
    "\n",
    "Let's explore some data related to the [General Social Survey](https://gss.norc.org/)."
   ]
  },
  {
   "cell_type": "code",
   "execution_count": null,
   "metadata": {},
   "outputs": [],
   "source": [
    "library(tidyverse)\n",
    "\n",
    "head(gss_cat)"
   ]
  },
  {
   "cell_type": "markdown",
   "metadata": {},
   "source": [
    "## Chi-square goodness of fit\n",
    "\n",
    "Suppose we were interested in know if the proportion of people from the GSS data are similar to the political breakdown currently in the United States. This link gives the breakdown of the [current political affiliation in the United States](https://news.gallup.com/poll/15370/party-affiliation.aspx) according to a running Gallup poll. \n",
    "\n",
    "The chi-square goodness of fit explores the extent to which a categorical attribute follows a specified distribution. The chi-square goodness of fit test is often framed as a way to evaluate if the sample data is representative of the population. As such, the following hypotheses would be a way to frame this analysis. \n",
    "\n",
    "$$\n",
    "H_{0}:\\ All\\ categories\\ follow\\ the\\ population\\ distribution\n",
    "$$\n",
    "\n",
    "or \n",
    "\n",
    "$$ \n",
    "H_{0}:\\ All\\ categories\\ follow\\ the\\ specified\\ percentages/proportions\n",
    "$$\n",
    "\n",
    "To frame this analysis in the context of the current data, let's look at the `partyid` attribute in the data. "
   ]
  },
  {
   "cell_type": "code",
   "execution_count": null,
   "metadata": {},
   "outputs": [],
   "source": [
    "count(gss_cat, partyid) %>%\n",
    "  mutate(prop = n / sum(n))"
   ]
  },
  {
   "cell_type": "markdown",
   "metadata": {},
   "source": [
    "For this example, I'm going to collapse categories and assign a few to NA to omit from the analysis. The following code does this task and then returns a similar table to that shown above."
   ]
  },
  {
   "cell_type": "code",
   "execution_count": null,
   "metadata": {},
   "outputs": [],
   "source": [
    "gss_cat <- gss_cat %>%\n",
    "  mutate(partyid_collapse = fct_collapse(partyid,\n",
    "    other = c(\"No answer\", \"Don't know\", \"Other party\"),\n",
    "    rep = c(\"Strong republican\", \"Not str republican\"),\n",
    "    ind = c(\"Ind,near rep\", \"Independent\", \"Ind,near dem\"),\n",
    "    dem = c(\"Not str democrat\", \"Strong democrat\")\n",
    "  ))\n",
    "\n",
    "count(gss_cat, partyid_collapse) %>%\n",
    "  mutate(prop = n / sum(n))"
   ]
  },
  {
   "cell_type": "markdown",
   "metadata": {},
   "source": [
    "### Chi-Square GoF Mechanics\n",
    "\n",
    "The chi-square goodness of fit compares the observed cell counts with the expected cell counts. More formally, the chi-square test statistic is as follows:\n",
    "\n",
    "$$\n",
    "\\chi^2 = \\sum \\frac{( O - E ) ^ 2}{E}\n",
    "$$\n",
    "\n",
    "where $O$ is the observed cell counts and $E$ are the expected cell counts. The expected cell counts are defined as the sample size times the hypothesized proportions/percentages (this is not completely statistically accurate, however, in many social science situations, this should be sufficient). For example:\n",
    "\n",
    "$$\n",
    "E = p_{H_{0}} * N\n",
    "$$\n",
    "\n",
    "where $p_{H_{0}}$ is the hypothesized proportions from the null hypothesis. The $\\chi^2$ statistic follows a chi-square distribution with $k - 1$ degrees of freedom, where $k$ is the number of categories. \n",
    "\n",
    "Using the table above, these can be computed from the data and assuming the following as population proportions/percentages from the Gallup poll: Rep = 26%, Ind = 44%, Dem = 26%, other = 4%."
   ]
  },
  {
   "cell_type": "code",
   "execution_count": null,
   "metadata": {},
   "outputs": [],
   "source": [
    "chi_tab <- count(gss_cat, partyid_collapse) %>%\n",
    "  mutate(prop = n / sum(n), \n",
    "         prop_h0 = c(.04, .26, .44, .26),\n",
    "         E = prop_h0 * sum(n))\n",
    "\n",
    "chi_tab"
   ]
  },
  {
   "cell_type": "markdown",
   "metadata": {},
   "source": [
    "The $\\chi^2$ statistic can be computed manually."
   ]
  },
  {
   "cell_type": "code",
   "execution_count": null,
   "metadata": {},
   "outputs": [],
   "source": [
    "chi_tab %>%\n",
    "  mutate(num = (n - E)^2,\n",
    "         chi_cell = num / E) %>%\n",
    "  summarise(chi_square = sum(chi_cell))"
   ]
  },
  {
   "cell_type": "markdown",
   "metadata": {},
   "source": [
    "More readily, using the `chisq.test()` function in R is easier. This function takes one primary argument, the attribute to do the chi-square goodness of fit test on. Optionally, the specific proportions need to be passed as well, which is typically desired unless equal percentages/proportions are desired."
   ]
  },
  {
   "cell_type": "code",
   "execution_count": null,
   "metadata": {},
   "outputs": [],
   "source": [
    "xsq_got <- chisq.test(table(gss_cat$partyid_collapse), p = c(.04, .26, .44, .26))\n",
    "\n",
    "xsq_got"
   ]
  },
  {
   "cell_type": "markdown",
   "metadata": {},
   "source": [
    "### Explore Differences\n",
    "\n",
    "It is often of interest to explore differences, particularly if the chi-square goodness of fit test has a small p-value. This would indicate that the counts likely do not follow the assumed distribution, but where are the differences found? Residuals can help with this. The residuals are the difference in the observed and expected values divided by the square root of the expected values. \n",
    "\n",
    "$$\n",
    "\\chi^2_{resid} = \\frac{(O - E)}{\\sqrt{E}}\n",
    "$$\n",
    "\n",
    "These can be extracted directly from the model object saved when running the chi-square test. "
   ]
  },
  {
   "cell_type": "code",
   "execution_count": null,
   "metadata": {},
   "outputs": [],
   "source": [
    "xsq_got$residuals"
   ]
  },
  {
   "cell_type": "markdown",
   "metadata": {},
   "source": [
    "## Chi-square Test of Independence\n",
    "\n",
    "The chi-square test of independence is similar to that of the goodness of fit test, except now instead of a single attribute of interest, there are now more than one categorical attribute to be explored. The test of independence explores if the observed attributes are independent from one another. That is, if the two categorical attributes are indpendent, this would assume that the two attributes are proportionally distributed across all categories. The form of the $\\chi^2$ test is the same as the GoT test:\n",
    "\n",
    "$$\n",
    "\\chi^2 = \\sum \\frac{( O - E ) ^ 2}{E}\n",
    "$$\n",
    "\n",
    "However, different from the goodness of fit test, the expected values are computed differently. The expected cell counts are now defined as:\n",
    "\n",
    "$$\n",
    "E = N * p_{r} * p_{c}\n",
    "$$\n",
    "\n",
    "where $p_{r}$ is the margin proportion for the rows, ignoring the columns (that is, marginal row proportion) and $p_{c}$ is the margin proportion for the columns, ignoring the rows. Finally, the test has degrees of freedom equal to $(r - 1)(c - 1)$.\n",
    "\n",
    "### Data Example\n",
    "\n",
    "To explore this example, let's see if the political party affiliation differs across years that the GSS data were collected. The data are collected over 14 years, collected every other year. "
   ]
  },
  {
   "cell_type": "code",
   "execution_count": null,
   "metadata": {},
   "outputs": [],
   "source": [
    "count(gss_cat, year)"
   ]
  },
  {
   "cell_type": "markdown",
   "metadata": {},
   "source": [
    "Suppose we were interested in exploring if there was a difference in political affiliation before and after 2010. "
   ]
  },
  {
   "cell_type": "code",
   "execution_count": null,
   "metadata": {},
   "outputs": [],
   "source": [
    "gss_cat <- gss_cat %>%\n",
    "  mutate(year_2 = ifelse(year < 2010, \"2000 to 2008\", \"2010 to 2014\"))\n",
    "\n",
    "addmargins(table(gss_cat$year_2, gss_cat$partyid_collapse))"
   ]
  },
  {
   "cell_type": "markdown",
   "metadata": {},
   "source": [
    "Giving this table, a single expected value could be computed manually. \n",
    "\n",
    "$$\n",
    "E_{1,1} = 21483 * (14927 / 21483) * (548 / 21483) = 380.766\n",
    "$$"
   ]
  },
  {
   "cell_type": "code",
   "execution_count": null,
   "metadata": {},
   "outputs": [],
   "source": [
    "21483 * (14927 / 21483) * (548 / 21483)"
   ]
  },
  {
   "cell_type": "markdown",
   "metadata": {},
   "source": [
    "These could be computed for subsequent cell expected values, but these can be extracted directly when fitting the chi-square using the `chisq.test()` function. "
   ]
  },
  {
   "cell_type": "code",
   "execution_count": null,
   "metadata": {},
   "outputs": [],
   "source": [
    "xsq_ind <- chisq.test(table(gss_cat$year_2, gss_cat$partyid_collapse))\n",
    "\n",
    "xsq_ind$expected"
   ]
  },
  {
   "cell_type": "code",
   "execution_count": null,
   "metadata": {},
   "outputs": [],
   "source": [
    "xsq_ind"
   ]
  },
  {
   "cell_type": "code",
   "execution_count": null,
   "metadata": {},
   "outputs": [],
   "source": [
    "xsq_ind$residuals"
   ]
  },
  {
   "cell_type": "markdown",
   "metadata": {},
   "source": [
    "## Effect Sizes for chi-square tests\n",
    "\n",
    "Effect sizes for chi-square tests can be important, particularly with large sample sizes as the chi-square can be highly sensitive to large sample sizes. In particular, very small differences can be found with small samples sizes. \n",
    "\n",
    "For the goodness of fit test, $Cohens\\ W$ can be estimated as an effect size measure. This is computed as:\n",
    "\n",
    "$$\n",
    "Cohens\\ W = \\sqrt{\\frac{\\chi^2}{N}}\n",
    "$$\n",
    "\n",
    "For the test of independence, Cramer's V can be used.\n",
    "\n",
    "$$\n",
    "V = \\sqrt{\\frac{\\chi^2}{N * df^{*}}}\n",
    "$$\n",
    "where $df^{*}$ is the smallest of $r - 1$ or $c - 1$.\n",
    "\n",
    "Cramers V ranges from 0 to 1, where values closer to 1 indicate more variation is explained (ie, the attributes are not independent).\n",
    "\n",
    "Cohen's W is similar to Cramers V, but it is not limited to range between 0 and 1. "
   ]
  },
  {
   "cell_type": "code",
   "execution_count": null,
   "metadata": {},
   "outputs": [],
   "source": [
    "sqrt(693.4 / sum(chi_tab$n))"
   ]
  },
  {
   "cell_type": "code",
   "execution_count": null,
   "metadata": {},
   "outputs": [],
   "source": [
    "sqrt(64.399 / 21483 * 1)"
   ]
  },
  {
   "cell_type": "markdown",
   "metadata": {},
   "source": [
    "The DescTools package can be used for Cramer's V as well."
   ]
  },
  {
   "cell_type": "code",
   "execution_count": null,
   "metadata": {},
   "outputs": [],
   "source": [
    "library(DescTools)\n",
    "\n",
    "CramerV(table(gss_cat$year_2, gss_cat$partyid_collapse))"
   ]
  }
 ],
 "metadata": {
  "kernelspec": {
   "display_name": "R",
   "language": "R",
   "name": "ir"
  },
  "language_info": {
   "codemirror_mode": "r",
   "file_extension": ".r",
   "mimetype": "text/x-r-source",
   "name": "R",
   "pygments_lexer": "r",
   "version": "4.1.1"
  },
  "orig_nbformat": 4
 },
 "nbformat": 4,
 "nbformat_minor": 2
}
