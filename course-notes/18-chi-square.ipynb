{
 "cells": [
  {
   "cell_type": "markdown",
   "metadata": {},
   "source": [
    "# Chi-Square Tests\n",
    "\n",
    "There are a total of 2 different chi-square tests for categorical attributes.\n",
    "\n",
    "1. Chi-square goodness of fit - Useful for 1 categorical attribute\n",
    "2. Chi-square test of independence - Useful for 2 categorical attributes\n",
    "\n",
    "Let's explore some data related to the [General Social Survey](https://gss.norc.org/)."
   ]
  },
  {
   "cell_type": "code",
   "execution_count": 2,
   "metadata": {},
   "outputs": [
    {
     "data": {
      "text/html": [
       "<table class=\"dataframe\">\n",
       "<caption>A tibble: 6 × 9</caption>\n",
       "<thead>\n",
       "\t<tr><th scope=col>year</th><th scope=col>marital</th><th scope=col>age</th><th scope=col>race</th><th scope=col>rincome</th><th scope=col>partyid</th><th scope=col>relig</th><th scope=col>denom</th><th scope=col>tvhours</th></tr>\n",
       "\t<tr><th scope=col>&lt;int&gt;</th><th scope=col>&lt;fct&gt;</th><th scope=col>&lt;int&gt;</th><th scope=col>&lt;fct&gt;</th><th scope=col>&lt;fct&gt;</th><th scope=col>&lt;fct&gt;</th><th scope=col>&lt;fct&gt;</th><th scope=col>&lt;fct&gt;</th><th scope=col>&lt;int&gt;</th></tr>\n",
       "</thead>\n",
       "<tbody>\n",
       "\t<tr><td>2000</td><td>Never married</td><td>26</td><td>White</td><td>$8000 to 9999 </td><td>Ind,near rep      </td><td>Protestant        </td><td>Southern baptist</td><td>12</td></tr>\n",
       "\t<tr><td>2000</td><td>Divorced     </td><td>48</td><td>White</td><td>$8000 to 9999 </td><td>Not str republican</td><td>Protestant        </td><td>Baptist-dk which</td><td>NA</td></tr>\n",
       "\t<tr><td>2000</td><td>Widowed      </td><td>67</td><td>White</td><td>Not applicable</td><td>Independent       </td><td>Protestant        </td><td>No denomination </td><td> 2</td></tr>\n",
       "\t<tr><td>2000</td><td>Never married</td><td>39</td><td>White</td><td>Not applicable</td><td>Ind,near rep      </td><td>Orthodox-christian</td><td>Not applicable  </td><td> 4</td></tr>\n",
       "\t<tr><td>2000</td><td>Divorced     </td><td>25</td><td>White</td><td>Not applicable</td><td>Not str democrat  </td><td>None              </td><td>Not applicable  </td><td> 1</td></tr>\n",
       "\t<tr><td>2000</td><td>Married      </td><td>25</td><td>White</td><td>$20000 - 24999</td><td>Strong democrat   </td><td>Protestant        </td><td>Southern baptist</td><td>NA</td></tr>\n",
       "</tbody>\n",
       "</table>\n"
      ],
      "text/latex": [
       "A tibble: 6 × 9\n",
       "\\begin{tabular}{lllllllll}\n",
       " year & marital & age & race & rincome & partyid & relig & denom & tvhours\\\\\n",
       " <int> & <fct> & <int> & <fct> & <fct> & <fct> & <fct> & <fct> & <int>\\\\\n",
       "\\hline\n",
       "\t 2000 & Never married & 26 & White & \\$8000 to 9999  & Ind,near rep       & Protestant         & Southern baptist & 12\\\\\n",
       "\t 2000 & Divorced      & 48 & White & \\$8000 to 9999  & Not str republican & Protestant         & Baptist-dk which & NA\\\\\n",
       "\t 2000 & Widowed       & 67 & White & Not applicable & Independent        & Protestant         & No denomination  &  2\\\\\n",
       "\t 2000 & Never married & 39 & White & Not applicable & Ind,near rep       & Orthodox-christian & Not applicable   &  4\\\\\n",
       "\t 2000 & Divorced      & 25 & White & Not applicable & Not str democrat   & None               & Not applicable   &  1\\\\\n",
       "\t 2000 & Married       & 25 & White & \\$20000 - 24999 & Strong democrat    & Protestant         & Southern baptist & NA\\\\\n",
       "\\end{tabular}\n"
      ],
      "text/markdown": [
       "\n",
       "A tibble: 6 × 9\n",
       "\n",
       "| year &lt;int&gt; | marital &lt;fct&gt; | age &lt;int&gt; | race &lt;fct&gt; | rincome &lt;fct&gt; | partyid &lt;fct&gt; | relig &lt;fct&gt; | denom &lt;fct&gt; | tvhours &lt;int&gt; |\n",
       "|---|---|---|---|---|---|---|---|---|\n",
       "| 2000 | Never married | 26 | White | $8000 to 9999  | Ind,near rep       | Protestant         | Southern baptist | 12 |\n",
       "| 2000 | Divorced      | 48 | White | $8000 to 9999  | Not str republican | Protestant         | Baptist-dk which | NA |\n",
       "| 2000 | Widowed       | 67 | White | Not applicable | Independent        | Protestant         | No denomination  |  2 |\n",
       "| 2000 | Never married | 39 | White | Not applicable | Ind,near rep       | Orthodox-christian | Not applicable   |  4 |\n",
       "| 2000 | Divorced      | 25 | White | Not applicable | Not str democrat   | None               | Not applicable   |  1 |\n",
       "| 2000 | Married       | 25 | White | $20000 - 24999 | Strong democrat    | Protestant         | Southern baptist | NA |\n",
       "\n"
      ],
      "text/plain": [
       "  year marital       age race  rincome        partyid           \n",
       "1 2000 Never married 26  White $8000 to 9999  Ind,near rep      \n",
       "2 2000 Divorced      48  White $8000 to 9999  Not str republican\n",
       "3 2000 Widowed       67  White Not applicable Independent       \n",
       "4 2000 Never married 39  White Not applicable Ind,near rep      \n",
       "5 2000 Divorced      25  White Not applicable Not str democrat  \n",
       "6 2000 Married       25  White $20000 - 24999 Strong democrat   \n",
       "  relig              denom            tvhours\n",
       "1 Protestant         Southern baptist 12     \n",
       "2 Protestant         Baptist-dk which NA     \n",
       "3 Protestant         No denomination   2     \n",
       "4 Orthodox-christian Not applicable    4     \n",
       "5 None               Not applicable    1     \n",
       "6 Protestant         Southern baptist NA     "
      ]
     },
     "metadata": {},
     "output_type": "display_data"
    }
   ],
   "source": [
    "library(tidyverse)\n",
    "\n",
    "head(gss_cat)"
   ]
  },
  {
   "cell_type": "markdown",
   "metadata": {},
   "source": [
    "## Chi-square goodness of fit\n",
    "\n",
    "Suppose we were interested in know if the proportion of people from the GSS data are similar to the political breakdown currently in the United States. This link gives the breakdown of the [current political affiliation in the United States](https://news.gallup.com/poll/15370/party-affiliation.aspx) according to a running Gallup poll. \n",
    "\n",
    "The chi-square goodness of fit explores the extent to which a categorical attribute follows a specified distribution. The chi-square goodness of fit test is often framed as a way to evaluate if the sample data is representative of the population. As such, the following hypotheses would be a way to frame this analysis. \n",
    "\n",
    "$$\n",
    "H_{0}:\\ All\\ categories\\ follow\\ the\\ population\\ distribution\n",
    "$$\n",
    "\n",
    "or \n",
    "\n",
    "$$ \n",
    "H_{0}:\\ All\\ categories\\ follow\\ the\\ specified\\ percentages/proportions\n",
    "$$\n",
    "\n",
    "To frame this analysis in the context of the current data, let's look at the `partyid` attribute in the data. "
   ]
  },
  {
   "cell_type": "code",
   "execution_count": 3,
   "metadata": {},
   "outputs": [
    {
     "data": {
      "text/html": [
       "<table class=\"dataframe\">\n",
       "<caption>A tibble: 10 × 3</caption>\n",
       "<thead>\n",
       "\t<tr><th scope=col>partyid</th><th scope=col>n</th><th scope=col>prop</th></tr>\n",
       "\t<tr><th scope=col>&lt;fct&gt;</th><th scope=col>&lt;int&gt;</th><th scope=col>&lt;dbl&gt;</th></tr>\n",
       "</thead>\n",
       "<tbody>\n",
       "\t<tr><td>No answer         </td><td> 154</td><td>7.168459e-03</td></tr>\n",
       "\t<tr><td>Don't know        </td><td>   1</td><td>4.654843e-05</td></tr>\n",
       "\t<tr><td>Other party       </td><td> 393</td><td>1.829353e-02</td></tr>\n",
       "\t<tr><td>Strong republican </td><td>2314</td><td>1.077131e-01</td></tr>\n",
       "\t<tr><td>Not str republican</td><td>3032</td><td>1.411349e-01</td></tr>\n",
       "\t<tr><td>Ind,near rep      </td><td>1791</td><td>8.336824e-02</td></tr>\n",
       "\t<tr><td>Independent       </td><td>4119</td><td>1.917330e-01</td></tr>\n",
       "\t<tr><td>Ind,near dem      </td><td>2499</td><td>1.163245e-01</td></tr>\n",
       "\t<tr><td>Not str democrat  </td><td>3690</td><td>1.717637e-01</td></tr>\n",
       "\t<tr><td>Strong democrat   </td><td>3490</td><td>1.624540e-01</td></tr>\n",
       "</tbody>\n",
       "</table>\n"
      ],
      "text/latex": [
       "A tibble: 10 × 3\n",
       "\\begin{tabular}{lll}\n",
       " partyid & n & prop\\\\\n",
       " <fct> & <int> & <dbl>\\\\\n",
       "\\hline\n",
       "\t No answer          &  154 & 7.168459e-03\\\\\n",
       "\t Don't know         &    1 & 4.654843e-05\\\\\n",
       "\t Other party        &  393 & 1.829353e-02\\\\\n",
       "\t Strong republican  & 2314 & 1.077131e-01\\\\\n",
       "\t Not str republican & 3032 & 1.411349e-01\\\\\n",
       "\t Ind,near rep       & 1791 & 8.336824e-02\\\\\n",
       "\t Independent        & 4119 & 1.917330e-01\\\\\n",
       "\t Ind,near dem       & 2499 & 1.163245e-01\\\\\n",
       "\t Not str democrat   & 3690 & 1.717637e-01\\\\\n",
       "\t Strong democrat    & 3490 & 1.624540e-01\\\\\n",
       "\\end{tabular}\n"
      ],
      "text/markdown": [
       "\n",
       "A tibble: 10 × 3\n",
       "\n",
       "| partyid &lt;fct&gt; | n &lt;int&gt; | prop &lt;dbl&gt; |\n",
       "|---|---|---|\n",
       "| No answer          |  154 | 7.168459e-03 |\n",
       "| Don't know         |    1 | 4.654843e-05 |\n",
       "| Other party        |  393 | 1.829353e-02 |\n",
       "| Strong republican  | 2314 | 1.077131e-01 |\n",
       "| Not str republican | 3032 | 1.411349e-01 |\n",
       "| Ind,near rep       | 1791 | 8.336824e-02 |\n",
       "| Independent        | 4119 | 1.917330e-01 |\n",
       "| Ind,near dem       | 2499 | 1.163245e-01 |\n",
       "| Not str democrat   | 3690 | 1.717637e-01 |\n",
       "| Strong democrat    | 3490 | 1.624540e-01 |\n",
       "\n"
      ],
      "text/plain": [
       "   partyid            n    prop        \n",
       "1  No answer           154 7.168459e-03\n",
       "2  Don't know            1 4.654843e-05\n",
       "3  Other party         393 1.829353e-02\n",
       "4  Strong republican  2314 1.077131e-01\n",
       "5  Not str republican 3032 1.411349e-01\n",
       "6  Ind,near rep       1791 8.336824e-02\n",
       "7  Independent        4119 1.917330e-01\n",
       "8  Ind,near dem       2499 1.163245e-01\n",
       "9  Not str democrat   3690 1.717637e-01\n",
       "10 Strong democrat    3490 1.624540e-01"
      ]
     },
     "metadata": {},
     "output_type": "display_data"
    }
   ],
   "source": [
    "count(gss_cat, partyid) %>%\n",
    "  mutate(prop = n / sum(n))"
   ]
  },
  {
   "cell_type": "markdown",
   "metadata": {},
   "source": [
    "For this example, I'm going to collapse categories and assign a few to NA to omit from the analysis. The following code does this task and then returns a similar table to that shown above."
   ]
  },
  {
   "cell_type": "code",
   "execution_count": 4,
   "metadata": {},
   "outputs": [
    {
     "data": {
      "text/html": [
       "<table class=\"dataframe\">\n",
       "<caption>A tibble: 4 × 3</caption>\n",
       "<thead>\n",
       "\t<tr><th scope=col>partyid_collapse</th><th scope=col>n</th><th scope=col>prop</th></tr>\n",
       "\t<tr><th scope=col>&lt;fct&gt;</th><th scope=col>&lt;int&gt;</th><th scope=col>&lt;dbl&gt;</th></tr>\n",
       "</thead>\n",
       "<tbody>\n",
       "\t<tr><td>other</td><td> 548</td><td>0.02550854</td></tr>\n",
       "\t<tr><td>rep  </td><td>5346</td><td>0.24884793</td></tr>\n",
       "\t<tr><td>ind  </td><td>8409</td><td>0.39142578</td></tr>\n",
       "\t<tr><td>dem  </td><td>7180</td><td>0.33421775</td></tr>\n",
       "</tbody>\n",
       "</table>\n"
      ],
      "text/latex": [
       "A tibble: 4 × 3\n",
       "\\begin{tabular}{lll}\n",
       " partyid\\_collapse & n & prop\\\\\n",
       " <fct> & <int> & <dbl>\\\\\n",
       "\\hline\n",
       "\t other &  548 & 0.02550854\\\\\n",
       "\t rep   & 5346 & 0.24884793\\\\\n",
       "\t ind   & 8409 & 0.39142578\\\\\n",
       "\t dem   & 7180 & 0.33421775\\\\\n",
       "\\end{tabular}\n"
      ],
      "text/markdown": [
       "\n",
       "A tibble: 4 × 3\n",
       "\n",
       "| partyid_collapse &lt;fct&gt; | n &lt;int&gt; | prop &lt;dbl&gt; |\n",
       "|---|---|---|\n",
       "| other |  548 | 0.02550854 |\n",
       "| rep   | 5346 | 0.24884793 |\n",
       "| ind   | 8409 | 0.39142578 |\n",
       "| dem   | 7180 | 0.33421775 |\n",
       "\n"
      ],
      "text/plain": [
       "  partyid_collapse n    prop      \n",
       "1 other             548 0.02550854\n",
       "2 rep              5346 0.24884793\n",
       "3 ind              8409 0.39142578\n",
       "4 dem              7180 0.33421775"
      ]
     },
     "metadata": {},
     "output_type": "display_data"
    }
   ],
   "source": [
    "gss_cat <- gss_cat %>%\n",
    "  mutate(partyid_collapse = fct_collapse(partyid,\n",
    "    other = c(\"No answer\", \"Don't know\", \"Other party\"),\n",
    "    rep = c(\"Strong republican\", \"Not str republican\"),\n",
    "    ind = c(\"Ind,near rep\", \"Independent\", \"Ind,near dem\"),\n",
    "    dem = c(\"Not str democrat\", \"Strong democrat\")\n",
    "  ))\n",
    "\n",
    "count(gss_cat, partyid_collapse) %>%\n",
    "  mutate(prop = n / sum(n))"
   ]
  },
  {
   "cell_type": "markdown",
   "metadata": {},
   "source": [
    "### Chi-Square GoF Mechanics\n",
    "\n",
    "The chi-square goodness of fit compares the observed cell counts with the expected cell counts. More formally, the chi-square test statistic is as follows:\n",
    "\n",
    "$$\n",
    "\\chi^2 = \\sum \\frac{( O - E ) ^ 2}{E}\n",
    "$$\n",
    "\n",
    "where $O$ is the observed cell counts and $E$ are the expected cell counts. The expected cell counts are defined as the sample size times the hypothesized proportions/percentages (this is not completely statistically accurate, however, in many social science situations, this should be sufficient). For example:\n",
    "\n",
    "$$\n",
    "E = p_{H_{0}} * N\n",
    "$$\n",
    "\n",
    "where $p_{H_{0}}$ is the hypothesized proportions from the null hypothesis. The $\\chi^2$ statistic follows a chi-square distribution with $k - 1$ degrees of freedom, where $k$ is the number of categories. \n",
    "\n",
    "Using the table above, these can be computed from the data and assuming the following as population proportions/percentages from the Gallup poll: Rep = 26%, Ind = 44%, Dem = 26%, other = 4%."
   ]
  },
  {
   "cell_type": "code",
   "execution_count": 5,
   "metadata": {},
   "outputs": [
    {
     "data": {
      "text/html": [
       "<table class=\"dataframe\">\n",
       "<caption>A tibble: 4 × 5</caption>\n",
       "<thead>\n",
       "\t<tr><th scope=col>partyid_collapse</th><th scope=col>n</th><th scope=col>prop</th><th scope=col>prop_h0</th><th scope=col>E</th></tr>\n",
       "\t<tr><th scope=col>&lt;fct&gt;</th><th scope=col>&lt;int&gt;</th><th scope=col>&lt;dbl&gt;</th><th scope=col>&lt;dbl&gt;</th><th scope=col>&lt;dbl&gt;</th></tr>\n",
       "</thead>\n",
       "<tbody>\n",
       "\t<tr><td>other</td><td> 548</td><td>0.02550854</td><td>0.04</td><td> 859.32</td></tr>\n",
       "\t<tr><td>rep  </td><td>5346</td><td>0.24884793</td><td>0.26</td><td>5585.58</td></tr>\n",
       "\t<tr><td>ind  </td><td>8409</td><td>0.39142578</td><td>0.44</td><td>9452.52</td></tr>\n",
       "\t<tr><td>dem  </td><td>7180</td><td>0.33421775</td><td>0.26</td><td>5585.58</td></tr>\n",
       "</tbody>\n",
       "</table>\n"
      ],
      "text/latex": [
       "A tibble: 4 × 5\n",
       "\\begin{tabular}{lllll}\n",
       " partyid\\_collapse & n & prop & prop\\_h0 & E\\\\\n",
       " <fct> & <int> & <dbl> & <dbl> & <dbl>\\\\\n",
       "\\hline\n",
       "\t other &  548 & 0.02550854 & 0.04 &  859.32\\\\\n",
       "\t rep   & 5346 & 0.24884793 & 0.26 & 5585.58\\\\\n",
       "\t ind   & 8409 & 0.39142578 & 0.44 & 9452.52\\\\\n",
       "\t dem   & 7180 & 0.33421775 & 0.26 & 5585.58\\\\\n",
       "\\end{tabular}\n"
      ],
      "text/markdown": [
       "\n",
       "A tibble: 4 × 5\n",
       "\n",
       "| partyid_collapse &lt;fct&gt; | n &lt;int&gt; | prop &lt;dbl&gt; | prop_h0 &lt;dbl&gt; | E &lt;dbl&gt; |\n",
       "|---|---|---|---|---|\n",
       "| other |  548 | 0.02550854 | 0.04 |  859.32 |\n",
       "| rep   | 5346 | 0.24884793 | 0.26 | 5585.58 |\n",
       "| ind   | 8409 | 0.39142578 | 0.44 | 9452.52 |\n",
       "| dem   | 7180 | 0.33421775 | 0.26 | 5585.58 |\n",
       "\n"
      ],
      "text/plain": [
       "  partyid_collapse n    prop       prop_h0 E      \n",
       "1 other             548 0.02550854 0.04     859.32\n",
       "2 rep              5346 0.24884793 0.26    5585.58\n",
       "3 ind              8409 0.39142578 0.44    9452.52\n",
       "4 dem              7180 0.33421775 0.26    5585.58"
      ]
     },
     "metadata": {},
     "output_type": "display_data"
    }
   ],
   "source": [
    "chi_tab <- count(gss_cat, partyid_collapse) %>%\n",
    "  mutate(prop = n / sum(n), \n",
    "         prop_h0 = c(.04, .26, .44, .26),\n",
    "         E = prop_h0 * sum(n))\n",
    "\n",
    "chi_tab"
   ]
  },
  {
   "cell_type": "markdown",
   "metadata": {},
   "source": [
    "The $\\chi^2$ statistic can be computed manually."
   ]
  },
  {
   "cell_type": "code",
   "execution_count": 6,
   "metadata": {},
   "outputs": [
    {
     "data": {
      "text/html": [
       "<table class=\"dataframe\">\n",
       "<caption>A tibble: 1 × 1</caption>\n",
       "<thead>\n",
       "\t<tr><th scope=col>chi_square</th></tr>\n",
       "\t<tr><th scope=col>&lt;dbl&gt;</th></tr>\n",
       "</thead>\n",
       "<tbody>\n",
       "\t<tr><td>693.3954</td></tr>\n",
       "</tbody>\n",
       "</table>\n"
      ],
      "text/latex": [
       "A tibble: 1 × 1\n",
       "\\begin{tabular}{l}\n",
       " chi\\_square\\\\\n",
       " <dbl>\\\\\n",
       "\\hline\n",
       "\t 693.3954\\\\\n",
       "\\end{tabular}\n"
      ],
      "text/markdown": [
       "\n",
       "A tibble: 1 × 1\n",
       "\n",
       "| chi_square &lt;dbl&gt; |\n",
       "|---|\n",
       "| 693.3954 |\n",
       "\n"
      ],
      "text/plain": [
       "  chi_square\n",
       "1 693.3954  "
      ]
     },
     "metadata": {},
     "output_type": "display_data"
    }
   ],
   "source": [
    "chi_tab %>%\n",
    "  mutate(num = (n - E)^2,\n",
    "         chi_cell = num / E) %>%\n",
    "  summarise(chi_square = sum(chi_cell))"
   ]
  },
  {
   "cell_type": "markdown",
   "metadata": {},
   "source": [
    "More readily, using the `chisq.test()` function in R is easier. This function takes one primary argument, the attribute to do the chi-square goodness of fit test on. Optionally, the specific proportions need to be passed as well, which is typically desired unless equal percentages/proportions are desired."
   ]
  },
  {
   "cell_type": "code",
   "execution_count": 7,
   "metadata": {},
   "outputs": [
    {
     "data": {
      "text/plain": [
       "\n",
       "\tChi-squared test for given probabilities\n",
       "\n",
       "data:  table(gss_cat$partyid_collapse)\n",
       "X-squared = 693.4, df = 3, p-value < 2.2e-16\n"
      ]
     },
     "metadata": {},
     "output_type": "display_data"
    }
   ],
   "source": [
    "xsq_got <- chisq.test(table(gss_cat$partyid_collapse), p = c(.04, .26, .44, .26))\n",
    "\n",
    "xsq_got"
   ]
  },
  {
   "cell_type": "markdown",
   "metadata": {},
   "source": [
    "### Explore Differences\n",
    "\n",
    "It is often of interest to explore differences, particularly if the chi-square goodness of fit test has a small p-value. This would indicate that the counts likely do not follow the assumed distribution, but where are the differences found? Residuals can help with this. The residuals are the difference in the observed and expected values divided by the square root of the expected values. \n",
    "\n",
    "$$\n",
    "\\chi^2_{resid} = \\frac{(O - E)}{\\sqrt{E}}\n",
    "$$\n",
    "\n",
    "These can be extracted directly from the model object saved when running the chi-square test. "
   ]
  },
  {
   "cell_type": "code",
   "execution_count": 8,
   "metadata": {},
   "outputs": [
    {
     "data": {
      "text/plain": [
       "\n",
       "     other        rep        ind        dem \n",
       "-10.620123  -3.205652 -10.733144  21.333818 "
      ]
     },
     "metadata": {},
     "output_type": "display_data"
    }
   ],
   "source": [
    "xsq_got$residuals"
   ]
  },
  {
   "cell_type": "markdown",
   "metadata": {},
   "source": [
    "## Chi-square Test of Independence\n",
    "\n",
    "The chi-square test of independence is similar to that of the goodness of fit test, except now instead of a single attribute of interest, there are now more than one categorical attribute to be explored. The test of independence explores if the observed attributes are independent from one another. That is, if the two categorical attributes are indpendent, this would assume that the two attributes are proportionally distributed across all categories. The form of the $\\chi^2$ test is the same as the GoT test:\n",
    "\n",
    "$$\n",
    "\\chi^2 = \\sum \\frac{( O - E ) ^ 2}{E}\n",
    "$$\n",
    "\n",
    "However, different from the goodness of fit test, the expected values are computed differently. The expected cell counts are now defined as:\n",
    "\n",
    "$$\n",
    "E = N * p_{r} * p_{c}\n",
    "$$\n",
    "\n",
    "where $p_{r}$ is the margin proportion for the rows, ignoring the columns (that is, marginal row proportion) and $p_{c}$ is the margin proportion for the columns, ignoring the rows. Finally, the test has degrees of freedom equal to $(r - 1)(c - 1)$.\n",
    "\n",
    "### Data Example\n",
    "\n",
    "To explore this example, let's see if the political party affiliation differs across years that the GSS data were collected. The data are collected over 14 years, collected every other year. "
   ]
  },
  {
   "cell_type": "code",
   "execution_count": 9,
   "metadata": {},
   "outputs": [
    {
     "data": {
      "text/html": [
       "<table class=\"dataframe\">\n",
       "<caption>A tibble: 8 × 2</caption>\n",
       "<thead>\n",
       "\t<tr><th scope=col>year</th><th scope=col>n</th></tr>\n",
       "\t<tr><th scope=col>&lt;int&gt;</th><th scope=col>&lt;int&gt;</th></tr>\n",
       "</thead>\n",
       "<tbody>\n",
       "\t<tr><td>2000</td><td>2817</td></tr>\n",
       "\t<tr><td>2002</td><td>2765</td></tr>\n",
       "\t<tr><td>2004</td><td>2812</td></tr>\n",
       "\t<tr><td>2006</td><td>4510</td></tr>\n",
       "\t<tr><td>2008</td><td>2023</td></tr>\n",
       "\t<tr><td>2010</td><td>2044</td></tr>\n",
       "\t<tr><td>2012</td><td>1974</td></tr>\n",
       "\t<tr><td>2014</td><td>2538</td></tr>\n",
       "</tbody>\n",
       "</table>\n"
      ],
      "text/latex": [
       "A tibble: 8 × 2\n",
       "\\begin{tabular}{ll}\n",
       " year & n\\\\\n",
       " <int> & <int>\\\\\n",
       "\\hline\n",
       "\t 2000 & 2817\\\\\n",
       "\t 2002 & 2765\\\\\n",
       "\t 2004 & 2812\\\\\n",
       "\t 2006 & 4510\\\\\n",
       "\t 2008 & 2023\\\\\n",
       "\t 2010 & 2044\\\\\n",
       "\t 2012 & 1974\\\\\n",
       "\t 2014 & 2538\\\\\n",
       "\\end{tabular}\n"
      ],
      "text/markdown": [
       "\n",
       "A tibble: 8 × 2\n",
       "\n",
       "| year &lt;int&gt; | n &lt;int&gt; |\n",
       "|---|---|\n",
       "| 2000 | 2817 |\n",
       "| 2002 | 2765 |\n",
       "| 2004 | 2812 |\n",
       "| 2006 | 4510 |\n",
       "| 2008 | 2023 |\n",
       "| 2010 | 2044 |\n",
       "| 2012 | 1974 |\n",
       "| 2014 | 2538 |\n",
       "\n"
      ],
      "text/plain": [
       "  year n   \n",
       "1 2000 2817\n",
       "2 2002 2765\n",
       "3 2004 2812\n",
       "4 2006 4510\n",
       "5 2008 2023\n",
       "6 2010 2044\n",
       "7 2012 1974\n",
       "8 2014 2538"
      ]
     },
     "metadata": {},
     "output_type": "display_data"
    }
   ],
   "source": [
    "count(gss_cat, year)"
   ]
  },
  {
   "cell_type": "markdown",
   "metadata": {},
   "source": [
    "Suppose we were interested in exploring if there was a difference in political affiliation before and after 2010. "
   ]
  },
  {
   "cell_type": "code",
   "execution_count": 10,
   "metadata": {},
   "outputs": [
    {
     "data": {
      "text/html": [
       "<table class=\"dataframe\">\n",
       "<caption>A table: 3 × 5 of type dbl</caption>\n",
       "<thead>\n",
       "\t<tr><th></th><th scope=col>other</th><th scope=col>rep</th><th scope=col>ind</th><th scope=col>dem</th><th scope=col>Sum</th></tr>\n",
       "</thead>\n",
       "<tbody>\n",
       "\t<tr><th scope=row>2000 to 2008</th><td>327</td><td>3906</td><td>5734</td><td>4960</td><td>14927</td></tr>\n",
       "\t<tr><th scope=row>2010 to 2014</th><td>221</td><td>1440</td><td>2675</td><td>2220</td><td> 6556</td></tr>\n",
       "\t<tr><th scope=row>Sum</th><td>548</td><td>5346</td><td>8409</td><td>7180</td><td>21483</td></tr>\n",
       "</tbody>\n",
       "</table>\n"
      ],
      "text/latex": [
       "A table: 3 × 5 of type dbl\n",
       "\\begin{tabular}{r|lllll}\n",
       "  & other & rep & ind & dem & Sum\\\\\n",
       "\\hline\n",
       "\t2000 to 2008 & 327 & 3906 & 5734 & 4960 & 14927\\\\\n",
       "\t2010 to 2014 & 221 & 1440 & 2675 & 2220 &  6556\\\\\n",
       "\tSum & 548 & 5346 & 8409 & 7180 & 21483\\\\\n",
       "\\end{tabular}\n"
      ],
      "text/markdown": [
       "\n",
       "A table: 3 × 5 of type dbl\n",
       "\n",
       "| <!--/--> | other | rep | ind | dem | Sum |\n",
       "|---|---|---|---|---|---|\n",
       "| 2000 to 2008 | 327 | 3906 | 5734 | 4960 | 14927 |\n",
       "| 2010 to 2014 | 221 | 1440 | 2675 | 2220 |  6556 |\n",
       "| Sum | 548 | 5346 | 8409 | 7180 | 21483 |\n",
       "\n"
      ],
      "text/plain": [
       "              \n",
       "               other rep  ind  dem  Sum  \n",
       "  2000 to 2008 327   3906 5734 4960 14927\n",
       "  2010 to 2014 221   1440 2675 2220  6556\n",
       "  Sum          548   5346 8409 7180 21483"
      ]
     },
     "metadata": {},
     "output_type": "display_data"
    }
   ],
   "source": [
    "gss_cat <- gss_cat %>%\n",
    "  mutate(year_2 = ifelse(year < 2010, \"2000 to 2008\", \"2010 to 2014\"))\n",
    "\n",
    "addmargins(table(gss_cat$year_2, gss_cat$partyid_collapse))"
   ]
  },
  {
   "cell_type": "markdown",
   "metadata": {},
   "source": [
    "Giving this table, a single expected value could be computed manually. \n",
    "\n",
    "$$\n",
    "E_{1,1} = 21483 * (14927 / 21483) * (548 / 21483) = 380.766\n",
    "$$"
   ]
  },
  {
   "cell_type": "code",
   "execution_count": 11,
   "metadata": {},
   "outputs": [
    {
     "data": {
      "text/html": [
       "380.766001024066"
      ],
      "text/latex": [
       "380.766001024066"
      ],
      "text/markdown": [
       "380.766001024066"
      ],
      "text/plain": [
       "[1] 380.766"
      ]
     },
     "metadata": {},
     "output_type": "display_data"
    }
   ],
   "source": [
    "21483 * (14927 / 21483) * (548 / 21483)"
   ]
  },
  {
   "cell_type": "markdown",
   "metadata": {},
   "source": [
    "These could be computed for subsequent cell expected values, but these can be extracted directly when fitting the chi-square using the `chisq.test()` function. "
   ]
  },
  {
   "cell_type": "code",
   "execution_count": 12,
   "metadata": {},
   "outputs": [
    {
     "data": {
      "text/html": [
       "<table class=\"dataframe\">\n",
       "<caption>A matrix: 2 × 4 of type dbl</caption>\n",
       "<thead>\n",
       "\t<tr><th></th><th scope=col>other</th><th scope=col>rep</th><th scope=col>ind</th><th scope=col>dem</th></tr>\n",
       "</thead>\n",
       "<tbody>\n",
       "\t<tr><th scope=row>2000 to 2008</th><td>380.766</td><td>3714.553</td><td>5842.813</td><td>4988.868</td></tr>\n",
       "\t<tr><th scope=row>2010 to 2014</th><td>167.234</td><td>1631.447</td><td>2566.187</td><td>2191.132</td></tr>\n",
       "</tbody>\n",
       "</table>\n"
      ],
      "text/latex": [
       "A matrix: 2 × 4 of type dbl\n",
       "\\begin{tabular}{r|llll}\n",
       "  & other & rep & ind & dem\\\\\n",
       "\\hline\n",
       "\t2000 to 2008 & 380.766 & 3714.553 & 5842.813 & 4988.868\\\\\n",
       "\t2010 to 2014 & 167.234 & 1631.447 & 2566.187 & 2191.132\\\\\n",
       "\\end{tabular}\n"
      ],
      "text/markdown": [
       "\n",
       "A matrix: 2 × 4 of type dbl\n",
       "\n",
       "| <!--/--> | other | rep | ind | dem |\n",
       "|---|---|---|---|---|\n",
       "| 2000 to 2008 | 380.766 | 3714.553 | 5842.813 | 4988.868 |\n",
       "| 2010 to 2014 | 167.234 | 1631.447 | 2566.187 | 2191.132 |\n",
       "\n"
      ],
      "text/plain": [
       "              \n",
       "               other   rep      ind      dem     \n",
       "  2000 to 2008 380.766 3714.553 5842.813 4988.868\n",
       "  2010 to 2014 167.234 1631.447 2566.187 2191.132"
      ]
     },
     "metadata": {},
     "output_type": "display_data"
    }
   ],
   "source": [
    "xsq_ind <- chisq.test(table(gss_cat$year_2, gss_cat$partyid_collapse))\n",
    "\n",
    "xsq_ind$expected"
   ]
  },
  {
   "cell_type": "code",
   "execution_count": 13,
   "metadata": {},
   "outputs": [
    {
     "data": {
      "text/plain": [
       "\n",
       "\tPearson's Chi-squared test\n",
       "\n",
       "data:  table(gss_cat$year_2, gss_cat$partyid_collapse)\n",
       "X-squared = 64.399, df = 3, p-value = 6.745e-14\n"
      ]
     },
     "metadata": {},
     "output_type": "display_data"
    }
   ],
   "source": [
    "xsq_ind"
   ]
  },
  {
   "cell_type": "code",
   "execution_count": 14,
   "metadata": {},
   "outputs": [
    {
     "data": {
      "text/plain": [
       "              \n",
       "                    other        rep        ind        dem\n",
       "  2000 to 2008 -2.7553619  3.1411979 -1.4235351 -0.4087162\n",
       "  2010 to 2014  4.1576263 -4.7398226  2.1480035  0.6167208"
      ]
     },
     "metadata": {},
     "output_type": "display_data"
    }
   ],
   "source": [
    "xsq_ind$residuals"
   ]
  },
  {
   "cell_type": "markdown",
   "metadata": {},
   "source": [
    "## Effect Sizes for chi-square tests\n",
    "\n",
    "Effect sizes for chi-square tests can be important, particularly with large sample sizes as the chi-square can be highly sensitive to large sample sizes. In particular, very small differences can be found with small samples sizes. \n",
    "\n",
    "For the goodness of fit test, $Cohens\\ W$ can be estimated as an effect size measure. This is computed as:\n",
    "\n",
    "$$\n",
    "Cohens\\ W = \\sqrt{\\frac{\\chi^2}{N}}\n",
    "$$\n",
    "\n",
    "For the test of independence, Cramer's V can be used.\n",
    "\n",
    "$$\n",
    "V = \\sqrt{\\frac{\\chi^2}{N * df^{*}}}\n",
    "$$\n",
    "where $df^{*}$ is the smallest of $r - 1$ or $c - 1$.\n",
    "\n",
    "Cramers V ranges from 0 to 1, where values closer to 1 indicate more variation is explained (ie, the attributes are not independent).\n",
    "\n",
    "Cohen's W is similar to Cramers V, but it is not limited to range between 0 and 1. "
   ]
  },
  {
   "cell_type": "code",
   "execution_count": 15,
   "metadata": {},
   "outputs": [
    {
     "data": {
      "text/html": [
       "0.179657128691258"
      ],
      "text/latex": [
       "0.179657128691258"
      ],
      "text/markdown": [
       "0.179657128691258"
      ],
      "text/plain": [
       "[1] 0.1796571"
      ]
     },
     "metadata": {},
     "output_type": "display_data"
    }
   ],
   "source": [
    "sqrt(693.4 / sum(chi_tab$n))"
   ]
  },
  {
   "cell_type": "code",
   "execution_count": 16,
   "metadata": {},
   "outputs": [
    {
     "data": {
      "text/html": [
       "0.0547510052722116"
      ],
      "text/latex": [
       "0.0547510052722116"
      ],
      "text/markdown": [
       "0.0547510052722116"
      ],
      "text/plain": [
       "[1] 0.05475101"
      ]
     },
     "metadata": {},
     "output_type": "display_data"
    }
   ],
   "source": [
    "sqrt(64.399 / 21483 * 1)"
   ]
  },
  {
   "cell_type": "markdown",
   "metadata": {},
   "source": [
    "The DescTools package can be used for Cramer's V as well."
   ]
  },
  {
   "cell_type": "code",
   "execution_count": 20,
   "metadata": {},
   "outputs": [
    {
     "data": {
      "text/html": [
       "0.0547508706097261"
      ],
      "text/latex": [
       "0.0547508706097261"
      ],
      "text/markdown": [
       "0.0547508706097261"
      ],
      "text/plain": [
       "[1] 0.05475087"
      ]
     },
     "metadata": {},
     "output_type": "display_data"
    }
   ],
   "source": [
    "library(DescTools)\n",
    "\n",
    "CramerV(table(gss_cat$year_2, gss_cat$partyid_collapse))"
   ]
  }
 ],
 "metadata": {
  "kernelspec": {
   "display_name": "R",
   "language": "R",
   "name": "ir"
  },
  "language_info": {
   "codemirror_mode": "r",
   "file_extension": ".r",
   "mimetype": "text/x-r-source",
   "name": "R",
   "pygments_lexer": "r",
   "version": "4.1.1"
  },
  "orig_nbformat": 4
 },
 "nbformat": 4,
 "nbformat_minor": 2
}
