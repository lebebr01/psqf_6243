{
 "cells": [
  {
   "cell_type": "markdown",
   "metadata": {},
   "source": [
    "# Regression with Categorical Predictors - Part 2\n",
    "\n",
    "First, I want to build off of the first part of the notes on regression with categorical predictors. Before generalizing to more than two groups, let's first explore what happens when values other than 0/1 are used for the categorical attribute. The following three dummy/indicator attributes will be used:\n",
    "\n",
    "1. 1 = NL, 0 = AL\n",
    "2. 1 = NL, 2 = AL\n",
    "3. 100 = NL, 0 = AL\n",
    "\n",
    "Make some predictions about what you think will happen in the three separate regressions?"
   ]
  },
  {
   "cell_type": "code",
   "execution_count": null,
   "metadata": {},
   "outputs": [],
   "source": [
    "library(tidyverse)\n",
    "library(Lahman)\n",
    "library(ggformula)\n",
    "\n",
    "theme_set(theme_bw(base_size = 18))\n",
    "\n",
    "career <- Batting %>%\n",
    "  filter(AB > 100) %>%\n",
    "  anti_join(Pitching, by = \"playerID\") %>%\n",
    "  filter(yearID > 1990) %>%\n",
    "  group_by(playerID, lgID) %>%\n",
    "  summarise(H = sum(H), AB = sum(AB)) %>%\n",
    "  mutate(average = H / AB)\n",
    "\n",
    "career <- Master %>%\n",
    "  tbl_df() %>%\n",
    "  dplyr::select(playerID, nameFirst, nameLast) %>%\n",
    "  unite(name, nameFirst, nameLast, sep = \" \") %>%\n",
    "  inner_join(career, by = \"playerID\") %>%\n",
    "  dplyr::select(-playerID)\n",
    "\n",
    "career <- career %>%\n",
    "  mutate(league_dummy = ifelse(lgID == 'NL', 1, 0),\n",
    "         league_dummy_12 = ifelse(lgID == 'NL', 1, 2),\n",
    "         league_dummy_100 = ifelse(lgID == 'NL', 100, 0))\n",
    "\n",
    "head(career, n = 10)"
   ]
  },
  {
   "cell_type": "code",
   "execution_count": null,
   "metadata": {},
   "outputs": [],
   "source": [
    "average_lm <- lm(average ~ league_dummy, data = career)\n",
    "\n",
    "broom::tidy(average_lm)"
   ]
  },
  {
   "cell_type": "code",
   "execution_count": null,
   "metadata": {},
   "outputs": [],
   "source": [
    "average_lm_12 <- lm(average ~ league_dummy_12, data = career)\n",
    "\n",
    "broom::tidy(average_lm_12)"
   ]
  },
  {
   "cell_type": "code",
   "execution_count": null,
   "metadata": {},
   "outputs": [],
   "source": [
    "average_lm_100 <- lm(average ~ league_dummy_100, data = career)\n",
    "\n",
    "broom::tidy(average_lm_100)"
   ]
  },
  {
   "cell_type": "markdown",
   "metadata": {},
   "source": [
    "Before moving to more than 2 groups, any thoughts on how we could run a one-sample t-test using a linear regression? For example, suppose this null hypothesis wanted to be explored.\n",
    "\n",
    "$$\n",
    "H_{0}: \\mu_{BA} = .2\n",
    "$$\n",
    "\n",
    "$$ \n",
    "H_{A}: \\mu_{BA} \\neq .2\n",
    "$$"
   ]
  },
  {
   "cell_type": "code",
   "execution_count": null,
   "metadata": {},
   "outputs": [],
   "source": []
  },
  {
   "cell_type": "markdown",
   "metadata": {},
   "source": [
    "## Generalize to more than 2 groups\n",
    "\n",
    "The ability to use regression with categorical attributes of more than 2 groups is possible and an extension of the 2 groups model shown above. First, let's think about how we could represent three categories as numeric attributes. Suppose we had the following 4 categories of baseball players.\n",
    "\n",
    "| Position | \n",
    "|:---------| \n",
    "| Outfield | \n",
    "| Infield  | \n",
    "| Catcher  |\n",
    "| Designated Hitter  |"
   ]
  },
  {
   "cell_type": "code",
   "execution_count": null,
   "metadata": {},
   "outputs": [],
   "source": [
    "library(GeomMLBStadiums)\n",
    "\n",
    "ggplot() + \n",
    "  geom_mlb_stadium(stadium_segments = \"all\") + \n",
    "  facet_wrap(~team) + \n",
    "  coord_fixed() + \n",
    "  theme_void()"
   ]
  },
  {
   "cell_type": "code",
   "execution_count": null,
   "metadata": {},
   "outputs": [],
   "source": [
    "library(tidyverse)\n",
    "library(Lahman)\n",
    "library(ggformula)\n",
    "\n",
    "theme_set(theme_bw(base_size = 18))\n",
    "\n",
    "career <- Batting %>%\n",
    "  filter(AB > 100) %>%\n",
    "  anti_join(Pitching, by = \"playerID\") %>%\n",
    "  filter(yearID > 1990) %>%\n",
    "  group_by(playerID, lgID) %>%\n",
    "  summarise(H = sum(H), AB = sum(AB)) %>%\n",
    "  mutate(average = H / AB)\n",
    "\n",
    "career <- Appearances %>%\n",
    "  filter(yearID > 1990) %>%\n",
    "  select(-GS, -G_ph, -G_pr, -G_batting, -G_defense, -G_p, -G_lf, -G_cf, -G_rf) %>%\n",
    "  rowwise() %>%\n",
    "  mutate(g_inf = sum(c_across(G_1b:G_ss))) %>%\n",
    "  select(-G_1b, -G_2b, -G_3b, -G_ss) %>%\n",
    "  group_by(playerID, lgID) %>%\n",
    "  summarise(catcher = sum(G_c),\n",
    "            outfield = sum(G_of),\n",
    "            dh = sum(G_dh),\n",
    "            infield = sum(g_inf),\n",
    "            total_games = sum(G_all)) %>%\n",
    "  pivot_longer(catcher:infield,\n",
    "               names_to = \"position\") %>%\n",
    "  filter(value > 0) %>%\n",
    "  group_by(playerID, lgID) %>%\n",
    "  slice_max(value) %>%\n",
    "  select(playerID, lgID, position) %>%\n",
    "  inner_join(career)\n",
    "\n",
    "career <- Master %>%\n",
    "  tbl_df() %>%\n",
    "  dplyr::select(playerID, nameFirst, nameLast) %>%\n",
    "  unite(name, nameFirst, nameLast, sep = \" \") %>%\n",
    "  inner_join(career, by = \"playerID\")\n",
    "\n",
    "career <- career %>%\n",
    "  mutate(league_dummy = ifelse(lgID == 'NL', 1, 0))\n",
    "\n",
    "count(career, position)"
   ]
  },
  {
   "cell_type": "code",
   "execution_count": null,
   "metadata": {},
   "outputs": [],
   "source": [
    "gf_violin(position ~ average, data = career, fill = 'gray85', draw_quantiles = c(0.1, 0.5, 0.9)) %>%\n",
    "  gf_labs(x = \"Batting Average\",\n",
    "          y = \"\")"
   ]
  },
  {
   "cell_type": "code",
   "execution_count": null,
   "metadata": {},
   "outputs": [],
   "source": [
    "career <- career %>%\n",
    "  mutate(outfield = ifelse(position == 'outfield', 1, 0),\n",
    "         infield = ifelse(position == 'infield', 1, 0),\n",
    "         catcher = ifelse(position == 'catcher', 1, 0))\n",
    "\n",
    "head(career)"
   ]
  },
  {
   "cell_type": "code",
   "execution_count": null,
   "metadata": {},
   "outputs": [],
   "source": [
    "position_lm <- lm(average ~ 1 + outfield + infield + catcher, data = career)\n",
    "\n",
    "broom::tidy(position_lm)"
   ]
  },
  {
   "cell_type": "code",
   "execution_count": null,
   "metadata": {},
   "outputs": [],
   "source": [
    "df_stats(average ~ position, data = career, mean)"
   ]
  }
 ],
 "metadata": {
  "kernelspec": {
   "display_name": "R",
   "language": "R",
   "name": "ir"
  },
  "language_info": {
   "codemirror_mode": "r",
   "file_extension": ".r",
   "mimetype": "text/x-r-source",
   "name": "R",
   "pygments_lexer": "r",
   "version": "4.1.1"
  },
  "orig_nbformat": 4
 },
 "nbformat": 4,
 "nbformat_minor": 2
}
