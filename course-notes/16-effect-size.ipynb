{
 "cells": [
  {
   "attachments": {},
   "cell_type": "markdown",
   "metadata": {},
   "source": [
    "# Effect Sizes\n",
    "\n",
    "An **effect size** is the magnitude of the relationship between two attributes. This magnitude can be reported and interpreted on many different metrics, many of which that we have already considered, some of which we have not. The term *effect size* is often miscontrued to mean a standardized magnitude of relationship, but this is not needed, but can be helpful in some situations. \n",
    "\n",
    "As a slight aside, there is a field, called *meta-analysis* that is used to statistically combine effect sizes across multiple studies conducted on a similar topic. The goal of these studies is to understand the aggregate effect size (i.e., average effect size), but also if there is any heterogeneity in those effect sizes. \n",
    "\n",
    "## Simple Effect Size - slopes\n",
    "\n",
    "To understand the magnitude of the effect, the slope estimates can be an unstandardized effect size measure. This is true for both continuous and categorical predictor attributes. For the continuous attributes it would represent a true slope, but for a categorical predictors it would represent a mean difference going from the reference group to the focal group. \n",
    "\n",
    "## Standardized effect sizes\n",
    "\n",
    "Standardized effect sizes can also be considered, these can be helpful to compare across studies where the sample is different or is from a different population. The standardization usually comes from taking the standard deviations into account, this then turns the slope into a metric that is interpreted in terms of standard deviation units. We discussed this earlier in the semester with standardized regression slopes. \n",
    "\n",
    "### Continuous predictor attributes\n",
    "\n",
    "We can also use this formula to convert any unstandardized regression coefficients into a standardized metric. \n",
    "\n",
    "$$ \n",
    "b^{'}_{k} = b_{k} * \\frac{s_{x_{k}}}{s_{y}}\n",
    "$$\n",
    "\n",
    "Let's do an example as a reminder."
   ]
  },
  {
   "cell_type": "code",
   "execution_count": null,
   "metadata": {
    "vscode": {
     "languageId": "r"
    }
   },
   "outputs": [],
   "source": [
    "library(tidyverse)\n",
    "library(ggformula)\n",
    "library(mosaic)\n",
    "\n",
    "theme_set(theme_bw(base_size = 18))\n",
    "\n",
    "airquality <- readr::read_csv(\"https://raw.githubusercontent.com/lebebr01/psqf_6243/main/data/iowa_air_quality_2021.csv\")\n",
    "wind <- readr::read_csv(\"https://raw.githubusercontent.com/lebebr01/psqf_6243/main/data/daily_WIND_2021-iowa.csv\")\n",
    "\n",
    "airquality <- airquality |>\n",
    "   left_join(wind, by = c('cbsa_name', 'date')) |> \n",
    "   drop_na() |>\n",
    "   mutate(avg_wind_mc = avg_wind - mean(avg_wind))"
   ]
  },
  {
   "cell_type": "code",
   "execution_count": null,
   "metadata": {
    "vscode": {
     "languageId": "r"
    }
   },
   "outputs": [],
   "source": [
    "head(airquality)"
   ]
  },
  {
   "cell_type": "code",
   "execution_count": null,
   "metadata": {
    "vscode": {
     "languageId": "r"
    }
   },
   "outputs": [],
   "source": [
    "air_lm_mc <- lm(daily_aqi ~ avg_wind_mc + max_wind, data = airquality)\n",
    "\n",
    "broom::tidy(air_lm_mc)"
   ]
  },
  {
   "attachments": {},
   "cell_type": "markdown",
   "metadata": {},
   "source": [
    "There is a package called `QuantPsyc` that has a convenience function to compute standardized regression coefficients, named `lm.beta()`. "
   ]
  },
  {
   "cell_type": "code",
   "execution_count": null,
   "metadata": {
    "vscode": {
     "languageId": "r"
    }
   },
   "outputs": [],
   "source": [
    "QuantPsyc::lm.beta(air_lm_mc)"
   ]
  },
  {
   "attachments": {},
   "cell_type": "markdown",
   "metadata": {},
   "source": [
    "### Categorical Predictor Attributes\n",
    "\n",
    "When including categorical attributes, the slope represents a mean difference between the reference group to the focal group. "
   ]
  },
  {
   "cell_type": "code",
   "execution_count": null,
   "metadata": {
    "vscode": {
     "languageId": "r"
    }
   },
   "outputs": [],
   "source": [
    "air_county <- lm(daily_aqi ~ county, data = airquality)\n",
    "\n",
    "broom::tidy(air_county)"
   ]
  },
  {
   "attachments": {},
   "cell_type": "markdown",
   "metadata": {},
   "source": [
    "There are two related effect sizes, cohen's D and hedges g. Hedges g is related to cohen's D by implementing a correction factor as cohen's D tend to have a slight bias. \n",
    "\n",
    "$$\n",
    "d = \\frac{\\bar{Y}_{1} - \\bar{Y}_{2}}{s_{within}}\n",
    "$$\n",
    "\n",
    "where the numerator represents the raw mean difference between two independent groups. The denominator is the pooled standard deviation. The pooled standard deviation for two independent groups is: \n",
    "\n",
    "$$\n",
    "s_{within} = \\sqrt{\\frac{(n_{1} - 1) s^{2}_{1} + (n_{2} - 1) s^{2}_{2}}{n_{1} + n_{2} - 2}}\n",
    "$$\n",
    "\n",
    "The correction factor to convert cohen's d to hedges g is:\n",
    "\n",
    "$$\n",
    "J = 1 - \\frac{3}{4 (n_{1} + n_{2} - 2) - 1}\n",
    "$$\n",
    "\n",
    "Then, take \n",
    "\n",
    "$$\n",
    "g = J * d\n",
    "$$\n",
    "\n",
    "In terms of regression coefficients, we can do this directly with the regression slopes that represent a mean difference. \n",
    "\n",
    "$$ \n",
    "g = J * \\frac{\\hat{\\beta_{1}}}{s_{within}}\n",
    "$$"
   ]
  },
  {
   "cell_type": "code",
   "execution_count": null,
   "metadata": {
    "vscode": {
     "languageId": "r"
    }
   },
   "outputs": [],
   "source": [
    "broom::tidy(air_county)\n",
    "\n",
    "df_stats(daily_aqi ~ county, mean, sd, length, data = airquality)"
   ]
  },
  {
   "cell_type": "markdown",
   "metadata": {},
   "source": [
    "When you have an ANCOVA type model, you would want to use the regression slopes which would represent adjusted means rather than the raw means. "
   ]
  },
  {
   "cell_type": "code",
   "execution_count": null,
   "metadata": {
    "vscode": {
     "languageId": "r"
    }
   },
   "outputs": [],
   "source": [
    "air_county <- lm(daily_aqi ~ avg_wind_mc + max_wind + county, data = airquality)\n",
    "\n",
    "broom::tidy(air_county)"
   ]
  },
  {
   "attachments": {},
   "cell_type": "markdown",
   "metadata": {},
   "source": [
    "For more details on effect sizes from regression models see:\n",
    "\n",
    "Ariel M. Aloe, Christopher G. Thompson, Zhijiang Liu & Lifeng Lin (2022)\n",
    "Estimating Partial Standardized Mean Differences from Regression Models, The Journal of\n",
    "Experimental Education, 90:4, 898-915, DOI: 10.1080/00220973.2021.1966605"
   ]
  }
 ],
 "metadata": {
  "kernelspec": {
   "display_name": "R",
   "language": "R",
   "name": "ir"
  },
  "language_info": {
   "codemirror_mode": "r",
   "file_extension": ".r",
   "mimetype": "text/x-r-source",
   "name": "R",
   "pygments_lexer": "r",
   "version": "4.2.0"
  },
  "orig_nbformat": 4
 },
 "nbformat": 4,
 "nbformat_minor": 2
}
