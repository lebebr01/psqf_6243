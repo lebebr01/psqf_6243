{
 "cells": [
  {
   "cell_type": "markdown",
   "metadata": {},
   "source": [
    "# Multicollinearity\n",
    "\n",
    "Multicollinearity is an assumption of regression that explores whether the predictor attributes (X) are correlated. Linear regression assumes that the predictor attributes are uncorrelated, but in practice this assumption is never met. What impacts does multicollinearity have on the linear regression? The short answer is that the regression parameters (the $\\beta$ terms) will be more or less unbiased, however, the same cannot be said for the standard errors. \n",
    "\n",
    "Let's first use some real data to explore this, then we'll use simulated data to show the impact correlated predictor attributes have on the linear regression estiamtes. "
   ]
  },
  {
   "cell_type": "code",
   "execution_count": null,
   "metadata": {},
   "outputs": [],
   "source": [
    "library(tidyverse)\n",
    "library(ggformula)\n",
    "\n",
    "theme_set(theme_bw(base_size = 18))\n",
    "\n",
    "college <- read_csv(\"https://raw.githubusercontent.com/lebebr01/statthink/main/data-raw/College-scorecard-4143.csv\") %>%\n",
    "  mutate(act_mean = actcmmid - mean(actcmmid, na.rm = TRUE),\n",
    "         cost_mean = costt4_a - mean(costt4_a, na.rm = TRUE)) %>%\n",
    "  drop_na(act_mean, cost_mean)\n",
    "\n",
    "adm_mult_reg <- lm(adm_rate ~ actcmmid + costt4_a, data = college)\n",
    "\n",
    "summary(adm_mult_reg)"
   ]
  },
  {
   "cell_type": "code",
   "execution_count": null,
   "metadata": {},
   "outputs": [],
   "source": [
    "library(mosaic)\n",
    "\n",
    "cor(actcmmid ~ costt4_a, data = college)"
   ]
  },
  {
   "cell_type": "markdown",
   "metadata": {},
   "source": [
    "## Variance Inflation Factor\n",
    "\n",
    "The variance inflation factor (VIF) is a commonly used statistic to aid in diagnosing multicollinearity. It attempts to estimate how much the variance of the estimated regression equation is inflated due to correlated predictor attributes. \n",
    "\n",
    "First, this can be calculated from the car package, using the function `vif()`. "
   ]
  },
  {
   "cell_type": "code",
   "execution_count": null,
   "metadata": {},
   "outputs": [],
   "source": [
    "library(car)\n",
    "\n",
    "vif(adm_mult_reg)"
   ]
  },
  {
   "cell_type": "markdown",
   "metadata": {},
   "source": [
    "Fundamentally, the VIF is calculated with the following steps. \n",
    "\n",
    "1. Fit a regression where one of the X attributes is the outcome and the remaining X attributes are predictors. \n",
    "2. Calculate VIF: $VIF = 1 / 1 - R^2$ from step 1. \n",
    "3. Repeate this for all X attributes.\n",
    "4. Evaluate extent to which VIF is problematic. Rules of thumb include VIF statistics greater than 5 or 10. \n",
    "\n",
    "Interpretation wise, the square root of the VIF statistic can provide an indication of how inflated the standard error would be if the predictors are uncorrelated. "
   ]
  },
  {
   "cell_type": "code",
   "execution_count": null,
   "metadata": {},
   "outputs": [],
   "source": [
    "act_lm <- lm(actcmmid ~ costt4_a, data = college)\n",
    "summary(act_lm)$r.square"
   ]
  },
  {
   "cell_type": "code",
   "execution_count": null,
   "metadata": {},
   "outputs": [],
   "source": [
    "1 / (1 - .3088)"
   ]
  },
  {
   "cell_type": "code",
   "execution_count": null,
   "metadata": {},
   "outputs": [],
   "source": [
    "sqrt(1.446)"
   ]
  },
  {
   "cell_type": "markdown",
   "metadata": {},
   "source": [
    "### Simulated data exploration\n",
    "\n",
    "Let's use some simulated data to show the extent to which multicollinearity can be problematic, particularly for more highly correlated attributes. \n",
    "\n",
    "First, let's start with uncorrelated (on average) predictor attributes."
   ]
  },
  {
   "cell_type": "code",
   "execution_count": null,
   "metadata": {},
   "outputs": [],
   "source": [
    "library(simglm)\n",
    "\n",
    "sim_args <- list(formula = y ~ 1 + act + gpa + sat, \n",
    "                 fixed = list(act = list(var_type = 'continuous',\n",
    "                                         mean = 20, \n",
    "                                         sd = 4),\n",
    "                              gpa = list(var_type = 'continuous',\n",
    "                                         mean = 2, \n",
    "                                         sd = .5),\n",
    "                              sat = list(var_type = 'continuous',\n",
    "                                         mean = 500, \n",
    "                                         sd = 100)),\n",
    "                 correlate = list(fixed = data.frame(x = c('act', 'act', 'gpa'), \n",
    "                                                     y = c('gpa', 'sat', 'sat'), \n",
    "                                                     corr = c(0, 0, 0))),\n",
    "                error = list(variance = 100),\n",
    "                reg_weights = c(1, 1, 1, 1),\n",
    "                 sample_size = 10000)\n",
    "\n",
    "sim_data <- simulate_fixed(data = NULL, sim_args) %>%\n",
    "   simulate_error(sim_args) %>%\n",
    "   correlate_variables(sim_args) %>%\n",
    "   generate_response(sim_args)\n",
    "\n",
    "head(sim_data)"
   ]
  },
  {
   "cell_type": "code",
   "execution_count": null,
   "metadata": {},
   "outputs": [],
   "source": [
    "cor(sim_data[c('y', 'act', 'gpa', 'sat')])"
   ]
  },
  {
   "cell_type": "code",
   "execution_count": null,
   "metadata": {},
   "outputs": [],
   "source": [
    "sim_lm <- lm(y ~ 1 + act + gpa + sat, data = sim_data)\n",
    "summary(sim_lm)"
   ]
  },
  {
   "cell_type": "code",
   "execution_count": null,
   "metadata": {},
   "outputs": [],
   "source": [
    "vif(sim_lm)"
   ]
  },
  {
   "cell_type": "markdown",
   "metadata": {},
   "source": [
    "Let's now increase the correlation among the attributes. "
   ]
  },
  {
   "cell_type": "code",
   "execution_count": null,
   "metadata": {},
   "outputs": [],
   "source": [
    "library(simglm)\n",
    "\n",
    "sim_args <- list(formula = y ~ 1 + act + gpa + sat, \n",
    "                 fixed = list(act = list(var_type = 'continuous',\n",
    "                                         mean = 20, \n",
    "                                         sd = 4),\n",
    "                              gpa = list(var_type = 'continuous',\n",
    "                                         mean = 2, \n",
    "                                         sd = .5),\n",
    "                              sat = list(var_type = 'continuous',\n",
    "                                         mean = 500, \n",
    "                                         sd = 100)),\n",
    "                 correlate = list(fixed = data.frame(x = c('act', 'act', 'gpa'), \n",
    "                                                     y = c('gpa', 'sat', 'sat'), \n",
    "                                                     corr = c(0.5, 0.5, 0.25))),\n",
    "                error = list(variance = 100),\n",
    "                reg_weights = c(1, 1, 1, 1),\n",
    "                 sample_size = 10000)\n",
    "\n",
    "sim_data <- simulate_fixed(data = NULL, sim_args) %>%\n",
    "   simulate_error(sim_args) %>%\n",
    "   correlate_variables(sim_args) %>%\n",
    "   generate_response(sim_args)\n",
    "\n",
    "head(sim_data)"
   ]
  },
  {
   "cell_type": "code",
   "execution_count": null,
   "metadata": {},
   "outputs": [],
   "source": [
    "cor(sim_data[c('y', 'act', 'gpa', 'sat')])"
   ]
  },
  {
   "cell_type": "code",
   "execution_count": null,
   "metadata": {},
   "outputs": [],
   "source": [
    "sim_lm2 <- lm(y ~ 1 + act + gpa + sat, data = sim_data)\n",
    "vif(sim_lm2)"
   ]
  },
  {
   "cell_type": "code",
   "execution_count": null,
   "metadata": {},
   "outputs": [],
   "source": [
    "broom::tidy(sim_lm)\n",
    "broom::tidy(sim_lm2)"
   ]
  },
  {
   "cell_type": "code",
   "execution_count": null,
   "metadata": {},
   "outputs": [],
   "source": [
    "library(simglm)\n",
    "\n",
    "sim_args <- list(formula = y ~ 1 + act + gpa + sat, \n",
    "                 fixed = list(act = list(var_type = 'continuous',\n",
    "                                         mean = 20, \n",
    "                                         sd = 4),\n",
    "                              gpa = list(var_type = 'continuous',\n",
    "                                         mean = 2, \n",
    "                                         sd = .5),\n",
    "                              sat = list(var_type = 'continuous',\n",
    "                                         mean = 500, \n",
    "                                         sd = 100)),\n",
    "                 correlate = list(fixed = data.frame(x = c('act', 'act', 'gpa'), \n",
    "                                                     y = c('gpa', 'sat', 'sat'), \n",
    "                                                     corr = c(0.5, 0.9, 0.5))),\n",
    "                error = list(variance = 100),\n",
    "                reg_weights = c(1, 1, 1, 1),\n",
    "                 sample_size = 10000)\n",
    "\n",
    "sim_data <- simulate_fixed(data = NULL, sim_args) %>%\n",
    "   simulate_error(sim_args) %>%\n",
    "   correlate_variables(sim_args) %>%\n",
    "   generate_response(sim_args)\n",
    "\n",
    "head(sim_data)"
   ]
  },
  {
   "cell_type": "code",
   "execution_count": null,
   "metadata": {},
   "outputs": [],
   "source": [
    "cor(sim_data[c('y', 'act', 'gpa', 'sat')])"
   ]
  },
  {
   "cell_type": "code",
   "execution_count": null,
   "metadata": {},
   "outputs": [],
   "source": [
    "sim_lm3 <- lm(y ~ 1 + act + gpa + sat, data = sim_data)\n",
    "vif(sim_lm3)"
   ]
  },
  {
   "cell_type": "code",
   "execution_count": null,
   "metadata": {},
   "outputs": [],
   "source": [
    "broom::tidy(sim_lm)\n",
    "broom::tidy(sim_lm2)\n",
    "broom::tidy(sim_lm3)"
   ]
  },
  {
   "cell_type": "code",
   "execution_count": null,
   "metadata": {},
   "outputs": [],
   "source": [
    "library(simglm)\n",
    "\n",
    "sim_args <- list(formula = y ~ 1 + act + gpa + sat, \n",
    "                 fixed = list(act = list(var_type = 'continuous',\n",
    "                                         mean = 20, \n",
    "                                         sd = 4),\n",
    "                              gpa = list(var_type = 'continuous',\n",
    "                                         mean = 2, \n",
    "                                         sd = .5),\n",
    "                              sat = list(var_type = 'continuous',\n",
    "                                         mean = 500, \n",
    "                                         sd = 100)),\n",
    "                 correlate = list(fixed = data.frame(x = c('act', 'act', 'gpa'), \n",
    "                                                     y = c('gpa', 'sat', 'sat'), \n",
    "                                                     corr = c(0.9, 0.98, 0.85))),\n",
    "                error = list(variance = 100),\n",
    "                reg_weights = c(1, 1, 1, 1),\n",
    "                 sample_size = 10000)\n",
    "\n",
    "sim_data <- simulate_fixed(data = NULL, sim_args) %>%\n",
    "   simulate_error(sim_args) %>%\n",
    "   correlate_variables(sim_args) %>%\n",
    "   generate_response(sim_args)\n",
    "\n",
    "head(sim_data)"
   ]
  },
  {
   "cell_type": "code",
   "execution_count": null,
   "metadata": {},
   "outputs": [],
   "source": [
    "cor(sim_data[c('y', 'act', 'gpa', 'sat')])"
   ]
  },
  {
   "cell_type": "code",
   "execution_count": null,
   "metadata": {},
   "outputs": [],
   "source": [
    "sim_lm4 <- lm(y ~ 1 + act + gpa + sat, data = sim_data)\n",
    "vif(sim_lm4)"
   ]
  },
  {
   "cell_type": "code",
   "execution_count": null,
   "metadata": {},
   "outputs": [],
   "source": [
    "broom::tidy(sim_lm)\n",
    "broom::tidy(sim_lm2)\n",
    "broom::tidy(sim_lm3)\n",
    "broom::tidy(sim_lm4)"
   ]
  }
 ],
 "metadata": {
  "kernelspec": {
   "display_name": "R",
   "language": "R",
   "name": "ir"
  },
  "language_info": {
   "codemirror_mode": "r",
   "file_extension": ".r",
   "mimetype": "text/x-r-source",
   "name": "R",
   "pygments_lexer": "r",
   "version": "4.1.0"
  },
  "orig_nbformat": 4
 },
 "nbformat": 4,
 "nbformat_minor": 2
}
