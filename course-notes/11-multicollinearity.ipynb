{
 "cells": [
  {
   "cell_type": "markdown",
   "metadata": {},
   "source": [
    "# Multicollinearity\n",
    "\n",
    "Multicollinearity is an assumption of regression that explores whether the predictor attributes (X) are correlated. Linear regression assumes that the predictor attributes are uncorrelated, but in practice this assumption is never met. What impacts does multicollinearity have on the linear regression? The short answer is that the regression parameters (the $\\beta$ terms) will be more or less unbiased, however, the same cannot be said for the standard errors. \n",
    "\n",
    "Let's first use some real data to explore this, then we'll use simulated data to show the impact correlated predictor attributes have on the linear regression estiamtes. "
   ]
  },
  {
   "cell_type": "code",
   "execution_count": 4,
   "metadata": {},
   "outputs": [
    {
     "name": "stderr",
     "output_type": "stream",
     "text": [
      "\u001b[1m\u001b[1mRows: \u001b[1m\u001b[22m\u001b[34m\u001b[34m7058\u001b[34m\u001b[39m \u001b[1m\u001b[1mColumns: \u001b[1m\u001b[22m\u001b[34m\u001b[34m16\u001b[34m\u001b[39m\n",
      "\n",
      "\u001b[36m──\u001b[39m \u001b[1m\u001b[1mColumn specification\u001b[1m\u001b[22m \u001b[36m────────────────────────────────────────────────────────\u001b[39m\n",
      "\u001b[1mDelimiter:\u001b[22m \",\"\n",
      "\u001b[31mchr\u001b[39m  (6): instnm, city, stabbr, preddeg, region, locale\n",
      "\u001b[32mdbl\u001b[39m (10): adm_rate, actcmmid, ugds, costt4_a, costt4_p, tuitionfee_in, tuiti...\n",
      "\n",
      "\n",
      "\u001b[36mℹ\u001b[39m Use \u001b[30m\u001b[47m\u001b[30m\u001b[47m`spec()`\u001b[47m\u001b[30m\u001b[49m\u001b[39m to retrieve the full column specification for this data.\n",
      "\u001b[36mℹ\u001b[39m Specify the column types or set \u001b[30m\u001b[47m\u001b[30m\u001b[47m`show_col_types = FALSE`\u001b[47m\u001b[30m\u001b[49m\u001b[39m to quiet this message.\n",
      "\n"
     ]
    },
    {
     "data": {
      "text/plain": [
       "\n",
       "Call:\n",
       "lm(formula = adm_rate ~ actcmmid + costt4_a, data = college)\n",
       "\n",
       "Residuals:\n",
       "     Min       1Q   Median       3Q      Max \n",
       "-0.65484 -0.12230  0.02291  0.13863  0.37054 \n",
       "\n",
       "Coefficients:\n",
       "              Estimate Std. Error t value Pr(>|t|)    \n",
       "(Intercept)  1.135e+00  3.326e-02  34.130  < 2e-16 ***\n",
       "actcmmid    -1.669e-02  1.650e-03 -10.114  < 2e-16 ***\n",
       "costt4_a    -2.304e-06  4.047e-07  -5.693 1.55e-08 ***\n",
       "---\n",
       "Signif. codes:  0 ‘***’ 0.001 ‘**’ 0.01 ‘*’ 0.05 ‘.’ 0.1 ‘ ’ 1\n",
       "\n",
       "Residual standard error: 0.1813 on 1278 degrees of freedom\n",
       "Multiple R-squared:  0.1836,\tAdjusted R-squared:  0.1824 \n",
       "F-statistic: 143.8 on 2 and 1278 DF,  p-value: < 2.2e-16\n"
      ]
     },
     "metadata": {},
     "output_type": "display_data"
    }
   ],
   "source": [
    "library(tidyverse)\n",
    "library(ggformula)\n",
    "\n",
    "theme_set(theme_bw(base_size = 18))\n",
    "\n",
    "college <- read_csv(\"https://raw.githubusercontent.com/lebebr01/statthink/main/data-raw/College-scorecard-4143.csv\") %>%\n",
    "  mutate(act_mean = actcmmid - mean(actcmmid, na.rm = TRUE),\n",
    "         cost_mean = costt4_a - mean(costt4_a, na.rm = TRUE)) %>%\n",
    "  drop_na(act_mean, cost_mean)\n",
    "\n",
    "adm_mult_reg <- lm(adm_rate ~ actcmmid + costt4_a, data = college)\n",
    "\n",
    "summary(adm_mult_reg)"
   ]
  },
  {
   "cell_type": "code",
   "execution_count": 9,
   "metadata": {},
   "outputs": [
    {
     "data": {
      "text/html": [
       "0.555730693009104"
      ],
      "text/latex": [
       "0.555730693009104"
      ],
      "text/markdown": [
       "0.555730693009104"
      ],
      "text/plain": [
       "[1] 0.5557307"
      ]
     },
     "metadata": {},
     "output_type": "display_data"
    }
   ],
   "source": [
    "library(mosaic)\n",
    "\n",
    "cor(actcmmid ~ costt4_a, data = college)"
   ]
  },
  {
   "cell_type": "markdown",
   "metadata": {},
   "source": [
    "## Variance Inflation Factor\n",
    "\n",
    "The variance inflation factor (VIF) is a commonly used statistic to aid in diagnosing multicollinearity. It attempts to estimate how much the variance of the estimated regression equation is inflated due to correlated predictor attributes. \n",
    "\n",
    "First, this can be calculated from the car package, using the function `vif()`. "
   ]
  },
  {
   "cell_type": "code",
   "execution_count": 10,
   "metadata": {},
   "outputs": [
    {
     "data": {
      "text/html": [
       "<style>\n",
       ".dl-inline {width: auto; margin:0; padding: 0}\n",
       ".dl-inline>dt, .dl-inline>dd {float: none; width: auto; display: inline-block}\n",
       ".dl-inline>dt::after {content: \":\\0020\"; padding-right: .5ex}\n",
       ".dl-inline>dt:not(:first-of-type) {padding-left: .5ex}\n",
       "</style><dl class=dl-inline><dt>actcmmid</dt><dd>1.44683587782712</dd><dt>costt4_a</dt><dd>1.44683587782712</dd></dl>\n"
      ],
      "text/latex": [
       "\\begin{description*}\n",
       "\\item[actcmmid] 1.44683587782712\n",
       "\\item[costt4\\textbackslash{}\\_a] 1.44683587782712\n",
       "\\end{description*}\n"
      ],
      "text/markdown": [
       "actcmmid\n",
       ":   1.44683587782712costt4_a\n",
       ":   1.44683587782712\n",
       "\n"
      ],
      "text/plain": [
       "actcmmid costt4_a \n",
       "1.446836 1.446836 "
      ]
     },
     "metadata": {},
     "output_type": "display_data"
    }
   ],
   "source": [
    "library(car)\n",
    "\n",
    "vif(adm_mult_reg)"
   ]
  },
  {
   "cell_type": "markdown",
   "metadata": {},
   "source": [
    "Fundamentally, the VIF is calculated with the following steps. \n",
    "\n",
    "1. Fit a regression where one of the X attributes is the outcome and the remaining X attributes are predictors. \n",
    "2. Calculate VIF: $VIF = 1 / 1 - R^2$ from step 1. \n",
    "3. Repeate this for all X attributes.\n",
    "4. Evaluate extent to which VIF is problematic. Rules of thumb include VIF statistics greater than 5 or 10. \n",
    "\n",
    "Interpretation wise, the square root of the VIF statistic can provide an indication of how inflated the standard error would be if the predictors are uncorrelated. "
   ]
  },
  {
   "cell_type": "code",
   "execution_count": 11,
   "metadata": {},
   "outputs": [
    {
     "data": {
      "text/html": [
       "0.308836603152381"
      ],
      "text/latex": [
       "0.308836603152381"
      ],
      "text/markdown": [
       "0.308836603152381"
      ],
      "text/plain": [
       "[1] 0.3088366"
      ]
     },
     "metadata": {},
     "output_type": "display_data"
    }
   ],
   "source": [
    "act_lm <- lm(actcmmid ~ costt4_a, data = college)\n",
    "summary(act_lm)$r.square"
   ]
  },
  {
   "cell_type": "code",
   "execution_count": 13,
   "metadata": {},
   "outputs": [
    {
     "data": {
      "text/html": [
       "1.44675925925926"
      ],
      "text/latex": [
       "1.44675925925926"
      ],
      "text/markdown": [
       "1.44675925925926"
      ],
      "text/plain": [
       "[1] 1.446759"
      ]
     },
     "metadata": {},
     "output_type": "display_data"
    }
   ],
   "source": [
    "1 / (1 - .3088)"
   ]
  },
  {
   "cell_type": "code",
   "execution_count": 14,
   "metadata": {},
   "outputs": [
    {
     "data": {
      "text/html": [
       "1.20249740124459"
      ],
      "text/latex": [
       "1.20249740124459"
      ],
      "text/markdown": [
       "1.20249740124459"
      ],
      "text/plain": [
       "[1] 1.202497"
      ]
     },
     "metadata": {},
     "output_type": "display_data"
    }
   ],
   "source": [
    "sqrt(1.446)"
   ]
  },
  {
   "cell_type": "markdown",
   "metadata": {},
   "source": [
    "### Simulated data exploration\n",
    "\n",
    "Let's use some simulated data to show the extent to which multicollinearity can be problematic, particularly for more highly correlated attributes. \n",
    "\n",
    "First, let's start with uncorrelated (on average) predictor attributes."
   ]
  },
  {
   "cell_type": "code",
   "execution_count": 37,
   "metadata": {},
   "outputs": [
    {
     "data": {
      "text/html": [
       "<table class=\"dataframe\">\n",
       "<caption>A data.frame: 6 × 12</caption>\n",
       "<thead>\n",
       "\t<tr><th></th><th scope=col>X.Intercept.</th><th scope=col>act_old</th><th scope=col>gpa_old</th><th scope=col>sat_old</th><th scope=col>level1_id</th><th scope=col>error</th><th scope=col>act</th><th scope=col>gpa</th><th scope=col>sat</th><th scope=col>fixed_outcome</th><th scope=col>random_effects</th><th scope=col>y</th></tr>\n",
       "\t<tr><th></th><th scope=col>&lt;dbl&gt;</th><th scope=col>&lt;dbl&gt;</th><th scope=col>&lt;dbl&gt;</th><th scope=col>&lt;dbl&gt;</th><th scope=col>&lt;int&gt;</th><th scope=col>&lt;dbl&gt;</th><th scope=col>&lt;dbl&gt;</th><th scope=col>&lt;dbl&gt;</th><th scope=col>&lt;dbl&gt;</th><th scope=col>&lt;dbl&gt;</th><th scope=col>&lt;dbl&gt;</th><th scope=col>&lt;dbl&gt;</th></tr>\n",
       "</thead>\n",
       "<tbody>\n",
       "\t<tr><th scope=row>1</th><td>1</td><td>25.81868</td><td>2.387232</td><td>625.0705</td><td>1</td><td> 19.894009</td><td>23.09785</td><td>2.625352</td><td>645.4670</td><td>672.1902</td><td>0</td><td>692.0842</td></tr>\n",
       "\t<tr><th scope=row>2</th><td>1</td><td>20.78000</td><td>1.851529</td><td>449.0296</td><td>2</td><td> 12.183575</td><td>18.81223</td><td>1.745148</td><td>519.5000</td><td>541.0573</td><td>0</td><td>553.2409</td></tr>\n",
       "\t<tr><th scope=row>3</th><td>1</td><td>19.32782</td><td>1.987358</td><td>641.0020</td><td>3</td><td> -5.933002</td><td>19.89886</td><td>2.705010</td><td>483.1956</td><td>506.7995</td><td>0</td><td>500.8665</td></tr>\n",
       "\t<tr><th scope=row>4</th><td>1</td><td>23.35195</td><td>2.040886</td><td>567.8754</td><td>4</td><td>-12.370279</td><td>20.32709</td><td>2.339377</td><td>583.7989</td><td>607.4653</td><td>0</td><td>595.0951</td></tr>\n",
       "\t<tr><th scope=row>5</th><td>1</td><td>25.34864</td><td>2.433653</td><td>380.9119</td><td>5</td><td>  6.917448</td><td>23.46923</td><td>1.404559</td><td>633.7160</td><td>659.5898</td><td>0</td><td>666.5072</td></tr>\n",
       "\t<tr><th scope=row>6</th><td>1</td><td>23.98652</td><td>2.246192</td><td>419.8021</td><td>6</td><td> -9.635669</td><td>21.96954</td><td>1.599011</td><td>599.6631</td><td>624.2316</td><td>0</td><td>614.5960</td></tr>\n",
       "</tbody>\n",
       "</table>\n"
      ],
      "text/latex": [
       "A data.frame: 6 × 12\n",
       "\\begin{tabular}{r|llllllllllll}\n",
       "  & X.Intercept. & act\\_old & gpa\\_old & sat\\_old & level1\\_id & error & act & gpa & sat & fixed\\_outcome & random\\_effects & y\\\\\n",
       "  & <dbl> & <dbl> & <dbl> & <dbl> & <int> & <dbl> & <dbl> & <dbl> & <dbl> & <dbl> & <dbl> & <dbl>\\\\\n",
       "\\hline\n",
       "\t1 & 1 & 25.81868 & 2.387232 & 625.0705 & 1 &  19.894009 & 23.09785 & 2.625352 & 645.4670 & 672.1902 & 0 & 692.0842\\\\\n",
       "\t2 & 1 & 20.78000 & 1.851529 & 449.0296 & 2 &  12.183575 & 18.81223 & 1.745148 & 519.5000 & 541.0573 & 0 & 553.2409\\\\\n",
       "\t3 & 1 & 19.32782 & 1.987358 & 641.0020 & 3 &  -5.933002 & 19.89886 & 2.705010 & 483.1956 & 506.7995 & 0 & 500.8665\\\\\n",
       "\t4 & 1 & 23.35195 & 2.040886 & 567.8754 & 4 & -12.370279 & 20.32709 & 2.339377 & 583.7989 & 607.4653 & 0 & 595.0951\\\\\n",
       "\t5 & 1 & 25.34864 & 2.433653 & 380.9119 & 5 &   6.917448 & 23.46923 & 1.404559 & 633.7160 & 659.5898 & 0 & 666.5072\\\\\n",
       "\t6 & 1 & 23.98652 & 2.246192 & 419.8021 & 6 &  -9.635669 & 21.96954 & 1.599011 & 599.6631 & 624.2316 & 0 & 614.5960\\\\\n",
       "\\end{tabular}\n"
      ],
      "text/markdown": [
       "\n",
       "A data.frame: 6 × 12\n",
       "\n",
       "| <!--/--> | X.Intercept. &lt;dbl&gt; | act_old &lt;dbl&gt; | gpa_old &lt;dbl&gt; | sat_old &lt;dbl&gt; | level1_id &lt;int&gt; | error &lt;dbl&gt; | act &lt;dbl&gt; | gpa &lt;dbl&gt; | sat &lt;dbl&gt; | fixed_outcome &lt;dbl&gt; | random_effects &lt;dbl&gt; | y &lt;dbl&gt; |\n",
       "|---|---|---|---|---|---|---|---|---|---|---|---|---|\n",
       "| 1 | 1 | 25.81868 | 2.387232 | 625.0705 | 1 |  19.894009 | 23.09785 | 2.625352 | 645.4670 | 672.1902 | 0 | 692.0842 |\n",
       "| 2 | 1 | 20.78000 | 1.851529 | 449.0296 | 2 |  12.183575 | 18.81223 | 1.745148 | 519.5000 | 541.0573 | 0 | 553.2409 |\n",
       "| 3 | 1 | 19.32782 | 1.987358 | 641.0020 | 3 |  -5.933002 | 19.89886 | 2.705010 | 483.1956 | 506.7995 | 0 | 500.8665 |\n",
       "| 4 | 1 | 23.35195 | 2.040886 | 567.8754 | 4 | -12.370279 | 20.32709 | 2.339377 | 583.7989 | 607.4653 | 0 | 595.0951 |\n",
       "| 5 | 1 | 25.34864 | 2.433653 | 380.9119 | 5 |   6.917448 | 23.46923 | 1.404559 | 633.7160 | 659.5898 | 0 | 666.5072 |\n",
       "| 6 | 1 | 23.98652 | 2.246192 | 419.8021 | 6 |  -9.635669 | 21.96954 | 1.599011 | 599.6631 | 624.2316 | 0 | 614.5960 |\n",
       "\n"
      ],
      "text/plain": [
       "  X.Intercept. act_old  gpa_old  sat_old  level1_id error      act     \n",
       "1 1            25.81868 2.387232 625.0705 1          19.894009 23.09785\n",
       "2 1            20.78000 1.851529 449.0296 2          12.183575 18.81223\n",
       "3 1            19.32782 1.987358 641.0020 3          -5.933002 19.89886\n",
       "4 1            23.35195 2.040886 567.8754 4         -12.370279 20.32709\n",
       "5 1            25.34864 2.433653 380.9119 5           6.917448 23.46923\n",
       "6 1            23.98652 2.246192 419.8021 6          -9.635669 21.96954\n",
       "  gpa      sat      fixed_outcome random_effects y       \n",
       "1 2.625352 645.4670 672.1902      0              692.0842\n",
       "2 1.745148 519.5000 541.0573      0              553.2409\n",
       "3 2.705010 483.1956 506.7995      0              500.8665\n",
       "4 2.339377 583.7989 607.4653      0              595.0951\n",
       "5 1.404559 633.7160 659.5898      0              666.5072\n",
       "6 1.599011 599.6631 624.2316      0              614.5960"
      ]
     },
     "metadata": {},
     "output_type": "display_data"
    }
   ],
   "source": [
    "library(simglm)\n",
    "\n",
    "sim_args <- list(formula = y ~ 1 + act + gpa + sat, \n",
    "                 fixed = list(act = list(var_type = 'continuous',\n",
    "                                         mean = 20, \n",
    "                                         sd = 4),\n",
    "                              gpa = list(var_type = 'continuous',\n",
    "                                         mean = 2, \n",
    "                                         sd = .5),\n",
    "                              sat = list(var_type = 'continuous',\n",
    "                                         mean = 500, \n",
    "                                         sd = 100)),\n",
    "                 correlate = list(fixed = data.frame(x = c('act', 'act', 'gpa'), \n",
    "                                                     y = c('gpa', 'sat', 'sat'), \n",
    "                                                     corr = c(0, 0, 0))),\n",
    "                error = list(variance = 100),\n",
    "                reg_weights = c(1, 1, 1, 1),\n",
    "                 sample_size = 10000)\n",
    "\n",
    "sim_data <- simulate_fixed(data = NULL, sim_args) %>%\n",
    "   simulate_error(sim_args) %>%\n",
    "   correlate_variables(sim_args) %>%\n",
    "   generate_response(sim_args)\n",
    "\n",
    "head(sim_data)"
   ]
  },
  {
   "cell_type": "code",
   "execution_count": 25,
   "metadata": {},
   "outputs": [
    {
     "data": {
      "text/html": [
       "<table class=\"dataframe\">\n",
       "<caption>A matrix: 4 × 4 of type dbl</caption>\n",
       "<thead>\n",
       "\t<tr><th></th><th scope=col>y</th><th scope=col>act</th><th scope=col>gpa</th><th scope=col>sat</th></tr>\n",
       "</thead>\n",
       "<tbody>\n",
       "\t<tr><th scope=row>y</th><td>1.000000000</td><td>0.039278283</td><td>0.0047364836</td><td>0.9941980371</td></tr>\n",
       "\t<tr><th scope=row>act</th><td>0.039278283</td><td>1.000000000</td><td>0.0074519131</td><td>0.0004214510</td></tr>\n",
       "\t<tr><th scope=row>gpa</th><td>0.004736484</td><td>0.007451913</td><td>1.0000000000</td><td>0.0003548581</td></tr>\n",
       "\t<tr><th scope=row>sat</th><td>0.994198037</td><td>0.000421451</td><td>0.0003548581</td><td>1.0000000000</td></tr>\n",
       "</tbody>\n",
       "</table>\n"
      ],
      "text/latex": [
       "A matrix: 4 × 4 of type dbl\n",
       "\\begin{tabular}{r|llll}\n",
       "  & y & act & gpa & sat\\\\\n",
       "\\hline\n",
       "\ty & 1.000000000 & 0.039278283 & 0.0047364836 & 0.9941980371\\\\\n",
       "\tact & 0.039278283 & 1.000000000 & 0.0074519131 & 0.0004214510\\\\\n",
       "\tgpa & 0.004736484 & 0.007451913 & 1.0000000000 & 0.0003548581\\\\\n",
       "\tsat & 0.994198037 & 0.000421451 & 0.0003548581 & 1.0000000000\\\\\n",
       "\\end{tabular}\n"
      ],
      "text/markdown": [
       "\n",
       "A matrix: 4 × 4 of type dbl\n",
       "\n",
       "| <!--/--> | y | act | gpa | sat |\n",
       "|---|---|---|---|---|\n",
       "| y | 1.000000000 | 0.039278283 | 0.0047364836 | 0.9941980371 |\n",
       "| act | 0.039278283 | 1.000000000 | 0.0074519131 | 0.0004214510 |\n",
       "| gpa | 0.004736484 | 0.007451913 | 1.0000000000 | 0.0003548581 |\n",
       "| sat | 0.994198037 | 0.000421451 | 0.0003548581 | 1.0000000000 |\n",
       "\n"
      ],
      "text/plain": [
       "    y           act         gpa          sat         \n",
       "y   1.000000000 0.039278283 0.0047364836 0.9941980371\n",
       "act 0.039278283 1.000000000 0.0074519131 0.0004214510\n",
       "gpa 0.004736484 0.007451913 1.0000000000 0.0003548581\n",
       "sat 0.994198037 0.000421451 0.0003548581 1.0000000000"
      ]
     },
     "metadata": {},
     "output_type": "display_data"
    }
   ],
   "source": [
    "cor(sim_data[c('y', 'act', 'gpa', 'sat')])"
   ]
  },
  {
   "cell_type": "code",
   "execution_count": 38,
   "metadata": {},
   "outputs": [
    {
     "data": {
      "text/plain": [
       "\n",
       "Call:\n",
       "lm(formula = y ~ 1 + act + gpa + sat, data = sim_data)\n",
       "\n",
       "Residuals:\n",
       "    Min      1Q  Median      3Q     Max \n",
       "-36.056  -6.743   0.005   6.694  40.075 \n",
       "\n",
       "Coefficients:\n",
       "             Estimate Std. Error  t value Pr(>|t|)    \n",
       "(Intercept) -0.129302   0.823839   -0.157    0.875    \n",
       "act          0.986796   0.025136   39.258  < 2e-16 ***\n",
       "gpa          1.244655   0.199483    6.239 4.57e-10 ***\n",
       "sat          1.001616   0.001002 1000.071  < 2e-16 ***\n",
       "---\n",
       "Signif. codes:  0 ‘***’ 0.001 ‘**’ 0.01 ‘*’ 0.05 ‘.’ 0.1 ‘ ’ 1\n",
       "\n",
       "Residual standard error: 9.993 on 9996 degrees of freedom\n",
       "Multiple R-squared:  0.9901,\tAdjusted R-squared:  0.9901 \n",
       "F-statistic: 3.341e+05 on 3 and 9996 DF,  p-value: < 2.2e-16\n"
      ]
     },
     "metadata": {},
     "output_type": "display_data"
    }
   ],
   "source": [
    "sim_lm <- lm(y ~ 1 + act + gpa + sat, data = sim_data)\n",
    "summary(sim_lm)"
   ]
  },
  {
   "cell_type": "code",
   "execution_count": 30,
   "metadata": {},
   "outputs": [
    {
     "data": {
      "text/html": [
       "<style>\n",
       ".dl-inline {width: auto; margin:0; padding: 0}\n",
       ".dl-inline>dt, .dl-inline>dd {float: none; width: auto; display: inline-block}\n",
       ".dl-inline>dt::after {content: \":\\0020\"; padding-right: .5ex}\n",
       ".dl-inline>dt:not(:first-of-type) {padding-left: .5ex}\n",
       "</style><dl class=dl-inline><dt>act</dt><dd>1.00005570951141</dd><dt>gpa</dt><dd>1.00005565781182</dd><dt>sat</dt><dd>1.00000030133307</dd></dl>\n"
      ],
      "text/latex": [
       "\\begin{description*}\n",
       "\\item[act] 1.00005570951141\n",
       "\\item[gpa] 1.00005565781182\n",
       "\\item[sat] 1.00000030133307\n",
       "\\end{description*}\n"
      ],
      "text/markdown": [
       "act\n",
       ":   1.00005570951141gpa\n",
       ":   1.00005565781182sat\n",
       ":   1.00000030133307\n",
       "\n"
      ],
      "text/plain": [
       "     act      gpa      sat \n",
       "1.000056 1.000056 1.000000 "
      ]
     },
     "metadata": {},
     "output_type": "display_data"
    }
   ],
   "source": [
    "vif(sim_lm)"
   ]
  },
  {
   "cell_type": "markdown",
   "metadata": {},
   "source": [
    "Let's now increase the correlation among the attributes. "
   ]
  },
  {
   "cell_type": "code",
   "execution_count": 39,
   "metadata": {},
   "outputs": [
    {
     "data": {
      "text/html": [
       "<table class=\"dataframe\">\n",
       "<caption>A data.frame: 6 × 12</caption>\n",
       "<thead>\n",
       "\t<tr><th></th><th scope=col>X.Intercept.</th><th scope=col>act_old</th><th scope=col>gpa_old</th><th scope=col>sat_old</th><th scope=col>level1_id</th><th scope=col>error</th><th scope=col>act</th><th scope=col>gpa</th><th scope=col>sat</th><th scope=col>fixed_outcome</th><th scope=col>random_effects</th><th scope=col>y</th></tr>\n",
       "\t<tr><th></th><th scope=col>&lt;dbl&gt;</th><th scope=col>&lt;dbl&gt;</th><th scope=col>&lt;dbl&gt;</th><th scope=col>&lt;dbl&gt;</th><th scope=col>&lt;int&gt;</th><th scope=col>&lt;dbl&gt;</th><th scope=col>&lt;dbl&gt;</th><th scope=col>&lt;dbl&gt;</th><th scope=col>&lt;dbl&gt;</th><th scope=col>&lt;dbl&gt;</th><th scope=col>&lt;dbl&gt;</th><th scope=col>&lt;dbl&gt;</th></tr>\n",
       "</thead>\n",
       "<tbody>\n",
       "\t<tr><th scope=row>1</th><td>1</td><td>22.44951</td><td>1.143265</td><td>552.0649</td><td>1</td><td>-2.7700701</td><td>12.85496</td><td>1.322129</td><td>438.8815</td><td>454.0586</td><td>0</td><td>451.2885</td></tr>\n",
       "\t<tr><th scope=row>2</th><td>1</td><td>20.99447</td><td>2.094476</td><td>559.4903</td><td>2</td><td>14.6823989</td><td>20.17272</td><td>1.753849</td><td>475.1251</td><td>498.0516</td><td>0</td><td>512.7340</td></tr>\n",
       "\t<tr><th scope=row>3</th><td>1</td><td>18.91376</td><td>2.500787</td><td>619.5386</td><td>3</td><td>-4.6245695</td><td>24.04456</td><td>1.738612</td><td>527.0863</td><td>553.8695</td><td>0</td><td>549.2449</td></tr>\n",
       "\t<tr><th scope=row>4</th><td>1</td><td>18.86514</td><td>1.490620</td><td>433.3239</td><td>4</td><td> 0.7870816</td><td>17.02230</td><td>2.099114</td><td>528.4424</td><td>548.5638</td><td>0</td><td>549.3509</td></tr>\n",
       "\t<tr><th scope=row>5</th><td>1</td><td>21.60813</td><td>2.207381</td><td>567.7602</td><td>5</td><td> 3.1802718</td><td>20.64968</td><td>1.748622</td><td>459.7679</td><td>483.1662</td><td>0</td><td>486.3465</td></tr>\n",
       "\t<tr><th scope=row>6</th><td>1</td><td>20.52082</td><td>1.908382</td><td>535.7272</td><td>6</td><td> 7.0095885</td><td>19.11459</td><td>1.789336</td><td>486.9923</td><td>508.8963</td><td>0</td><td>515.9058</td></tr>\n",
       "</tbody>\n",
       "</table>\n"
      ],
      "text/latex": [
       "A data.frame: 6 × 12\n",
       "\\begin{tabular}{r|llllllllllll}\n",
       "  & X.Intercept. & act\\_old & gpa\\_old & sat\\_old & level1\\_id & error & act & gpa & sat & fixed\\_outcome & random\\_effects & y\\\\\n",
       "  & <dbl> & <dbl> & <dbl> & <dbl> & <int> & <dbl> & <dbl> & <dbl> & <dbl> & <dbl> & <dbl> & <dbl>\\\\\n",
       "\\hline\n",
       "\t1 & 1 & 22.44951 & 1.143265 & 552.0649 & 1 & -2.7700701 & 12.85496 & 1.322129 & 438.8815 & 454.0586 & 0 & 451.2885\\\\\n",
       "\t2 & 1 & 20.99447 & 2.094476 & 559.4903 & 2 & 14.6823989 & 20.17272 & 1.753849 & 475.1251 & 498.0516 & 0 & 512.7340\\\\\n",
       "\t3 & 1 & 18.91376 & 2.500787 & 619.5386 & 3 & -4.6245695 & 24.04456 & 1.738612 & 527.0863 & 553.8695 & 0 & 549.2449\\\\\n",
       "\t4 & 1 & 18.86514 & 1.490620 & 433.3239 & 4 &  0.7870816 & 17.02230 & 2.099114 & 528.4424 & 548.5638 & 0 & 549.3509\\\\\n",
       "\t5 & 1 & 21.60813 & 2.207381 & 567.7602 & 5 &  3.1802718 & 20.64968 & 1.748622 & 459.7679 & 483.1662 & 0 & 486.3465\\\\\n",
       "\t6 & 1 & 20.52082 & 1.908382 & 535.7272 & 6 &  7.0095885 & 19.11459 & 1.789336 & 486.9923 & 508.8963 & 0 & 515.9058\\\\\n",
       "\\end{tabular}\n"
      ],
      "text/markdown": [
       "\n",
       "A data.frame: 6 × 12\n",
       "\n",
       "| <!--/--> | X.Intercept. &lt;dbl&gt; | act_old &lt;dbl&gt; | gpa_old &lt;dbl&gt; | sat_old &lt;dbl&gt; | level1_id &lt;int&gt; | error &lt;dbl&gt; | act &lt;dbl&gt; | gpa &lt;dbl&gt; | sat &lt;dbl&gt; | fixed_outcome &lt;dbl&gt; | random_effects &lt;dbl&gt; | y &lt;dbl&gt; |\n",
       "|---|---|---|---|---|---|---|---|---|---|---|---|---|\n",
       "| 1 | 1 | 22.44951 | 1.143265 | 552.0649 | 1 | -2.7700701 | 12.85496 | 1.322129 | 438.8815 | 454.0586 | 0 | 451.2885 |\n",
       "| 2 | 1 | 20.99447 | 2.094476 | 559.4903 | 2 | 14.6823989 | 20.17272 | 1.753849 | 475.1251 | 498.0516 | 0 | 512.7340 |\n",
       "| 3 | 1 | 18.91376 | 2.500787 | 619.5386 | 3 | -4.6245695 | 24.04456 | 1.738612 | 527.0863 | 553.8695 | 0 | 549.2449 |\n",
       "| 4 | 1 | 18.86514 | 1.490620 | 433.3239 | 4 |  0.7870816 | 17.02230 | 2.099114 | 528.4424 | 548.5638 | 0 | 549.3509 |\n",
       "| 5 | 1 | 21.60813 | 2.207381 | 567.7602 | 5 |  3.1802718 | 20.64968 | 1.748622 | 459.7679 | 483.1662 | 0 | 486.3465 |\n",
       "| 6 | 1 | 20.52082 | 1.908382 | 535.7272 | 6 |  7.0095885 | 19.11459 | 1.789336 | 486.9923 | 508.8963 | 0 | 515.9058 |\n",
       "\n"
      ],
      "text/plain": [
       "  X.Intercept. act_old  gpa_old  sat_old  level1_id error      act     \n",
       "1 1            22.44951 1.143265 552.0649 1         -2.7700701 12.85496\n",
       "2 1            20.99447 2.094476 559.4903 2         14.6823989 20.17272\n",
       "3 1            18.91376 2.500787 619.5386 3         -4.6245695 24.04456\n",
       "4 1            18.86514 1.490620 433.3239 4          0.7870816 17.02230\n",
       "5 1            21.60813 2.207381 567.7602 5          3.1802718 20.64968\n",
       "6 1            20.52082 1.908382 535.7272 6          7.0095885 19.11459\n",
       "  gpa      sat      fixed_outcome random_effects y       \n",
       "1 1.322129 438.8815 454.0586      0              451.2885\n",
       "2 1.753849 475.1251 498.0516      0              512.7340\n",
       "3 1.738612 527.0863 553.8695      0              549.2449\n",
       "4 2.099114 528.4424 548.5638      0              549.3509\n",
       "5 1.748622 459.7679 483.1662      0              486.3465\n",
       "6 1.789336 486.9923 508.8963      0              515.9058"
      ]
     },
     "metadata": {},
     "output_type": "display_data"
    }
   ],
   "source": [
    "library(simglm)\n",
    "\n",
    "sim_args <- list(formula = y ~ 1 + act + gpa + sat, \n",
    "                 fixed = list(act = list(var_type = 'continuous',\n",
    "                                         mean = 20, \n",
    "                                         sd = 4),\n",
    "                              gpa = list(var_type = 'continuous',\n",
    "                                         mean = 2, \n",
    "                                         sd = .5),\n",
    "                              sat = list(var_type = 'continuous',\n",
    "                                         mean = 500, \n",
    "                                         sd = 100)),\n",
    "                 correlate = list(fixed = data.frame(x = c('act', 'act', 'gpa'), \n",
    "                                                     y = c('gpa', 'sat', 'sat'), \n",
    "                                                     corr = c(0.5, 0.5, 0.25))),\n",
    "                error = list(variance = 100),\n",
    "                reg_weights = c(1, 1, 1, 1),\n",
    "                 sample_size = 10000)\n",
    "\n",
    "sim_data <- simulate_fixed(data = NULL, sim_args) %>%\n",
    "   simulate_error(sim_args) %>%\n",
    "   correlate_variables(sim_args) %>%\n",
    "   generate_response(sim_args)\n",
    "\n",
    "head(sim_data)"
   ]
  },
  {
   "cell_type": "code",
   "execution_count": 32,
   "metadata": {},
   "outputs": [
    {
     "data": {
      "text/html": [
       "<table class=\"dataframe\">\n",
       "<caption>A matrix: 4 × 4 of type dbl</caption>\n",
       "<thead>\n",
       "\t<tr><th></th><th scope=col>y</th><th scope=col>act</th><th scope=col>gpa</th><th scope=col>sat</th></tr>\n",
       "</thead>\n",
       "<tbody>\n",
       "\t<tr><th scope=row>y</th><td>1.0000000</td><td>0.5321332</td><td>0.2651093</td><td>0.9946684</td></tr>\n",
       "\t<tr><th scope=row>act</th><td>0.5321332</td><td>1.0000000</td><td>0.5096087</td><td>0.5027017</td></tr>\n",
       "\t<tr><th scope=row>gpa</th><td>0.2651093</td><td>0.5096087</td><td>1.0000000</td><td>0.2475699</td></tr>\n",
       "\t<tr><th scope=row>sat</th><td>0.9946684</td><td>0.5027017</td><td>0.2475699</td><td>1.0000000</td></tr>\n",
       "</tbody>\n",
       "</table>\n"
      ],
      "text/latex": [
       "A matrix: 4 × 4 of type dbl\n",
       "\\begin{tabular}{r|llll}\n",
       "  & y & act & gpa & sat\\\\\n",
       "\\hline\n",
       "\ty & 1.0000000 & 0.5321332 & 0.2651093 & 0.9946684\\\\\n",
       "\tact & 0.5321332 & 1.0000000 & 0.5096087 & 0.5027017\\\\\n",
       "\tgpa & 0.2651093 & 0.5096087 & 1.0000000 & 0.2475699\\\\\n",
       "\tsat & 0.9946684 & 0.5027017 & 0.2475699 & 1.0000000\\\\\n",
       "\\end{tabular}\n"
      ],
      "text/markdown": [
       "\n",
       "A matrix: 4 × 4 of type dbl\n",
       "\n",
       "| <!--/--> | y | act | gpa | sat |\n",
       "|---|---|---|---|---|\n",
       "| y | 1.0000000 | 0.5321332 | 0.2651093 | 0.9946684 |\n",
       "| act | 0.5321332 | 1.0000000 | 0.5096087 | 0.5027017 |\n",
       "| gpa | 0.2651093 | 0.5096087 | 1.0000000 | 0.2475699 |\n",
       "| sat | 0.9946684 | 0.5027017 | 0.2475699 | 1.0000000 |\n",
       "\n"
      ],
      "text/plain": [
       "    y         act       gpa       sat      \n",
       "y   1.0000000 0.5321332 0.2651093 0.9946684\n",
       "act 0.5321332 1.0000000 0.5096087 0.5027017\n",
       "gpa 0.2651093 0.5096087 1.0000000 0.2475699\n",
       "sat 0.9946684 0.5027017 0.2475699 1.0000000"
      ]
     },
     "metadata": {},
     "output_type": "display_data"
    }
   ],
   "source": [
    "cor(sim_data[c('y', 'act', 'gpa', 'sat')])"
   ]
  },
  {
   "cell_type": "code",
   "execution_count": 40,
   "metadata": {},
   "outputs": [
    {
     "data": {
      "text/html": [
       "<style>\n",
       ".dl-inline {width: auto; margin:0; padding: 0}\n",
       ".dl-inline>dt, .dl-inline>dd {float: none; width: auto; display: inline-block}\n",
       ".dl-inline>dt::after {content: \":\\0020\"; padding-right: .5ex}\n",
       ".dl-inline>dt:not(:first-of-type) {padding-left: .5ex}\n",
       "</style><dl class=dl-inline><dt>act</dt><dd>1.66999941316049</dd><dt>gpa</dt><dd>1.32052867213079</dd><dt>sat</dt><dd>1.35571965048293</dd></dl>\n"
      ],
      "text/latex": [
       "\\begin{description*}\n",
       "\\item[act] 1.66999941316049\n",
       "\\item[gpa] 1.32052867213079\n",
       "\\item[sat] 1.35571965048293\n",
       "\\end{description*}\n"
      ],
      "text/markdown": [
       "act\n",
       ":   1.66999941316049gpa\n",
       ":   1.32052867213079sat\n",
       ":   1.35571965048293\n",
       "\n"
      ],
      "text/plain": [
       "     act      gpa      sat \n",
       "1.669999 1.320529 1.355720 "
      ]
     },
     "metadata": {},
     "output_type": "display_data"
    }
   ],
   "source": [
    "sim_lm2 <- lm(y ~ 1 + act + gpa + sat, data = sim_data)\n",
    "vif(sim_lm2)"
   ]
  },
  {
   "cell_type": "code",
   "execution_count": 41,
   "metadata": {},
   "outputs": [
    {
     "data": {
      "text/html": [
       "<table class=\"dataframe\">\n",
       "<caption>A tibble: 4 × 5</caption>\n",
       "<thead>\n",
       "\t<tr><th scope=col>term</th><th scope=col>estimate</th><th scope=col>std.error</th><th scope=col>statistic</th><th scope=col>p.value</th></tr>\n",
       "\t<tr><th scope=col>&lt;chr&gt;</th><th scope=col>&lt;dbl&gt;</th><th scope=col>&lt;dbl&gt;</th><th scope=col>&lt;dbl&gt;</th><th scope=col>&lt;dbl&gt;</th></tr>\n",
       "</thead>\n",
       "<tbody>\n",
       "\t<tr><td>(Intercept)</td><td>-0.1293016</td><td>0.823839326</td><td>  -0.1569501</td><td> 8.752874e-01</td></tr>\n",
       "\t<tr><td>act        </td><td> 0.9867961</td><td>0.025135869</td><td>  39.2584824</td><td>1.222306e-313</td></tr>\n",
       "\t<tr><td>gpa        </td><td> 1.2446553</td><td>0.199482665</td><td>   6.2394159</td><td> 4.570085e-10</td></tr>\n",
       "\t<tr><td>sat        </td><td> 1.0016156</td><td>0.001001545</td><td>1000.0709711</td><td> 0.000000e+00</td></tr>\n",
       "</tbody>\n",
       "</table>\n"
      ],
      "text/latex": [
       "A tibble: 4 × 5\n",
       "\\begin{tabular}{lllll}\n",
       " term & estimate & std.error & statistic & p.value\\\\\n",
       " <chr> & <dbl> & <dbl> & <dbl> & <dbl>\\\\\n",
       "\\hline\n",
       "\t (Intercept) & -0.1293016 & 0.823839326 &   -0.1569501 &  8.752874e-01\\\\\n",
       "\t act         &  0.9867961 & 0.025135869 &   39.2584824 & 1.222306e-313\\\\\n",
       "\t gpa         &  1.2446553 & 0.199482665 &    6.2394159 &  4.570085e-10\\\\\n",
       "\t sat         &  1.0016156 & 0.001001545 & 1000.0709711 &  0.000000e+00\\\\\n",
       "\\end{tabular}\n"
      ],
      "text/markdown": [
       "\n",
       "A tibble: 4 × 5\n",
       "\n",
       "| term &lt;chr&gt; | estimate &lt;dbl&gt; | std.error &lt;dbl&gt; | statistic &lt;dbl&gt; | p.value &lt;dbl&gt; |\n",
       "|---|---|---|---|---|\n",
       "| (Intercept) | -0.1293016 | 0.823839326 |   -0.1569501 |  8.752874e-01 |\n",
       "| act         |  0.9867961 | 0.025135869 |   39.2584824 | 1.222306e-313 |\n",
       "| gpa         |  1.2446553 | 0.199482665 |    6.2394159 |  4.570085e-10 |\n",
       "| sat         |  1.0016156 | 0.001001545 | 1000.0709711 |  0.000000e+00 |\n",
       "\n"
      ],
      "text/plain": [
       "  term        estimate   std.error   statistic    p.value      \n",
       "1 (Intercept) -0.1293016 0.823839326   -0.1569501  8.752874e-01\n",
       "2 act          0.9867961 0.025135869   39.2584824 1.222306e-313\n",
       "3 gpa          1.2446553 0.199482665    6.2394159  4.570085e-10\n",
       "4 sat          1.0016156 0.001001545 1000.0709711  0.000000e+00"
      ]
     },
     "metadata": {},
     "output_type": "display_data"
    },
    {
     "data": {
      "text/html": [
       "<table class=\"dataframe\">\n",
       "<caption>A tibble: 4 × 5</caption>\n",
       "<thead>\n",
       "\t<tr><th scope=col>term</th><th scope=col>estimate</th><th scope=col>std.error</th><th scope=col>statistic</th><th scope=col>p.value</th></tr>\n",
       "\t<tr><th scope=col>&lt;chr&gt;</th><th scope=col>&lt;dbl&gt;</th><th scope=col>&lt;dbl&gt;</th><th scope=col>&lt;dbl&gt;</th><th scope=col>&lt;dbl&gt;</th></tr>\n",
       "</thead>\n",
       "<tbody>\n",
       "\t<tr><td>(Intercept)</td><td>1.7395581</td><td>0.604706104</td><td>  2.876700</td><td> 4.027075e-03</td></tr>\n",
       "\t<tr><td>act        </td><td>1.0365325</td><td>0.031981282</td><td> 32.410599</td><td>3.292363e-219</td></tr>\n",
       "\t<tr><td>gpa        </td><td>0.5840605</td><td>0.228712664</td><td>  2.553687</td><td> 1.067362e-02</td></tr>\n",
       "\t<tr><td>sat        </td><td>0.9990386</td><td>0.001154967</td><td>864.993101</td><td> 0.000000e+00</td></tr>\n",
       "</tbody>\n",
       "</table>\n"
      ],
      "text/latex": [
       "A tibble: 4 × 5\n",
       "\\begin{tabular}{lllll}\n",
       " term & estimate & std.error & statistic & p.value\\\\\n",
       " <chr> & <dbl> & <dbl> & <dbl> & <dbl>\\\\\n",
       "\\hline\n",
       "\t (Intercept) & 1.7395581 & 0.604706104 &   2.876700 &  4.027075e-03\\\\\n",
       "\t act         & 1.0365325 & 0.031981282 &  32.410599 & 3.292363e-219\\\\\n",
       "\t gpa         & 0.5840605 & 0.228712664 &   2.553687 &  1.067362e-02\\\\\n",
       "\t sat         & 0.9990386 & 0.001154967 & 864.993101 &  0.000000e+00\\\\\n",
       "\\end{tabular}\n"
      ],
      "text/markdown": [
       "\n",
       "A tibble: 4 × 5\n",
       "\n",
       "| term &lt;chr&gt; | estimate &lt;dbl&gt; | std.error &lt;dbl&gt; | statistic &lt;dbl&gt; | p.value &lt;dbl&gt; |\n",
       "|---|---|---|---|---|\n",
       "| (Intercept) | 1.7395581 | 0.604706104 |   2.876700 |  4.027075e-03 |\n",
       "| act         | 1.0365325 | 0.031981282 |  32.410599 | 3.292363e-219 |\n",
       "| gpa         | 0.5840605 | 0.228712664 |   2.553687 |  1.067362e-02 |\n",
       "| sat         | 0.9990386 | 0.001154967 | 864.993101 |  0.000000e+00 |\n",
       "\n"
      ],
      "text/plain": [
       "  term        estimate  std.error   statistic  p.value      \n",
       "1 (Intercept) 1.7395581 0.604706104   2.876700  4.027075e-03\n",
       "2 act         1.0365325 0.031981282  32.410599 3.292363e-219\n",
       "3 gpa         0.5840605 0.228712664   2.553687  1.067362e-02\n",
       "4 sat         0.9990386 0.001154967 864.993101  0.000000e+00"
      ]
     },
     "metadata": {},
     "output_type": "display_data"
    }
   ],
   "source": [
    "broom::tidy(sim_lm)\n",
    "broom::tidy(sim_lm2)"
   ]
  },
  {
   "cell_type": "code",
   "execution_count": 42,
   "metadata": {},
   "outputs": [
    {
     "data": {
      "text/html": [
       "<table class=\"dataframe\">\n",
       "<caption>A data.frame: 6 × 12</caption>\n",
       "<thead>\n",
       "\t<tr><th></th><th scope=col>X.Intercept.</th><th scope=col>act_old</th><th scope=col>gpa_old</th><th scope=col>sat_old</th><th scope=col>level1_id</th><th scope=col>error</th><th scope=col>act</th><th scope=col>gpa</th><th scope=col>sat</th><th scope=col>fixed_outcome</th><th scope=col>random_effects</th><th scope=col>y</th></tr>\n",
       "\t<tr><th></th><th scope=col>&lt;dbl&gt;</th><th scope=col>&lt;dbl&gt;</th><th scope=col>&lt;dbl&gt;</th><th scope=col>&lt;dbl&gt;</th><th scope=col>&lt;int&gt;</th><th scope=col>&lt;dbl&gt;</th><th scope=col>&lt;dbl&gt;</th><th scope=col>&lt;dbl&gt;</th><th scope=col>&lt;dbl&gt;</th><th scope=col>&lt;dbl&gt;</th><th scope=col>&lt;dbl&gt;</th><th scope=col>&lt;dbl&gt;</th></tr>\n",
       "</thead>\n",
       "<tbody>\n",
       "\t<tr><th scope=row>1</th><td>1</td><td>13.39385</td><td>2.051822</td><td>455.2614</td><td>1</td><td>  4.1461119</td><td>26.12110</td><td>2.611051</td><td>665.1471</td><td>694.8792</td><td>0</td><td>699.0254</td></tr>\n",
       "\t<tr><th scope=row>2</th><td>1</td><td>22.65920</td><td>2.337876</td><td>443.6007</td><td>2</td><td> -6.1012174</td><td>18.77416</td><td>2.116692</td><td>433.4771</td><td>455.3680</td><td>0</td><td>449.2668</td></tr>\n",
       "\t<tr><th scope=row>3</th><td>1</td><td>22.14160</td><td>2.077299</td><td>492.0787</td><td>3</td><td>-12.4331747</td><td>18.33998</td><td>1.909499</td><td>446.4502</td><td>467.6997</td><td>0</td><td>455.2665</td></tr>\n",
       "\t<tr><th scope=row>4</th><td>1</td><td>16.21051</td><td>1.906111</td><td>445.0111</td><td>4</td><td>  0.9036132</td><td>23.07636</td><td>2.461179</td><td>594.7487</td><td>621.2862</td><td>0</td><td>622.1898</td></tr>\n",
       "\t<tr><th scope=row>5</th><td>1</td><td>21.09031</td><td>1.505425</td><td>477.8051</td><td>5</td><td>  4.4194871</td><td>17.29276</td><td>1.966768</td><td>472.8044</td><td>493.0639</td><td>0</td><td>497.4834</td></tr>\n",
       "\t<tr><th scope=row>6</th><td>1</td><td>20.54478</td><td>1.972338</td><td>607.4112</td><td>6</td><td> -7.1182748</td><td>19.42934</td><td>1.502119</td><td>486.3845</td><td>508.3159</td><td>0</td><td>501.1977</td></tr>\n",
       "</tbody>\n",
       "</table>\n"
      ],
      "text/latex": [
       "A data.frame: 6 × 12\n",
       "\\begin{tabular}{r|llllllllllll}\n",
       "  & X.Intercept. & act\\_old & gpa\\_old & sat\\_old & level1\\_id & error & act & gpa & sat & fixed\\_outcome & random\\_effects & y\\\\\n",
       "  & <dbl> & <dbl> & <dbl> & <dbl> & <int> & <dbl> & <dbl> & <dbl> & <dbl> & <dbl> & <dbl> & <dbl>\\\\\n",
       "\\hline\n",
       "\t1 & 1 & 13.39385 & 2.051822 & 455.2614 & 1 &   4.1461119 & 26.12110 & 2.611051 & 665.1471 & 694.8792 & 0 & 699.0254\\\\\n",
       "\t2 & 1 & 22.65920 & 2.337876 & 443.6007 & 2 &  -6.1012174 & 18.77416 & 2.116692 & 433.4771 & 455.3680 & 0 & 449.2668\\\\\n",
       "\t3 & 1 & 22.14160 & 2.077299 & 492.0787 & 3 & -12.4331747 & 18.33998 & 1.909499 & 446.4502 & 467.6997 & 0 & 455.2665\\\\\n",
       "\t4 & 1 & 16.21051 & 1.906111 & 445.0111 & 4 &   0.9036132 & 23.07636 & 2.461179 & 594.7487 & 621.2862 & 0 & 622.1898\\\\\n",
       "\t5 & 1 & 21.09031 & 1.505425 & 477.8051 & 5 &   4.4194871 & 17.29276 & 1.966768 & 472.8044 & 493.0639 & 0 & 497.4834\\\\\n",
       "\t6 & 1 & 20.54478 & 1.972338 & 607.4112 & 6 &  -7.1182748 & 19.42934 & 1.502119 & 486.3845 & 508.3159 & 0 & 501.1977\\\\\n",
       "\\end{tabular}\n"
      ],
      "text/markdown": [
       "\n",
       "A data.frame: 6 × 12\n",
       "\n",
       "| <!--/--> | X.Intercept. &lt;dbl&gt; | act_old &lt;dbl&gt; | gpa_old &lt;dbl&gt; | sat_old &lt;dbl&gt; | level1_id &lt;int&gt; | error &lt;dbl&gt; | act &lt;dbl&gt; | gpa &lt;dbl&gt; | sat &lt;dbl&gt; | fixed_outcome &lt;dbl&gt; | random_effects &lt;dbl&gt; | y &lt;dbl&gt; |\n",
       "|---|---|---|---|---|---|---|---|---|---|---|---|---|\n",
       "| 1 | 1 | 13.39385 | 2.051822 | 455.2614 | 1 |   4.1461119 | 26.12110 | 2.611051 | 665.1471 | 694.8792 | 0 | 699.0254 |\n",
       "| 2 | 1 | 22.65920 | 2.337876 | 443.6007 | 2 |  -6.1012174 | 18.77416 | 2.116692 | 433.4771 | 455.3680 | 0 | 449.2668 |\n",
       "| 3 | 1 | 22.14160 | 2.077299 | 492.0787 | 3 | -12.4331747 | 18.33998 | 1.909499 | 446.4502 | 467.6997 | 0 | 455.2665 |\n",
       "| 4 | 1 | 16.21051 | 1.906111 | 445.0111 | 4 |   0.9036132 | 23.07636 | 2.461179 | 594.7487 | 621.2862 | 0 | 622.1898 |\n",
       "| 5 | 1 | 21.09031 | 1.505425 | 477.8051 | 5 |   4.4194871 | 17.29276 | 1.966768 | 472.8044 | 493.0639 | 0 | 497.4834 |\n",
       "| 6 | 1 | 20.54478 | 1.972338 | 607.4112 | 6 |  -7.1182748 | 19.42934 | 1.502119 | 486.3845 | 508.3159 | 0 | 501.1977 |\n",
       "\n"
      ],
      "text/plain": [
       "  X.Intercept. act_old  gpa_old  sat_old  level1_id error       act     \n",
       "1 1            13.39385 2.051822 455.2614 1           4.1461119 26.12110\n",
       "2 1            22.65920 2.337876 443.6007 2          -6.1012174 18.77416\n",
       "3 1            22.14160 2.077299 492.0787 3         -12.4331747 18.33998\n",
       "4 1            16.21051 1.906111 445.0111 4           0.9036132 23.07636\n",
       "5 1            21.09031 1.505425 477.8051 5           4.4194871 17.29276\n",
       "6 1            20.54478 1.972338 607.4112 6          -7.1182748 19.42934\n",
       "  gpa      sat      fixed_outcome random_effects y       \n",
       "1 2.611051 665.1471 694.8792      0              699.0254\n",
       "2 2.116692 433.4771 455.3680      0              449.2668\n",
       "3 1.909499 446.4502 467.6997      0              455.2665\n",
       "4 2.461179 594.7487 621.2862      0              622.1898\n",
       "5 1.966768 472.8044 493.0639      0              497.4834\n",
       "6 1.502119 486.3845 508.3159      0              501.1977"
      ]
     },
     "metadata": {},
     "output_type": "display_data"
    }
   ],
   "source": [
    "library(simglm)\n",
    "\n",
    "sim_args <- list(formula = y ~ 1 + act + gpa + sat, \n",
    "                 fixed = list(act = list(var_type = 'continuous',\n",
    "                                         mean = 20, \n",
    "                                         sd = 4),\n",
    "                              gpa = list(var_type = 'continuous',\n",
    "                                         mean = 2, \n",
    "                                         sd = .5),\n",
    "                              sat = list(var_type = 'continuous',\n",
    "                                         mean = 500, \n",
    "                                         sd = 100)),\n",
    "                 correlate = list(fixed = data.frame(x = c('act', 'act', 'gpa'), \n",
    "                                                     y = c('gpa', 'sat', 'sat'), \n",
    "                                                     corr = c(0.5, 0.9, 0.5))),\n",
    "                error = list(variance = 100),\n",
    "                reg_weights = c(1, 1, 1, 1),\n",
    "                 sample_size = 10000)\n",
    "\n",
    "sim_data <- simulate_fixed(data = NULL, sim_args) %>%\n",
    "   simulate_error(sim_args) %>%\n",
    "   correlate_variables(sim_args) %>%\n",
    "   generate_response(sim_args)\n",
    "\n",
    "head(sim_data)"
   ]
  },
  {
   "cell_type": "code",
   "execution_count": 43,
   "metadata": {},
   "outputs": [
    {
     "data": {
      "text/html": [
       "<table class=\"dataframe\">\n",
       "<caption>A matrix: 4 × 4 of type dbl</caption>\n",
       "<thead>\n",
       "\t<tr><th></th><th scope=col>y</th><th scope=col>act</th><th scope=col>gpa</th><th scope=col>sat</th></tr>\n",
       "</thead>\n",
       "<tbody>\n",
       "\t<tr><th scope=row>y</th><td>1.0000000</td><td>0.9031246</td><td>0.4873983</td><td>0.9951724</td></tr>\n",
       "\t<tr><th scope=row>act</th><td>0.9031246</td><td>1.0000000</td><td>0.4843913</td><td>0.8996471</td></tr>\n",
       "\t<tr><th scope=row>gpa</th><td>0.4873983</td><td>0.4843913</td><td>1.0000000</td><td>0.4848667</td></tr>\n",
       "\t<tr><th scope=row>sat</th><td>0.9951724</td><td>0.8996471</td><td>0.4848667</td><td>1.0000000</td></tr>\n",
       "</tbody>\n",
       "</table>\n"
      ],
      "text/latex": [
       "A matrix: 4 × 4 of type dbl\n",
       "\\begin{tabular}{r|llll}\n",
       "  & y & act & gpa & sat\\\\\n",
       "\\hline\n",
       "\ty & 1.0000000 & 0.9031246 & 0.4873983 & 0.9951724\\\\\n",
       "\tact & 0.9031246 & 1.0000000 & 0.4843913 & 0.8996471\\\\\n",
       "\tgpa & 0.4873983 & 0.4843913 & 1.0000000 & 0.4848667\\\\\n",
       "\tsat & 0.9951724 & 0.8996471 & 0.4848667 & 1.0000000\\\\\n",
       "\\end{tabular}\n"
      ],
      "text/markdown": [
       "\n",
       "A matrix: 4 × 4 of type dbl\n",
       "\n",
       "| <!--/--> | y | act | gpa | sat |\n",
       "|---|---|---|---|---|\n",
       "| y | 1.0000000 | 0.9031246 | 0.4873983 | 0.9951724 |\n",
       "| act | 0.9031246 | 1.0000000 | 0.4843913 | 0.8996471 |\n",
       "| gpa | 0.4873983 | 0.4843913 | 1.0000000 | 0.4848667 |\n",
       "| sat | 0.9951724 | 0.8996471 | 0.4848667 | 1.0000000 |\n",
       "\n"
      ],
      "text/plain": [
       "    y         act       gpa       sat      \n",
       "y   1.0000000 0.9031246 0.4873983 0.9951724\n",
       "act 0.9031246 1.0000000 0.4843913 0.8996471\n",
       "gpa 0.4873983 0.4843913 1.0000000 0.4848667\n",
       "sat 0.9951724 0.8996471 0.4848667 1.0000000"
      ]
     },
     "metadata": {},
     "output_type": "display_data"
    }
   ],
   "source": [
    "cor(sim_data[c('y', 'act', 'gpa', 'sat')])"
   ]
  },
  {
   "cell_type": "code",
   "execution_count": 44,
   "metadata": {},
   "outputs": [
    {
     "data": {
      "text/html": [
       "<style>\n",
       ".dl-inline {width: auto; margin:0; padding: 0}\n",
       ".dl-inline>dt, .dl-inline>dd {float: none; width: auto; display: inline-block}\n",
       ".dl-inline>dt::after {content: \":\\0020\"; padding-right: .5ex}\n",
       ".dl-inline>dt:not(:first-of-type) {padding-left: .5ex}\n",
       "</style><dl class=dl-inline><dt>act</dt><dd>5.33048997081241</dd><dt>gpa</dt><dd>1.32850401978861</dd><dt>sat</dt><dd>5.33370129633379</dd></dl>\n"
      ],
      "text/latex": [
       "\\begin{description*}\n",
       "\\item[act] 5.33048997081241\n",
       "\\item[gpa] 1.32850401978861\n",
       "\\item[sat] 5.33370129633379\n",
       "\\end{description*}\n"
      ],
      "text/markdown": [
       "act\n",
       ":   5.33048997081241gpa\n",
       ":   1.32850401978861sat\n",
       ":   5.33370129633379\n",
       "\n"
      ],
      "text/plain": [
       "     act      gpa      sat \n",
       "5.330490 1.328504 5.333701 "
      ]
     },
     "metadata": {},
     "output_type": "display_data"
    }
   ],
   "source": [
    "sim_lm3 <- lm(y ~ 1 + act + gpa + sat, data = sim_data)\n",
    "vif(sim_lm3)"
   ]
  },
  {
   "cell_type": "code",
   "execution_count": 45,
   "metadata": {},
   "outputs": [
    {
     "data": {
      "text/html": [
       "<table class=\"dataframe\">\n",
       "<caption>A tibble: 4 × 5</caption>\n",
       "<thead>\n",
       "\t<tr><th scope=col>term</th><th scope=col>estimate</th><th scope=col>std.error</th><th scope=col>statistic</th><th scope=col>p.value</th></tr>\n",
       "\t<tr><th scope=col>&lt;chr&gt;</th><th scope=col>&lt;dbl&gt;</th><th scope=col>&lt;dbl&gt;</th><th scope=col>&lt;dbl&gt;</th><th scope=col>&lt;dbl&gt;</th></tr>\n",
       "</thead>\n",
       "<tbody>\n",
       "\t<tr><td>(Intercept)</td><td>-0.1293016</td><td>0.823839326</td><td>  -0.1569501</td><td> 8.752874e-01</td></tr>\n",
       "\t<tr><td>act        </td><td> 0.9867961</td><td>0.025135869</td><td>  39.2584824</td><td>1.222306e-313</td></tr>\n",
       "\t<tr><td>gpa        </td><td> 1.2446553</td><td>0.199482665</td><td>   6.2394159</td><td> 4.570085e-10</td></tr>\n",
       "\t<tr><td>sat        </td><td> 1.0016156</td><td>0.001001545</td><td>1000.0709711</td><td> 0.000000e+00</td></tr>\n",
       "</tbody>\n",
       "</table>\n"
      ],
      "text/latex": [
       "A tibble: 4 × 5\n",
       "\\begin{tabular}{lllll}\n",
       " term & estimate & std.error & statistic & p.value\\\\\n",
       " <chr> & <dbl> & <dbl> & <dbl> & <dbl>\\\\\n",
       "\\hline\n",
       "\t (Intercept) & -0.1293016 & 0.823839326 &   -0.1569501 &  8.752874e-01\\\\\n",
       "\t act         &  0.9867961 & 0.025135869 &   39.2584824 & 1.222306e-313\\\\\n",
       "\t gpa         &  1.2446553 & 0.199482665 &    6.2394159 &  4.570085e-10\\\\\n",
       "\t sat         &  1.0016156 & 0.001001545 & 1000.0709711 &  0.000000e+00\\\\\n",
       "\\end{tabular}\n"
      ],
      "text/markdown": [
       "\n",
       "A tibble: 4 × 5\n",
       "\n",
       "| term &lt;chr&gt; | estimate &lt;dbl&gt; | std.error &lt;dbl&gt; | statistic &lt;dbl&gt; | p.value &lt;dbl&gt; |\n",
       "|---|---|---|---|---|\n",
       "| (Intercept) | -0.1293016 | 0.823839326 |   -0.1569501 |  8.752874e-01 |\n",
       "| act         |  0.9867961 | 0.025135869 |   39.2584824 | 1.222306e-313 |\n",
       "| gpa         |  1.2446553 | 0.199482665 |    6.2394159 |  4.570085e-10 |\n",
       "| sat         |  1.0016156 | 0.001001545 | 1000.0709711 |  0.000000e+00 |\n",
       "\n"
      ],
      "text/plain": [
       "  term        estimate   std.error   statistic    p.value      \n",
       "1 (Intercept) -0.1293016 0.823839326   -0.1569501  8.752874e-01\n",
       "2 act          0.9867961 0.025135869   39.2584824 1.222306e-313\n",
       "3 gpa          1.2446553 0.199482665    6.2394159  4.570085e-10\n",
       "4 sat          1.0016156 0.001001545 1000.0709711  0.000000e+00"
      ]
     },
     "metadata": {},
     "output_type": "display_data"
    },
    {
     "data": {
      "text/html": [
       "<table class=\"dataframe\">\n",
       "<caption>A tibble: 4 × 5</caption>\n",
       "<thead>\n",
       "\t<tr><th scope=col>term</th><th scope=col>estimate</th><th scope=col>std.error</th><th scope=col>statistic</th><th scope=col>p.value</th></tr>\n",
       "\t<tr><th scope=col>&lt;chr&gt;</th><th scope=col>&lt;dbl&gt;</th><th scope=col>&lt;dbl&gt;</th><th scope=col>&lt;dbl&gt;</th><th scope=col>&lt;dbl&gt;</th></tr>\n",
       "</thead>\n",
       "<tbody>\n",
       "\t<tr><td>(Intercept)</td><td>1.7395581</td><td>0.604706104</td><td>  2.876700</td><td> 4.027075e-03</td></tr>\n",
       "\t<tr><td>act        </td><td>1.0365325</td><td>0.031981282</td><td> 32.410599</td><td>3.292363e-219</td></tr>\n",
       "\t<tr><td>gpa        </td><td>0.5840605</td><td>0.228712664</td><td>  2.553687</td><td> 1.067362e-02</td></tr>\n",
       "\t<tr><td>sat        </td><td>0.9990386</td><td>0.001154967</td><td>864.993101</td><td> 0.000000e+00</td></tr>\n",
       "</tbody>\n",
       "</table>\n"
      ],
      "text/latex": [
       "A tibble: 4 × 5\n",
       "\\begin{tabular}{lllll}\n",
       " term & estimate & std.error & statistic & p.value\\\\\n",
       " <chr> & <dbl> & <dbl> & <dbl> & <dbl>\\\\\n",
       "\\hline\n",
       "\t (Intercept) & 1.7395581 & 0.604706104 &   2.876700 &  4.027075e-03\\\\\n",
       "\t act         & 1.0365325 & 0.031981282 &  32.410599 & 3.292363e-219\\\\\n",
       "\t gpa         & 0.5840605 & 0.228712664 &   2.553687 &  1.067362e-02\\\\\n",
       "\t sat         & 0.9990386 & 0.001154967 & 864.993101 &  0.000000e+00\\\\\n",
       "\\end{tabular}\n"
      ],
      "text/markdown": [
       "\n",
       "A tibble: 4 × 5\n",
       "\n",
       "| term &lt;chr&gt; | estimate &lt;dbl&gt; | std.error &lt;dbl&gt; | statistic &lt;dbl&gt; | p.value &lt;dbl&gt; |\n",
       "|---|---|---|---|---|\n",
       "| (Intercept) | 1.7395581 | 0.604706104 |   2.876700 |  4.027075e-03 |\n",
       "| act         | 1.0365325 | 0.031981282 |  32.410599 | 3.292363e-219 |\n",
       "| gpa         | 0.5840605 | 0.228712664 |   2.553687 |  1.067362e-02 |\n",
       "| sat         | 0.9990386 | 0.001154967 | 864.993101 |  0.000000e+00 |\n",
       "\n"
      ],
      "text/plain": [
       "  term        estimate  std.error   statistic  p.value      \n",
       "1 (Intercept) 1.7395581 0.604706104   2.876700  4.027075e-03\n",
       "2 act         1.0365325 0.031981282  32.410599 3.292363e-219\n",
       "3 gpa         0.5840605 0.228712664   2.553687  1.067362e-02\n",
       "4 sat         0.9990386 0.001154967 864.993101  0.000000e+00"
      ]
     },
     "metadata": {},
     "output_type": "display_data"
    },
    {
     "data": {
      "text/html": [
       "<table class=\"dataframe\">\n",
       "<caption>A tibble: 4 × 5</caption>\n",
       "<thead>\n",
       "\t<tr><th scope=col>term</th><th scope=col>estimate</th><th scope=col>std.error</th><th scope=col>statistic</th><th scope=col>p.value</th></tr>\n",
       "\t<tr><th scope=col>&lt;chr&gt;</th><th scope=col>&lt;dbl&gt;</th><th scope=col>&lt;dbl&gt;</th><th scope=col>&lt;dbl&gt;</th><th scope=col>&lt;dbl&gt;</th></tr>\n",
       "</thead>\n",
       "<tbody>\n",
       "\t<tr><td>(Intercept)</td><td>0.7394096</td><td>0.549400326</td><td>  1.345849</td><td>1.783819e-01</td></tr>\n",
       "\t<tr><td>act        </td><td>1.0390601</td><td>0.057773432</td><td> 17.985086</td><td>3.356943e-71</td></tr>\n",
       "\t<tr><td>gpa        </td><td>0.7898908</td><td>0.228273886</td><td>  3.460277</td><td>5.418735e-04</td></tr>\n",
       "\t<tr><td>sat        </td><td>1.0001095</td><td>0.002327301</td><td>429.729395</td><td>0.000000e+00</td></tr>\n",
       "</tbody>\n",
       "</table>\n"
      ],
      "text/latex": [
       "A tibble: 4 × 5\n",
       "\\begin{tabular}{lllll}\n",
       " term & estimate & std.error & statistic & p.value\\\\\n",
       " <chr> & <dbl> & <dbl> & <dbl> & <dbl>\\\\\n",
       "\\hline\n",
       "\t (Intercept) & 0.7394096 & 0.549400326 &   1.345849 & 1.783819e-01\\\\\n",
       "\t act         & 1.0390601 & 0.057773432 &  17.985086 & 3.356943e-71\\\\\n",
       "\t gpa         & 0.7898908 & 0.228273886 &   3.460277 & 5.418735e-04\\\\\n",
       "\t sat         & 1.0001095 & 0.002327301 & 429.729395 & 0.000000e+00\\\\\n",
       "\\end{tabular}\n"
      ],
      "text/markdown": [
       "\n",
       "A tibble: 4 × 5\n",
       "\n",
       "| term &lt;chr&gt; | estimate &lt;dbl&gt; | std.error &lt;dbl&gt; | statistic &lt;dbl&gt; | p.value &lt;dbl&gt; |\n",
       "|---|---|---|---|---|\n",
       "| (Intercept) | 0.7394096 | 0.549400326 |   1.345849 | 1.783819e-01 |\n",
       "| act         | 1.0390601 | 0.057773432 |  17.985086 | 3.356943e-71 |\n",
       "| gpa         | 0.7898908 | 0.228273886 |   3.460277 | 5.418735e-04 |\n",
       "| sat         | 1.0001095 | 0.002327301 | 429.729395 | 0.000000e+00 |\n",
       "\n"
      ],
      "text/plain": [
       "  term        estimate  std.error   statistic  p.value     \n",
       "1 (Intercept) 0.7394096 0.549400326   1.345849 1.783819e-01\n",
       "2 act         1.0390601 0.057773432  17.985086 3.356943e-71\n",
       "3 gpa         0.7898908 0.228273886   3.460277 5.418735e-04\n",
       "4 sat         1.0001095 0.002327301 429.729395 0.000000e+00"
      ]
     },
     "metadata": {},
     "output_type": "display_data"
    }
   ],
   "source": [
    "broom::tidy(sim_lm)\n",
    "broom::tidy(sim_lm2)\n",
    "broom::tidy(sim_lm3)"
   ]
  },
  {
   "cell_type": "code",
   "execution_count": 46,
   "metadata": {},
   "outputs": [
    {
     "data": {
      "text/html": [
       "<table class=\"dataframe\">\n",
       "<caption>A data.frame: 6 × 12</caption>\n",
       "<thead>\n",
       "\t<tr><th></th><th scope=col>X.Intercept.</th><th scope=col>act_old</th><th scope=col>gpa_old</th><th scope=col>sat_old</th><th scope=col>level1_id</th><th scope=col>error</th><th scope=col>act</th><th scope=col>gpa</th><th scope=col>sat</th><th scope=col>fixed_outcome</th><th scope=col>random_effects</th><th scope=col>y</th></tr>\n",
       "\t<tr><th></th><th scope=col>&lt;dbl&gt;</th><th scope=col>&lt;dbl&gt;</th><th scope=col>&lt;dbl&gt;</th><th scope=col>&lt;dbl&gt;</th><th scope=col>&lt;int&gt;</th><th scope=col>&lt;dbl&gt;</th><th scope=col>&lt;dbl&gt;</th><th scope=col>&lt;dbl&gt;</th><th scope=col>&lt;dbl&gt;</th><th scope=col>&lt;dbl&gt;</th><th scope=col>&lt;dbl&gt;</th><th scope=col>&lt;dbl&gt;</th></tr>\n",
       "</thead>\n",
       "<tbody>\n",
       "\t<tr><th scope=row>1</th><td>1</td><td>20.71208</td><td>2.3151561</td><td>491.9592</td><td>1</td><td>  1.782571</td><td>19.79880</td><td>2.052707</td><td>482.1780</td><td>505.0295</td><td>0</td><td>506.8121</td></tr>\n",
       "\t<tr><th scope=row>2</th><td>1</td><td>25.51451</td><td>2.3068490</td><td>565.4787</td><td>2</td><td>  2.605566</td><td>15.11093</td><td>1.397471</td><td>362.1172</td><td>379.6256</td><td>0</td><td>382.2312</td></tr>\n",
       "\t<tr><th scope=row>3</th><td>1</td><td>20.18762</td><td>2.3870823</td><td>549.8151</td><td>3</td><td>-14.669732</td><td>20.45214</td><td>2.022497</td><td>495.2845</td><td>518.7591</td><td>0</td><td>504.0894</td></tr>\n",
       "\t<tr><th scope=row>4</th><td>1</td><td>15.61219</td><td>1.9207986</td><td>487.3058</td><td>4</td><td> 16.615445</td><td>24.16911</td><td>2.462412</td><td>609.7004</td><td>637.3319</td><td>0</td><td>653.9474</td></tr>\n",
       "\t<tr><th scope=row>5</th><td>1</td><td>20.64776</td><td>0.9965156</td><td>439.9581</td><td>5</td><td> 14.243003</td><td>17.74640</td><td>1.687754</td><td>483.8705</td><td>504.3047</td><td>0</td><td>518.5477</td></tr>\n",
       "\t<tr><th scope=row>6</th><td>1</td><td>18.27444</td><td>1.5515749</td><td>613.0509</td><td>6</td><td> 12.457967</td><td>21.02867</td><td>1.804536</td><td>543.1666</td><td>566.9998</td><td>0</td><td>579.4578</td></tr>\n",
       "</tbody>\n",
       "</table>\n"
      ],
      "text/latex": [
       "A data.frame: 6 × 12\n",
       "\\begin{tabular}{r|llllllllllll}\n",
       "  & X.Intercept. & act\\_old & gpa\\_old & sat\\_old & level1\\_id & error & act & gpa & sat & fixed\\_outcome & random\\_effects & y\\\\\n",
       "  & <dbl> & <dbl> & <dbl> & <dbl> & <int> & <dbl> & <dbl> & <dbl> & <dbl> & <dbl> & <dbl> & <dbl>\\\\\n",
       "\\hline\n",
       "\t1 & 1 & 20.71208 & 2.3151561 & 491.9592 & 1 &   1.782571 & 19.79880 & 2.052707 & 482.1780 & 505.0295 & 0 & 506.8121\\\\\n",
       "\t2 & 1 & 25.51451 & 2.3068490 & 565.4787 & 2 &   2.605566 & 15.11093 & 1.397471 & 362.1172 & 379.6256 & 0 & 382.2312\\\\\n",
       "\t3 & 1 & 20.18762 & 2.3870823 & 549.8151 & 3 & -14.669732 & 20.45214 & 2.022497 & 495.2845 & 518.7591 & 0 & 504.0894\\\\\n",
       "\t4 & 1 & 15.61219 & 1.9207986 & 487.3058 & 4 &  16.615445 & 24.16911 & 2.462412 & 609.7004 & 637.3319 & 0 & 653.9474\\\\\n",
       "\t5 & 1 & 20.64776 & 0.9965156 & 439.9581 & 5 &  14.243003 & 17.74640 & 1.687754 & 483.8705 & 504.3047 & 0 & 518.5477\\\\\n",
       "\t6 & 1 & 18.27444 & 1.5515749 & 613.0509 & 6 &  12.457967 & 21.02867 & 1.804536 & 543.1666 & 566.9998 & 0 & 579.4578\\\\\n",
       "\\end{tabular}\n"
      ],
      "text/markdown": [
       "\n",
       "A data.frame: 6 × 12\n",
       "\n",
       "| <!--/--> | X.Intercept. &lt;dbl&gt; | act_old &lt;dbl&gt; | gpa_old &lt;dbl&gt; | sat_old &lt;dbl&gt; | level1_id &lt;int&gt; | error &lt;dbl&gt; | act &lt;dbl&gt; | gpa &lt;dbl&gt; | sat &lt;dbl&gt; | fixed_outcome &lt;dbl&gt; | random_effects &lt;dbl&gt; | y &lt;dbl&gt; |\n",
       "|---|---|---|---|---|---|---|---|---|---|---|---|---|\n",
       "| 1 | 1 | 20.71208 | 2.3151561 | 491.9592 | 1 |   1.782571 | 19.79880 | 2.052707 | 482.1780 | 505.0295 | 0 | 506.8121 |\n",
       "| 2 | 1 | 25.51451 | 2.3068490 | 565.4787 | 2 |   2.605566 | 15.11093 | 1.397471 | 362.1172 | 379.6256 | 0 | 382.2312 |\n",
       "| 3 | 1 | 20.18762 | 2.3870823 | 549.8151 | 3 | -14.669732 | 20.45214 | 2.022497 | 495.2845 | 518.7591 | 0 | 504.0894 |\n",
       "| 4 | 1 | 15.61219 | 1.9207986 | 487.3058 | 4 |  16.615445 | 24.16911 | 2.462412 | 609.7004 | 637.3319 | 0 | 653.9474 |\n",
       "| 5 | 1 | 20.64776 | 0.9965156 | 439.9581 | 5 |  14.243003 | 17.74640 | 1.687754 | 483.8705 | 504.3047 | 0 | 518.5477 |\n",
       "| 6 | 1 | 18.27444 | 1.5515749 | 613.0509 | 6 |  12.457967 | 21.02867 | 1.804536 | 543.1666 | 566.9998 | 0 | 579.4578 |\n",
       "\n"
      ],
      "text/plain": [
       "  X.Intercept. act_old  gpa_old   sat_old  level1_id error      act     \n",
       "1 1            20.71208 2.3151561 491.9592 1           1.782571 19.79880\n",
       "2 1            25.51451 2.3068490 565.4787 2           2.605566 15.11093\n",
       "3 1            20.18762 2.3870823 549.8151 3         -14.669732 20.45214\n",
       "4 1            15.61219 1.9207986 487.3058 4          16.615445 24.16911\n",
       "5 1            20.64776 0.9965156 439.9581 5          14.243003 17.74640\n",
       "6 1            18.27444 1.5515749 613.0509 6          12.457967 21.02867\n",
       "  gpa      sat      fixed_outcome random_effects y       \n",
       "1 2.052707 482.1780 505.0295      0              506.8121\n",
       "2 1.397471 362.1172 379.6256      0              382.2312\n",
       "3 2.022497 495.2845 518.7591      0              504.0894\n",
       "4 2.462412 609.7004 637.3319      0              653.9474\n",
       "5 1.687754 483.8705 504.3047      0              518.5477\n",
       "6 1.804536 543.1666 566.9998      0              579.4578"
      ]
     },
     "metadata": {},
     "output_type": "display_data"
    }
   ],
   "source": [
    "library(simglm)\n",
    "\n",
    "sim_args <- list(formula = y ~ 1 + act + gpa + sat, \n",
    "                 fixed = list(act = list(var_type = 'continuous',\n",
    "                                         mean = 20, \n",
    "                                         sd = 4),\n",
    "                              gpa = list(var_type = 'continuous',\n",
    "                                         mean = 2, \n",
    "                                         sd = .5),\n",
    "                              sat = list(var_type = 'continuous',\n",
    "                                         mean = 500, \n",
    "                                         sd = 100)),\n",
    "                 correlate = list(fixed = data.frame(x = c('act', 'act', 'gpa'), \n",
    "                                                     y = c('gpa', 'sat', 'sat'), \n",
    "                                                     corr = c(0.9, 0.98, 0.85))),\n",
    "                error = list(variance = 100),\n",
    "                reg_weights = c(1, 1, 1, 1),\n",
    "                 sample_size = 10000)\n",
    "\n",
    "sim_data <- simulate_fixed(data = NULL, sim_args) %>%\n",
    "   simulate_error(sim_args) %>%\n",
    "   correlate_variables(sim_args) %>%\n",
    "   generate_response(sim_args)\n",
    "\n",
    "head(sim_data)"
   ]
  },
  {
   "cell_type": "code",
   "execution_count": 47,
   "metadata": {},
   "outputs": [
    {
     "data": {
      "text/html": [
       "<table class=\"dataframe\">\n",
       "<caption>A matrix: 4 × 4 of type dbl</caption>\n",
       "<thead>\n",
       "\t<tr><th></th><th scope=col>y</th><th scope=col>act</th><th scope=col>gpa</th><th scope=col>sat</th></tr>\n",
       "</thead>\n",
       "<tbody>\n",
       "\t<tr><th scope=row>y</th><td>1.0000000</td><td>0.9758796</td><td>0.8446465</td><td>0.9952441</td></tr>\n",
       "\t<tr><th scope=row>act</th><td>0.9758796</td><td>1.0000000</td><td>0.8978368</td><td>0.9790133</td></tr>\n",
       "\t<tr><th scope=row>gpa</th><td>0.8446465</td><td>0.8978368</td><td>1.0000000</td><td>0.8454233</td></tr>\n",
       "\t<tr><th scope=row>sat</th><td>0.9952441</td><td>0.9790133</td><td>0.8454233</td><td>1.0000000</td></tr>\n",
       "</tbody>\n",
       "</table>\n"
      ],
      "text/latex": [
       "A matrix: 4 × 4 of type dbl\n",
       "\\begin{tabular}{r|llll}\n",
       "  & y & act & gpa & sat\\\\\n",
       "\\hline\n",
       "\ty & 1.0000000 & 0.9758796 & 0.8446465 & 0.9952441\\\\\n",
       "\tact & 0.9758796 & 1.0000000 & 0.8978368 & 0.9790133\\\\\n",
       "\tgpa & 0.8446465 & 0.8978368 & 1.0000000 & 0.8454233\\\\\n",
       "\tsat & 0.9952441 & 0.9790133 & 0.8454233 & 1.0000000\\\\\n",
       "\\end{tabular}\n"
      ],
      "text/markdown": [
       "\n",
       "A matrix: 4 × 4 of type dbl\n",
       "\n",
       "| <!--/--> | y | act | gpa | sat |\n",
       "|---|---|---|---|---|\n",
       "| y | 1.0000000 | 0.9758796 | 0.8446465 | 0.9952441 |\n",
       "| act | 0.9758796 | 1.0000000 | 0.8978368 | 0.9790133 |\n",
       "| gpa | 0.8446465 | 0.8978368 | 1.0000000 | 0.8454233 |\n",
       "| sat | 0.9952441 | 0.9790133 | 0.8454233 | 1.0000000 |\n",
       "\n"
      ],
      "text/plain": [
       "    y         act       gpa       sat      \n",
       "y   1.0000000 0.9758796 0.8446465 0.9952441\n",
       "act 0.9758796 1.0000000 0.8978368 0.9790133\n",
       "gpa 0.8446465 0.8978368 1.0000000 0.8454233\n",
       "sat 0.9952441 0.9790133 0.8454233 1.0000000"
      ]
     },
     "metadata": {},
     "output_type": "display_data"
    }
   ],
   "source": [
    "cor(sim_data[c('y', 'act', 'gpa', 'sat')])"
   ]
  },
  {
   "cell_type": "code",
   "execution_count": 48,
   "metadata": {},
   "outputs": [
    {
     "data": {
      "text/html": [
       "<style>\n",
       ".dl-inline {width: auto; margin:0; padding: 0}\n",
       ".dl-inline>dt, .dl-inline>dd {float: none; width: auto; display: inline-block}\n",
       ".dl-inline>dt::after {content: \":\\0020\"; padding-right: .5ex}\n",
       ".dl-inline>dt:not(:first-of-type) {padding-left: .5ex}\n",
       "</style><dl class=dl-inline><dt>act</dt><dd>41.187899399239</dd><dt>gpa</dt><dd>5.99684945270673</dd><dt>sat</dt><dd>27.9951793590544</dd></dl>\n"
      ],
      "text/latex": [
       "\\begin{description*}\n",
       "\\item[act] 41.187899399239\n",
       "\\item[gpa] 5.99684945270673\n",
       "\\item[sat] 27.9951793590544\n",
       "\\end{description*}\n"
      ],
      "text/markdown": [
       "act\n",
       ":   41.187899399239gpa\n",
       ":   5.99684945270673sat\n",
       ":   27.9951793590544\n",
       "\n"
      ],
      "text/plain": [
       "      act       gpa       sat \n",
       "41.187899  5.996849 27.995179 "
      ]
     },
     "metadata": {},
     "output_type": "display_data"
    }
   ],
   "source": [
    "sim_lm4 <- lm(y ~ 1 + act + gpa + sat, data = sim_data)\n",
    "vif(sim_lm4)"
   ]
  },
  {
   "cell_type": "code",
   "execution_count": 49,
   "metadata": {},
   "outputs": [
    {
     "data": {
      "text/html": [
       "<table class=\"dataframe\">\n",
       "<caption>A tibble: 4 × 5</caption>\n",
       "<thead>\n",
       "\t<tr><th scope=col>term</th><th scope=col>estimate</th><th scope=col>std.error</th><th scope=col>statistic</th><th scope=col>p.value</th></tr>\n",
       "\t<tr><th scope=col>&lt;chr&gt;</th><th scope=col>&lt;dbl&gt;</th><th scope=col>&lt;dbl&gt;</th><th scope=col>&lt;dbl&gt;</th><th scope=col>&lt;dbl&gt;</th></tr>\n",
       "</thead>\n",
       "<tbody>\n",
       "\t<tr><td>(Intercept)</td><td>-0.1293016</td><td>0.823839326</td><td>  -0.1569501</td><td> 8.752874e-01</td></tr>\n",
       "\t<tr><td>act        </td><td> 0.9867961</td><td>0.025135869</td><td>  39.2584824</td><td>1.222306e-313</td></tr>\n",
       "\t<tr><td>gpa        </td><td> 1.2446553</td><td>0.199482665</td><td>   6.2394159</td><td> 4.570085e-10</td></tr>\n",
       "\t<tr><td>sat        </td><td> 1.0016156</td><td>0.001001545</td><td>1000.0709711</td><td> 0.000000e+00</td></tr>\n",
       "</tbody>\n",
       "</table>\n"
      ],
      "text/latex": [
       "A tibble: 4 × 5\n",
       "\\begin{tabular}{lllll}\n",
       " term & estimate & std.error & statistic & p.value\\\\\n",
       " <chr> & <dbl> & <dbl> & <dbl> & <dbl>\\\\\n",
       "\\hline\n",
       "\t (Intercept) & -0.1293016 & 0.823839326 &   -0.1569501 &  8.752874e-01\\\\\n",
       "\t act         &  0.9867961 & 0.025135869 &   39.2584824 & 1.222306e-313\\\\\n",
       "\t gpa         &  1.2446553 & 0.199482665 &    6.2394159 &  4.570085e-10\\\\\n",
       "\t sat         &  1.0016156 & 0.001001545 & 1000.0709711 &  0.000000e+00\\\\\n",
       "\\end{tabular}\n"
      ],
      "text/markdown": [
       "\n",
       "A tibble: 4 × 5\n",
       "\n",
       "| term &lt;chr&gt; | estimate &lt;dbl&gt; | std.error &lt;dbl&gt; | statistic &lt;dbl&gt; | p.value &lt;dbl&gt; |\n",
       "|---|---|---|---|---|\n",
       "| (Intercept) | -0.1293016 | 0.823839326 |   -0.1569501 |  8.752874e-01 |\n",
       "| act         |  0.9867961 | 0.025135869 |   39.2584824 | 1.222306e-313 |\n",
       "| gpa         |  1.2446553 | 0.199482665 |    6.2394159 |  4.570085e-10 |\n",
       "| sat         |  1.0016156 | 0.001001545 | 1000.0709711 |  0.000000e+00 |\n",
       "\n"
      ],
      "text/plain": [
       "  term        estimate   std.error   statistic    p.value      \n",
       "1 (Intercept) -0.1293016 0.823839326   -0.1569501  8.752874e-01\n",
       "2 act          0.9867961 0.025135869   39.2584824 1.222306e-313\n",
       "3 gpa          1.2446553 0.199482665    6.2394159  4.570085e-10\n",
       "4 sat          1.0016156 0.001001545 1000.0709711  0.000000e+00"
      ]
     },
     "metadata": {},
     "output_type": "display_data"
    },
    {
     "data": {
      "text/html": [
       "<table class=\"dataframe\">\n",
       "<caption>A tibble: 4 × 5</caption>\n",
       "<thead>\n",
       "\t<tr><th scope=col>term</th><th scope=col>estimate</th><th scope=col>std.error</th><th scope=col>statistic</th><th scope=col>p.value</th></tr>\n",
       "\t<tr><th scope=col>&lt;chr&gt;</th><th scope=col>&lt;dbl&gt;</th><th scope=col>&lt;dbl&gt;</th><th scope=col>&lt;dbl&gt;</th><th scope=col>&lt;dbl&gt;</th></tr>\n",
       "</thead>\n",
       "<tbody>\n",
       "\t<tr><td>(Intercept)</td><td>1.7395581</td><td>0.604706104</td><td>  2.876700</td><td> 4.027075e-03</td></tr>\n",
       "\t<tr><td>act        </td><td>1.0365325</td><td>0.031981282</td><td> 32.410599</td><td>3.292363e-219</td></tr>\n",
       "\t<tr><td>gpa        </td><td>0.5840605</td><td>0.228712664</td><td>  2.553687</td><td> 1.067362e-02</td></tr>\n",
       "\t<tr><td>sat        </td><td>0.9990386</td><td>0.001154967</td><td>864.993101</td><td> 0.000000e+00</td></tr>\n",
       "</tbody>\n",
       "</table>\n"
      ],
      "text/latex": [
       "A tibble: 4 × 5\n",
       "\\begin{tabular}{lllll}\n",
       " term & estimate & std.error & statistic & p.value\\\\\n",
       " <chr> & <dbl> & <dbl> & <dbl> & <dbl>\\\\\n",
       "\\hline\n",
       "\t (Intercept) & 1.7395581 & 0.604706104 &   2.876700 &  4.027075e-03\\\\\n",
       "\t act         & 1.0365325 & 0.031981282 &  32.410599 & 3.292363e-219\\\\\n",
       "\t gpa         & 0.5840605 & 0.228712664 &   2.553687 &  1.067362e-02\\\\\n",
       "\t sat         & 0.9990386 & 0.001154967 & 864.993101 &  0.000000e+00\\\\\n",
       "\\end{tabular}\n"
      ],
      "text/markdown": [
       "\n",
       "A tibble: 4 × 5\n",
       "\n",
       "| term &lt;chr&gt; | estimate &lt;dbl&gt; | std.error &lt;dbl&gt; | statistic &lt;dbl&gt; | p.value &lt;dbl&gt; |\n",
       "|---|---|---|---|---|\n",
       "| (Intercept) | 1.7395581 | 0.604706104 |   2.876700 |  4.027075e-03 |\n",
       "| act         | 1.0365325 | 0.031981282 |  32.410599 | 3.292363e-219 |\n",
       "| gpa         | 0.5840605 | 0.228712664 |   2.553687 |  1.067362e-02 |\n",
       "| sat         | 0.9990386 | 0.001154967 | 864.993101 |  0.000000e+00 |\n",
       "\n"
      ],
      "text/plain": [
       "  term        estimate  std.error   statistic  p.value      \n",
       "1 (Intercept) 1.7395581 0.604706104   2.876700  4.027075e-03\n",
       "2 act         1.0365325 0.031981282  32.410599 3.292363e-219\n",
       "3 gpa         0.5840605 0.228712664   2.553687  1.067362e-02\n",
       "4 sat         0.9990386 0.001154967 864.993101  0.000000e+00"
      ]
     },
     "metadata": {},
     "output_type": "display_data"
    },
    {
     "data": {
      "text/html": [
       "<table class=\"dataframe\">\n",
       "<caption>A tibble: 4 × 5</caption>\n",
       "<thead>\n",
       "\t<tr><th scope=col>term</th><th scope=col>estimate</th><th scope=col>std.error</th><th scope=col>statistic</th><th scope=col>p.value</th></tr>\n",
       "\t<tr><th scope=col>&lt;chr&gt;</th><th scope=col>&lt;dbl&gt;</th><th scope=col>&lt;dbl&gt;</th><th scope=col>&lt;dbl&gt;</th><th scope=col>&lt;dbl&gt;</th></tr>\n",
       "</thead>\n",
       "<tbody>\n",
       "\t<tr><td>(Intercept)</td><td>0.7394096</td><td>0.549400326</td><td>  1.345849</td><td>1.783819e-01</td></tr>\n",
       "\t<tr><td>act        </td><td>1.0390601</td><td>0.057773432</td><td> 17.985086</td><td>3.356943e-71</td></tr>\n",
       "\t<tr><td>gpa        </td><td>0.7898908</td><td>0.228273886</td><td>  3.460277</td><td>5.418735e-04</td></tr>\n",
       "\t<tr><td>sat        </td><td>1.0001095</td><td>0.002327301</td><td>429.729395</td><td>0.000000e+00</td></tr>\n",
       "</tbody>\n",
       "</table>\n"
      ],
      "text/latex": [
       "A tibble: 4 × 5\n",
       "\\begin{tabular}{lllll}\n",
       " term & estimate & std.error & statistic & p.value\\\\\n",
       " <chr> & <dbl> & <dbl> & <dbl> & <dbl>\\\\\n",
       "\\hline\n",
       "\t (Intercept) & 0.7394096 & 0.549400326 &   1.345849 & 1.783819e-01\\\\\n",
       "\t act         & 1.0390601 & 0.057773432 &  17.985086 & 3.356943e-71\\\\\n",
       "\t gpa         & 0.7898908 & 0.228273886 &   3.460277 & 5.418735e-04\\\\\n",
       "\t sat         & 1.0001095 & 0.002327301 & 429.729395 & 0.000000e+00\\\\\n",
       "\\end{tabular}\n"
      ],
      "text/markdown": [
       "\n",
       "A tibble: 4 × 5\n",
       "\n",
       "| term &lt;chr&gt; | estimate &lt;dbl&gt; | std.error &lt;dbl&gt; | statistic &lt;dbl&gt; | p.value &lt;dbl&gt; |\n",
       "|---|---|---|---|---|\n",
       "| (Intercept) | 0.7394096 | 0.549400326 |   1.345849 | 1.783819e-01 |\n",
       "| act         | 1.0390601 | 0.057773432 |  17.985086 | 3.356943e-71 |\n",
       "| gpa         | 0.7898908 | 0.228273886 |   3.460277 | 5.418735e-04 |\n",
       "| sat         | 1.0001095 | 0.002327301 | 429.729395 | 0.000000e+00 |\n",
       "\n"
      ],
      "text/plain": [
       "  term        estimate  std.error   statistic  p.value     \n",
       "1 (Intercept) 0.7394096 0.549400326   1.345849 1.783819e-01\n",
       "2 act         1.0390601 0.057773432  17.985086 3.356943e-71\n",
       "3 gpa         0.7898908 0.228273886   3.460277 5.418735e-04\n",
       "4 sat         1.0001095 0.002327301 429.729395 0.000000e+00"
      ]
     },
     "metadata": {},
     "output_type": "display_data"
    },
    {
     "data": {
      "text/html": [
       "<table class=\"dataframe\">\n",
       "<caption>A tibble: 4 × 5</caption>\n",
       "<thead>\n",
       "\t<tr><th scope=col>term</th><th scope=col>estimate</th><th scope=col>std.error</th><th scope=col>statistic</th><th scope=col>p.value</th></tr>\n",
       "\t<tr><th scope=col>&lt;chr&gt;</th><th scope=col>&lt;dbl&gt;</th><th scope=col>&lt;dbl&gt;</th><th scope=col>&lt;dbl&gt;</th><th scope=col>&lt;dbl&gt;</th></tr>\n",
       "</thead>\n",
       "<tbody>\n",
       "\t<tr><td>(Intercept)</td><td>1.5671212</td><td>0.52860667</td><td>  2.964626</td><td>3.037663e-03</td></tr>\n",
       "\t<tr><td>act        </td><td>0.7816337</td><td>0.16325860</td><td>  4.787703</td><td>1.711219e-06</td></tr>\n",
       "\t<tr><td>gpa        </td><td>0.8451437</td><td>0.49857105</td><td>  1.695132</td><td>9.008155e-02</td></tr>\n",
       "\t<tr><td>sat        </td><td>1.0084804</td><td>0.00538413</td><td>187.306099</td><td>0.000000e+00</td></tr>\n",
       "</tbody>\n",
       "</table>\n"
      ],
      "text/latex": [
       "A tibble: 4 × 5\n",
       "\\begin{tabular}{lllll}\n",
       " term & estimate & std.error & statistic & p.value\\\\\n",
       " <chr> & <dbl> & <dbl> & <dbl> & <dbl>\\\\\n",
       "\\hline\n",
       "\t (Intercept) & 1.5671212 & 0.52860667 &   2.964626 & 3.037663e-03\\\\\n",
       "\t act         & 0.7816337 & 0.16325860 &   4.787703 & 1.711219e-06\\\\\n",
       "\t gpa         & 0.8451437 & 0.49857105 &   1.695132 & 9.008155e-02\\\\\n",
       "\t sat         & 1.0084804 & 0.00538413 & 187.306099 & 0.000000e+00\\\\\n",
       "\\end{tabular}\n"
      ],
      "text/markdown": [
       "\n",
       "A tibble: 4 × 5\n",
       "\n",
       "| term &lt;chr&gt; | estimate &lt;dbl&gt; | std.error &lt;dbl&gt; | statistic &lt;dbl&gt; | p.value &lt;dbl&gt; |\n",
       "|---|---|---|---|---|\n",
       "| (Intercept) | 1.5671212 | 0.52860667 |   2.964626 | 3.037663e-03 |\n",
       "| act         | 0.7816337 | 0.16325860 |   4.787703 | 1.711219e-06 |\n",
       "| gpa         | 0.8451437 | 0.49857105 |   1.695132 | 9.008155e-02 |\n",
       "| sat         | 1.0084804 | 0.00538413 | 187.306099 | 0.000000e+00 |\n",
       "\n"
      ],
      "text/plain": [
       "  term        estimate  std.error  statistic  p.value     \n",
       "1 (Intercept) 1.5671212 0.52860667   2.964626 3.037663e-03\n",
       "2 act         0.7816337 0.16325860   4.787703 1.711219e-06\n",
       "3 gpa         0.8451437 0.49857105   1.695132 9.008155e-02\n",
       "4 sat         1.0084804 0.00538413 187.306099 0.000000e+00"
      ]
     },
     "metadata": {},
     "output_type": "display_data"
    }
   ],
   "source": [
    "broom::tidy(sim_lm)\n",
    "broom::tidy(sim_lm2)\n",
    "broom::tidy(sim_lm3)\n",
    "broom::tidy(sim_lm4)"
   ]
  }
 ],
 "metadata": {
  "kernelspec": {
   "display_name": "R",
   "language": "R",
   "name": "ir"
  },
  "language_info": {
   "codemirror_mode": "r",
   "file_extension": ".r",
   "mimetype": "text/x-r-source",
   "name": "R",
   "pygments_lexer": "r",
   "version": "4.1.0"
  },
  "orig_nbformat": 4
 },
 "nbformat": 4,
 "nbformat_minor": 2
}
