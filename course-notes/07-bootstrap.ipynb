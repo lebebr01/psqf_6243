{
 "cells": [
  {
   "cell_type": "markdown",
   "metadata": {},
   "source": [
    "# Bootstrap\n",
    "\n",
    "The bootstrap is an alternative to the NHST framework already discussed. The primary benefit of the bootstrap is that it comes with fewer assumptions then the NHST framework. The only real assumption when doing a bootstrap approach is that the sample is obtained randomly from the population, an assumption already made in the NHST framework. The primary drawback of the bootstrap approach is that it is computationally expensive, therefore, it can take time to peform the procedure. \n",
    "\n",
    "## Bootstrapping Steps\n",
    "\n",
    "The following are the steps when performing a bootstrap. \n",
    "\n",
    "1. Treat the sample data as the population.\n",
    "2. Resample, with replacement, from the sample data, ensuring the new sample is the same size as the original. \n",
    "3. Estimate the model using the resampled data from step 2. \n",
    "4. Repeat steps 2 and 3 many many times (eg, 10,000 or more). \n",
    "5. Visualize distribution of effect of interest\n",
    "\n",
    "## Resampling with replacement\n",
    "\n",
    "What is meant by sampling with replacement? Let's do an example."
   ]
  },
  {
   "cell_type": "code",
   "execution_count": null,
   "metadata": {
    "vscode": {
     "languageId": "r"
    }
   },
   "outputs": [],
   "source": [
    "library(tidyverse)\n",
    "\n",
    "fruit <- data.frame(name = c('watermelon', 'apple', 'orange', 'kumquat', 'grapes', 'canteloupe', 'kiwi', 'banana')) |>\n",
    "    mutate(obs_num = 1:n())\n",
    "\n",
    "fruit"
   ]
  },
  {
   "cell_type": "code",
   "execution_count": null,
   "metadata": {
    "vscode": {
     "languageId": "r"
    }
   },
   "outputs": [],
   "source": [
    "slice_sample(fruit, n = nrow(fruit), replace = FALSE)"
   ]
  },
  {
   "cell_type": "code",
   "execution_count": null,
   "metadata": {
    "vscode": {
     "languageId": "r"
    }
   },
   "outputs": [],
   "source": [
    "slice_sample(fruit, n = nrow(fruit), replace = TRUE)"
   ]
  },
  {
   "cell_type": "markdown",
   "metadata": {},
   "source": [
    "## More practical example\n",
    "\n",
    "Let's load some data to do a more practical example. The following data come from a [TIMSS](https://nces.ed.gov/timss/) on science achievement. The data provided is a subset of the available data and is not intended to be representative. Below is a short description of the data. Please don’t hesitate to send any data related questions, happy to provide additional help on interpreting the data appropriately.\n",
    "\n",
    "+ **IDSTUD**: A unique student ID \n",
    "+ **ITBIRTHM**: The birth month of the student \n",
    "+ **ITBIRTHY**: The birth year of the student \n",
    "+ **ITSEX**: The birth sex of the student \n",
    "+ **ASDAGE**: The age of the student (at time of test) \n",
    "+ **ASSSCI01**: Overall science scale score \n",
    "+ **ASSEAR01**: Earth science scale score \n",
    "+ **ASSLIF01**: Life science scale score \n",
    "+ **ASSPHY01**: Physics scale score \n",
    "+ **ASSKNO01**: Science knowing scale score \n",
    "+ **ASSAPP01**: Science applying scale score \n",
    "+ **ASSREA01**: Science reasoning scale score "
   ]
  },
  {
   "cell_type": "code",
   "execution_count": null,
   "metadata": {
    "vscode": {
     "languageId": "r"
    }
   },
   "outputs": [],
   "source": [
    "library(tidyverse)\n",
    "\n",
    "timss <- readr::read_csv('https://raw.githubusercontent.com/lebebr01/psqf_6243/main/data/timss_grade4_science.csv') |> \n",
    "   filter(ASDAGE < 15)\n",
    "\n",
    "head(timss)"
   ]
  },
  {
   "cell_type": "markdown",
   "metadata": {},
   "source": [
    "## Two Guiding Questions\n",
    "\n",
    "1. Is the age of a student related to their overall science scale score? \n",
    "2. Is the life science scale score related to the overall science scale score?"
   ]
  },
  {
   "cell_type": "markdown",
   "metadata": {},
   "source": [
    "## Bivariate exploration\n",
    "\n",
    "It is important to explore relationships bivariately before going to the model phase. To do this, fill in the outcome of interest in place of \"%%\" below and fill in the appropriate predictor in place of \"^^\". You may also want to fill in an appropriate axis labels in place of \"@@\" below. \n",
    "\n",
    "+ Summarize the bivariate association"
   ]
  },
  {
   "cell_type": "code",
   "execution_count": null,
   "metadata": {
    "vscode": {
     "languageId": "r"
    }
   },
   "outputs": [],
   "source": [
    "library(ggformula)\n",
    "\n",
    "theme_set(theme_bw(base_size = 18))\n",
    "\n",
    "gf_point(%% ~ ^^, data = timss, size = 4) |> \n",
    "  gf_smooth(method = 'lm', size = 1.5) |>\n",
    "  gf_smooth(method = 'loess', size = 1.5, color = 'green') |>\n",
    "  gf_labs(x = \"@@\",\n",
    "          y = \"@@\")"
   ]
  },
  {
   "cell_type": "markdown",
   "metadata": {},
   "source": [
    "## Estimate Parameters\n",
    "\n",
    "To do this, fill in the outcome of interest in place of \"%%\" below and fill in the appropriate predictor in place of \"^^\". \n",
    "\n",
    "+ Interpret the following parameter estimates in the context of the current problem. (ie., what do these parameter estimates mean?)"
   ]
  },
  {
   "cell_type": "code",
   "execution_count": null,
   "metadata": {
    "vscode": {
     "languageId": "r"
    }
   },
   "outputs": [],
   "source": [
    "timss_model <- lm(%% ~ ^^, data = timss)\n",
    "\n",
    "summary(timss_model)\n",
    "confint(timss_model)"
   ]
  },
  {
   "cell_type": "markdown",
   "metadata": {},
   "source": [
    "## Resample these data\n",
    "\n",
    "For the astronauts data, to resample, a similar idea can be made. Essentially, we are treating these data as a random sample of some population of space missions. We again, would resample, with replacement, which means that multiple missions would likely show up in the resampling procedure. "
   ]
  },
  {
   "cell_type": "code",
   "execution_count": null,
   "metadata": {
    "vscode": {
     "languageId": "r"
    }
   },
   "outputs": [],
   "source": [
    "slice_sample(timss, n = nrow(timss), replace = TRUE) |> \n",
    "  count(IDSTUD)"
   ]
  },
  {
   "cell_type": "code",
   "execution_count": null,
   "metadata": {
    "vscode": {
     "languageId": "r"
    }
   },
   "outputs": [],
   "source": [
    "resamp_lm <- slice_sample(timss, n = nrow(timss), replace = TRUE) |> \n",
    "  lm(%% ~ ^^, data = .)\n",
    "\n",
    "summary(resamp_lm)\n",
    "confint(resamp_lm)"
   ]
  },
  {
   "cell_type": "markdown",
   "metadata": {},
   "source": [
    "### Questions to consider\n",
    "\n",
    "1. Do the parameter estimates differ from before? Why or why not? \n",
    "2. Would you come to substantially different conclusions from the original analysis? Why or why not?"
   ]
  },
  {
   "cell_type": "markdown",
   "metadata": {},
   "source": [
    "Let's now repeat this a bunch of times. "
   ]
  },
  {
   "cell_type": "code",
   "execution_count": null,
   "metadata": {
    "vscode": {
     "languageId": "r"
    }
   },
   "outputs": [],
   "source": [
    "set.seed(2022)\n",
    "\n",
    "resample_timss <- function(data, model_equation) {\n",
    "  timss_resample <- slice_sample(data, n = nrow(data), replace = TRUE)\n",
    "\n",
    "  \n",
    "  lm(model_equation, data = timss_resample) |>\n",
    "    coef()\n",
    "}"
   ]
  },
  {
   "cell_type": "markdown",
   "metadata": {},
   "source": [
    "Run this function a bunch of times manually, what happens to the estimates? Why is this happening? "
   ]
  },
  {
   "cell_type": "code",
   "execution_count": null,
   "metadata": {
    "vscode": {
     "languageId": "r"
    }
   },
   "outputs": [],
   "source": [
    "resample_timss(data = timss, model_equation = %% ~ ^^)"
   ]
  },
  {
   "cell_type": "markdown",
   "metadata": {},
   "source": [
    "## Make sure future.apply is installed\n",
    "\n",
    "The following code chunk makes sure the future.apply function is installed for parallel processing in R. If you get an error, you can uncomment (delete the `#` symbol) in the first line of code to (hopefully) install the package yourself."
   ]
  },
  {
   "cell_type": "code",
   "execution_count": null,
   "metadata": {
    "vscode": {
     "languageId": "r"
    }
   },
   "outputs": [],
   "source": [
    "# install.packages(\"future.apply\")\n",
    "library(future.apply)\n",
    "\n",
    "plan(multisession)"
   ]
  },
  {
   "cell_type": "markdown",
   "metadata": {},
   "source": [
    "## Replicate\n",
    "\n",
    "The following code replicates the analysis many times. Pick an initial value for N and fill in the model equation to match your code above. I will ask you to change this N value later."
   ]
  },
  {
   "cell_type": "code",
   "execution_count": null,
   "metadata": {
    "vscode": {
     "languageId": "r"
    }
   },
   "outputs": [],
   "source": [
    "timss_coef <- future.apply::future_replicate(N, resample_timss(data = timss, \n",
    "                        model_equation = %% ~ ^^), simplify = FALSE) |>\n",
    "                        dplyr::bind_rows() |> \n",
    "                        tidyr::pivot_longer(cols = everything())\n",
    "\n",
    "head(timss_coef)"
   ]
  },
  {
   "cell_type": "markdown",
   "metadata": {},
   "source": [
    "## Visualize results\n",
    "\n",
    "The following code visualizes the results of the analysis above. Explore the following questions. \n",
    "\n",
    "1. What does this distribution show/represent? \n",
    "2. What are key features of this distribution? \n",
    "3. How do these values compare to the original linear regression results? \n",
    "    + Are there comparable statistics here compared to those?"
   ]
  },
  {
   "cell_type": "code",
   "execution_count": null,
   "metadata": {
    "vscode": {
     "languageId": "r"
    }
   },
   "outputs": [],
   "source": [
    "gf_density(~ value, data = timss_coef) |>\n",
    "  gf_facet_wrap(~ name, scales = 'free') |>\n",
    "  gf_labs(x = \"Regression Estimates\")"
   ]
  },
  {
   "cell_type": "markdown",
   "metadata": {},
   "source": [
    "## Change the N value\n",
    "\n",
    "Now, change the N value for the replicate step (you can either add a new cell to copy/paste the code or just change it in the code above). \n",
    "\n",
    "+ What happens to the resulting figure when the N increases?\n",
    "+ What value for N seems to be reasonable? Why?"
   ]
  }
 ],
 "metadata": {
  "kernelspec": {
   "display_name": "R",
   "language": "R",
   "name": "ir"
  },
  "language_info": {
   "codemirror_mode": "r",
   "file_extension": ".r",
   "mimetype": "text/x-r-source",
   "name": "R",
   "pygments_lexer": "r",
   "version": "4.2.0"
  },
  "orig_nbformat": 4
 },
 "nbformat": 4,
 "nbformat_minor": 2
}
