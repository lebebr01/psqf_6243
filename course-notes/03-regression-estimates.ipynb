{
 "cells": [
  {
   "cell_type": "markdown",
   "metadata": {},
   "source": [
    "# Understanding Regression Parameters\n",
    "\n",
    "This section of notes aims to dig a bit more into what the simple linear regression (ie., regression with a single continuous covariate/attribute) parameter estimates mean. We will consider the estimation formulas in part of this to gain a sense of how these can be computed. \n",
    "\n",
    "## New Example Data\n",
    "The new data for this section of notes will explore data from the [Environmental Protection Agency on Air Quality](https://www.epa.gov/outdoor-air-quality-data) collected for the state of Iowa in 2021. The data are daily values for PM 2.5 particulates. The attributes included in the data are shown below with a short description.\n",
    "\n",
    "| Variable | Description | \n",
    "|:---------|:------------|\n",
    "| date      | Date of observation |\n",
    "| id | Site ID |\n",
    "| poc | Parameter Occurrence Code (POC) |\n",
    "| pm2.5 | Average daily pm 2.5 particulate value, in (ug/m3; micrograms per meter cubed) |\n",
    "| daily_aqi | Average air quality index |\n",
    "| site_name | Site Name |\n",
    "| aqs_parameter_desc | Text Description of Observation |\n",
    "| cbsa_code | Core Based Statistical Area (CBSA) ID |\n",
    "| cbsa_name | CBSA Name |\n",
    "| county | County in Iowa |\n",
    "| avg_wind | Average daily wind speed (in knots) | \n",
    "| max_wind | Maximum daily wind speed (in knots) | \n",
    "| max_wind_hours | Time of maximum daily wind speed |\n",
    "\n",
    "\n",
    "### Guiding Question\n",
    "How is average daily wind speed related to the daily air quality index?\n",
    "\n",
    "## Bivariate Figure\n",
    "\n",
    "Note, below I do a bit of post-processing to combine data from different POC values within a single CBSA."
   ]
  },
  {
   "cell_type": "code",
   "execution_count": null,
   "metadata": {
    "vscode": {
     "languageId": "r"
    }
   },
   "outputs": [],
   "source": [
    "library(tidyverse)\n",
    "library(ggformula)\n",
    "library(mosaic)\n",
    "\n",
    "theme_set(theme_bw(base_size = 18))\n",
    "\n",
    "airquality <- readr::read_csv(\"https://raw.githubusercontent.com/lebebr01/psqf_6243/main/data/iowa_air_quality_2021.csv\")\n",
    "wind <- readr::read_csv(\"https://raw.githubusercontent.com/lebebr01/psqf_6243/main/data/daily_WIND_2021-iowa.csv\")\n",
    "\n",
    "airquality <- airquality %>%\n",
    "   left_join(wind, by = c('cbsa_name', 'date')) %>% \n",
    "   drop_na()"
   ]
  },
  {
   "cell_type": "code",
   "execution_count": null,
   "metadata": {
    "vscode": {
     "languageId": "r"
    }
   },
   "outputs": [],
   "source": [
    "head(airquality)\n",
    "dim(airquality)"
   ]
  },
  {
   "cell_type": "code",
   "execution_count": null,
   "metadata": {
    "vscode": {
     "languageId": "r"
    }
   },
   "outputs": [],
   "source": [
    "gf_point(daily_aqi ~ avg_wind, data = airquality, size = 4, alpha = .15) %>%\n",
    "  gf_labs(x = \"Average daily wind speed (in knots)\",\n",
    "          y = \"Daily Air Quality\") %>%\n",
    "  gf_smooth() %>%\n",
    "  gf_smooth(method = 'lm', color = 'lightblue', linetype = 2)\n"
   ]
  },
  {
   "cell_type": "code",
   "execution_count": null,
   "metadata": {
    "vscode": {
     "languageId": "r"
    }
   },
   "outputs": [],
   "source": [
    "cor(daily_aqi ~ avg_wind, data = airquality) |> round(3)"
   ]
  },
  {
   "cell_type": "code",
   "execution_count": null,
   "metadata": {
    "vscode": {
     "languageId": "r"
    }
   },
   "outputs": [],
   "source": [
    "air_lm <- lm(daily_aqi ~ avg_wind, data = airquality)\n",
    "coef(air_lm) |> round(3)\n",
    "summary(air_lm)$r.square |> round(3)\n",
    "summary(air_lm)$sigma |> round(3)"
   ]
  },
  {
   "cell_type": "markdown",
   "metadata": {},
   "source": [
    "### Interpreting these estimates\n",
    "\n",
    "What do these parameter estimates mean in this context?\n",
    "\n",
    "**Intercept:** This is the model implied ______ when the ________ equals 0.   \n",
    "**Slope:** For each 1 unit change in ____ there is a -2.2 unit decrease in ___.   \n",
    "**R-Square:** The _____ in ____ is explained by ____.    \n",
    "**Sigma:** The _____ distance each point is from ____."
   ]
  },
  {
   "cell_type": "markdown",
   "metadata": {},
   "source": [
    "## Centering predictors\n",
    "\n",
    "There are times when centering of predictors can be helpful for interpretation of the model parameters. This can be helpful when 0 is not a practically useful characteristic of the attribute or for more specific tests of certain elements of the X attribute. \n",
    "\n",
    "### Mean Centering\n",
    "\n",
    "Mean centering is where the mean of the attribute is subtracted from each value. This is a linear transformation where each data point is subtracted by a constant, the mean. This means that the distance between points do not change."
   ]
  },
  {
   "cell_type": "code",
   "execution_count": null,
   "metadata": {
    "vscode": {
     "languageId": "r"
    }
   },
   "outputs": [],
   "source": [
    "airquality <- airquality %>%\n",
    "  mutate(avg_wind_mc = avg_wind - mean(avg_wind),\n",
    "         avg_wind_maxc = avg_wind - max(avg_wind),\n",
    "         avg_wind_10 = avg_wind - 10)\n",
    "\n",
    "gf_point(daily_aqi ~ avg_wind_mc, data = airquality, size = 4, alpha = .15) %>%\n",
    "  gf_labs(x = \"Average daily wind speed (in knots)\",\n",
    "          y = \"Daily Air Quality\") %>%\n",
    "  gf_smooth() %>%\n",
    "  gf_smooth(method = 'lm', color = 'lightblue', linetype = 2)"
   ]
  },
  {
   "cell_type": "code",
   "execution_count": null,
   "metadata": {
    "vscode": {
     "languageId": "r"
    }
   },
   "outputs": [],
   "source": [
    "air_lm_mc <- lm(daily_aqi ~ avg_wind_mc, data = airquality)\n",
    "coef(air_lm_mc)\n",
    "summary(air_lm_mc)$r.square\n",
    "summary(air_lm_mc)$sigma"
   ]
  },
  {
   "cell_type": "code",
   "execution_count": null,
   "metadata": {
    "vscode": {
     "languageId": "r"
    }
   },
   "outputs": [],
   "source": [
    "air_lm_maxc <- lm(daily_aqi ~ avg_wind_maxc, data = airquality)\n",
    "coef(air_lm_maxc)\n",
    "summary(air_lm_maxc)$r.square\n",
    "summary(air_lm_maxc)$sigma"
   ]
  },
  {
   "cell_type": "code",
   "execution_count": null,
   "metadata": {
    "vscode": {
     "languageId": "r"
    }
   },
   "outputs": [],
   "source": [
    "air_lm_10 <- lm(daily_aqi ~ avg_wind_10, data = airquality)\n",
    "coef(air_lm_10)\n",
    "summary(air_lm_10)$r.square\n",
    "summary(air_lm_10)$sigma"
   ]
  },
  {
   "cell_type": "markdown",
   "metadata": {},
   "source": [
    "## Standardized Regression\n",
    "\n",
    "Another type of regression that can be done is one in which the attributes are standardized prior to estimating the linear regression. What is meant by standardizing? This is converting the attributes into z-scores:\n",
    "\n",
    "$$ \n",
    "Z_{api} = \\frac{(aqi - \\bar{aqi})}{s_{aqi}}\n",
    "$$"
   ]
  },
  {
   "cell_type": "code",
   "execution_count": null,
   "metadata": {
    "vscode": {
     "languageId": "r"
    }
   },
   "outputs": [],
   "source": [
    "airquality <- airquality %>%\n",
    "  mutate(z_aqi = scale(daily_aqi),\n",
    "         z_aqi2 = (daily_aqi - mean(daily_aqi)) / sd(daily_aqi),\n",
    "         z_wind = scale(avg_wind))\n",
    "\n",
    "head(airquality)"
   ]
  },
  {
   "cell_type": "code",
   "execution_count": null,
   "metadata": {
    "vscode": {
     "languageId": "r"
    }
   },
   "outputs": [],
   "source": [
    "air_lm_s <- lm(z_aqi ~ z_wind, data = airquality)\n",
    "coef(air_lm_s)\n",
    "summary(air_lm_s)$r.square\n",
    "summary(air_lm_s)$sigma"
   ]
  },
  {
   "cell_type": "markdown",
   "metadata": {},
   "source": [
    "We can also use this formula to convert any unstandardized regression coefficients into a standardized metric. \n",
    "\n",
    "$$ \n",
    "b^{'}_{k} = b_{k} * \\frac{s_{x_{k}}}{s_{y}}\n",
    "$$"
   ]
  },
  {
   "cell_type": "code",
   "execution_count": null,
   "metadata": {
    "vscode": {
     "languageId": "r"
    }
   },
   "outputs": [],
   "source": [
    "-2.211 * sd(airquality$avg_wind) / sd(airquality$daily_aqi)\n",
    "cor(daily_aqi ~ avg_wind, data = airquality)"
   ]
  },
  {
   "cell_type": "markdown",
   "metadata": {},
   "source": [
    "## Parameter Estimation\n",
    "\n",
    "Now that we looked how the parameters are impacted by some changes in the model specification, how are these parameters actually estimated? I will show two ways, one is general, the other is specific to this simple case with a single predictor/covariate attribute. In general, linear regression (or more generally the general linear model) uses least square estimation. This means that the the parameters in the model minimize the squared distance between the observed and predicted values. That is, least squares estimates minimize this criterion:\n",
    "\n",
    "$$\n",
    "\\sum (Y - \\hat{Y})^2\n",
    "$$\n",
    "\n",
    "### Specific example\n",
    "Calculus can be used to show that these two equations can be solved simultanuously to get estimates for $\\beta_{0}$ and $\\beta_{1}$ that minimize the criterion above. These formulas are:\n",
    "\n",
    "$$\n",
    "b_{1} = \\frac{\\sum(X - \\bar{X})(Y - \\bar{Y})}{\\sum(X - \\bar{X})^2}\n",
    "$$\n",
    "$$\n",
    "b_{0} = \\bar{Y} - b_{1}\\bar{X}\n",
    "$$\n",
    "\n",
    "Let's use R to get these quantities."
   ]
  },
  {
   "cell_type": "code",
   "execution_count": null,
   "metadata": {
    "vscode": {
     "languageId": "r"
    }
   },
   "outputs": [],
   "source": [
    "b1 <- with(airquality, \n",
    "      sum((avg_wind - mean(avg_wind)) * (daily_aqi - mean(daily_aqi))) / sum((avg_wind - mean(avg_wind))^2)\n",
    ")\n",
    "b0 <- with(airquality, \n",
    "      mean(daily_aqi) - b1 * mean(avg_wind)\n",
    ")\n",
    "b0\n",
    "b1\n",
    "coef(air_lm)"
   ]
  },
  {
   "cell_type": "markdown",
   "metadata": {},
   "source": [
    "### General Approach\n",
    "\n",
    "When there are more than one predictor, the number of equations gets a bit unyieldy, therefore, there is a general analytic approach that works for any set of predictor attributes. The general approach uses matrix algebra (anyone take linear algebra?), to achieve their estimates. This general form is:\n",
    "\n",
    "$$\n",
    "\\mathbf{b} = \\left( \\mathbf{X}^{`}\\mathbf{X} \\right)^{-1} \\left( \\mathbf{X}^{`} \\mathbf{Y} \\right).\n",
    "$$\n",
    "Where $\\mathbf{b}$ is a vector of estimated regression coefficients, $\\mathbf{X}$ is a matrix of covariate/predictor attributes (called the design matrix), and $\\mathbf{Y}$ is a vector of the outcome attribute. \n",
    "\n",
    "Below, I show what these would look like for the air quality example that has been used and solve for the regression coefficients."
   ]
  },
  {
   "cell_type": "code",
   "execution_count": null,
   "metadata": {
    "vscode": {
     "languageId": "r"
    }
   },
   "outputs": [],
   "source": [
    "X <- model.matrix(air_lm)\n",
    "head(X)"
   ]
  },
  {
   "cell_type": "code",
   "execution_count": null,
   "metadata": {
    "vscode": {
     "languageId": "r"
    }
   },
   "outputs": [],
   "source": [
    "Y <- as.matrix(airquality$daily_aqi)\n",
    "head(Y)"
   ]
  },
  {
   "cell_type": "code",
   "execution_count": null,
   "metadata": {
    "vscode": {
     "languageId": "r"
    }
   },
   "outputs": [],
   "source": [
    "X_X <- solve(t(X) %*% X)\n",
    "X_X"
   ]
  },
  {
   "cell_type": "code",
   "execution_count": null,
   "metadata": {
    "vscode": {
     "languageId": "r"
    }
   },
   "outputs": [],
   "source": [
    "X_Y <- t(X) %*% Y\n",
    "X_Y"
   ]
  },
  {
   "cell_type": "code",
   "execution_count": null,
   "metadata": {
    "vscode": {
     "languageId": "r"
    }
   },
   "outputs": [],
   "source": [
    "X_X %*% X_Y\n",
    "coef(air_lm)"
   ]
  }
 ],
 "metadata": {
  "kernelspec": {
   "display_name": "R",
   "language": "R",
   "name": "ir"
  },
  "language_info": {
   "codemirror_mode": "r",
   "file_extension": ".r",
   "mimetype": "text/x-r-source",
   "name": "R",
   "pygments_lexer": "r",
   "version": "4.2.0"
  },
  "orig_nbformat": 4
 },
 "nbformat": 4,
 "nbformat_minor": 2
}
