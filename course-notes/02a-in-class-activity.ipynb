{
 "cells": [
  {
   "cell_type": "markdown",
   "metadata": {},
   "source": [
    "## In Class Activity - February 1st, 2024\n",
    "\n",
    "This activity is meant to give you some exploration of topics within class. I've created the code for you to run the activity and explore some data. \n",
    "\n",
    "The goals of this activity are as follows: \n",
    "\n",
    "1. Explore what happens if the X and Y attributes are flipped in a linear regression. \n",
    "    + What happens to the linear regression coefficient estimates (ie., the $\\hat{\\beta}$)?\n",
    "    + What happens to the sigma and R-Square statistics?\n",
    "2. Given what you find in #1, how do you decide which attribute should be an outcome (Y) vs a predictor (X)?"
   ]
  },
  {
   "cell_type": "code",
   "execution_count": null,
   "metadata": {
    "vscode": {
     "languageId": "r"
    }
   },
   "outputs": [],
   "source": [
    "library(tidyverse)\n",
    "library(palmerpenguins)\n",
    "library(ggformula)\n",
    "library(mosaic)\n",
    "\n",
    "theme_set(theme_bw(base_size = 16))\n",
    "\n",
    "# If you get errors, use this line of code too.\n",
    "# penguins <- readr::read_csv(\"https://raw.githubusercontent.com/allisonhorst/palmerpenguins/main/inst/extdata/penguins.csv\")\n",
    "\n",
    "head(penguins)\n",
    "\n",
    "model_fit <- function(outcome, predictor, data = penguins) {\n",
    "    formula <- as.formula(paste(outcome, predictor, sep = \"~\"))\n",
    "    model_out <- lm(formula, data = data)\n",
    "\n",
    "    model_coef <- data.frame(matrix(c(coef(model_out)), ncol = 2))\n",
    "    names(model_coef) <- c(\"Intercept\", \"Slope\")\n",
    "\n",
    "    data.frame(model_coef, \n",
    "    Rsquare = summary(model_out)$r.square,\n",
    "    sigma = summary(model_out)$sigma)\n",
    "}\n",
    "\n",
    "visualize_relationship <- function(outcome, predictor, data = penguins, \n",
    "     add_regression_line = TRUE, add_smoother_line = FALSE) {\n",
    "    formula <- as.formula(paste(outcome, predictor, sep = \"~\"))\n",
    "\n",
    "    if(add_regression_line & !add_smoother_line) {\n",
    "        gf_point(gformula = formula, data = data, size = 4) |>\n",
    "          gf_smooth(method = 'lm', size = 1.5) |> print()\n",
    "    }\n",
    "    if(add_smoother_line & !add_regression_line) {\n",
    "        gf_point(gformula = formula, data = data, size = 4) |>\n",
    "          gf_smooth(method = 'loess', size = 1.5) |> print()\n",
    "    }\n",
    "    if(add_smoother_line & add_regression_line) {\n",
    "        gf_point(gformula = formula, data = data, size = 4) |>\n",
    "          gf_smooth(method = 'lm', size = 1.5) |>\n",
    "          gf_smooth(method = 'loess', size = 1.5, linetype = 2) |> print()\n",
    "    }\n",
    "}"
   ]
  },
  {
   "cell_type": "markdown",
   "metadata": {},
   "source": [
    "## Compute Correlation\n",
    "\n",
    "The following code chunk can help you compute correlations between attributes. To use the function, you can replace \"outcome\" with an attribute name from the data above and \"predictor\" with another attribute above. \n",
    "\n",
    "1. What happens when you flip the outcome / predictor outcomes when computing the correlation? Does the correlation change? Why or why not? \n",
    "2. Given the correlation computed, how is it interpreted? \n",
    "3. Given the correlation computed, what information would this tell us when we try estimate the regression coefficients below? "
   ]
  },
  {
   "cell_type": "code",
   "execution_count": null,
   "metadata": {
    "vscode": {
     "languageId": "r"
    }
   },
   "outputs": [],
   "source": [
    "cor(outcome ~ predictor, data = penguins, use = 'complete.obs') |> round(3)"
   ]
  },
  {
   "cell_type": "markdown",
   "metadata": {},
   "source": [
    "## Visualize bivariate distribution\n",
    "\n",
    "The following code creates a scatter plot showing the bivariate association between the two attributes entered. Example code is shown below as an example. You can replace the \"outcome\" and \"predictor\" with the two continuous attributes that you are interested in exploring. These need to be entered in quotations, either single or double are fine. You can also add a regression line or smoother line by specifying those arguments as either TRUE (ie., Yes) or FALSE (ie., No). \n",
    "\n",
    "1. Does the association between the two attributes appear to be linear? \n",
    "2. What happens to the association if you flip the predictor / outcome attributes? \n",
    "3. How would you summarize the association in a few sentences? "
   ]
  },
  {
   "cell_type": "code",
   "execution_count": null,
   "metadata": {
    "vscode": {
     "languageId": "r"
    }
   },
   "outputs": [],
   "source": [
    "visualize_relationship(outcome = 'body_mass_g',\n",
    "          predictor = 'flipper_length_mm',\n",
    "          data = penguins,\n",
    "          add_regression_line = TRUE,\n",
    "          add_smoother_line = FALSE)"
   ]
  },
  {
   "cell_type": "code",
   "execution_count": null,
   "metadata": {
    "vscode": {
     "languageId": "r"
    }
   },
   "outputs": [],
   "source": [
    "visualize_relationship(outcome = 'flipper_length_mm',\n",
    "          predictor = 'body_mass_g',\n",
    "          data = penguins,\n",
    "          add_regression_line = TRUE,\n",
    "          add_smoother_line = FALSE)"
   ]
  },
  {
   "cell_type": "markdown",
   "metadata": {},
   "source": [
    "## Linear Regression Fitting\n",
    "\n",
    "Similar to the bivariate scatterplot, the following function was created to fit a linear regression and extract some information about the model. The output should include the Intercept, Slope, R-square, and sigma estimates. You can specify the outcome and predictor by replacing those as you did in the bivariate scatterplot above to reflect the attributes you are interested in exploring. \n",
    "\n",
    "1. How are the 4 estimates interpreted, particularly in the context of the problem?\n",
    "2. What happens to the 4 estimates if you flip the outcome and predictor attributes? \n",
    "    + Which one should truly be the outcome and what should guide this?"
   ]
  },
  {
   "cell_type": "code",
   "execution_count": null,
   "metadata": {
    "vscode": {
     "languageId": "r"
    }
   },
   "outputs": [],
   "source": [
    "model_fit(outcome = 'body_mass_g',\n",
    "          predictor = 'flipper_length_mm',\n",
    "          data = penguins)"
   ]
  },
  {
   "cell_type": "markdown",
   "metadata": {},
   "source": [
    "$$\n",
    "body\\_mass = \\beta_{0} + \\beta_{1} flipper\\_length\n",
    "$$"
   ]
  },
  {
   "cell_type": "code",
   "execution_count": null,
   "metadata": {
    "vscode": {
     "languageId": "r"
    }
   },
   "outputs": [],
   "source": [
    "model_fit(outcome = 'flipper_length_mm',\n",
    "          predictor = 'body_mass_g',\n",
    "          data = penguins)"
   ]
  },
  {
   "cell_type": "markdown",
   "metadata": {},
   "source": [
    "$$\n",
    "flipper\\_length = \\beta_{0} + \\beta_{1} body\\_mass\n",
    "$$"
   ]
  }
 ],
 "metadata": {
  "kernelspec": {
   "display_name": "R",
   "language": "R",
   "name": "ir"
  },
  "language_info": {
   "codemirror_mode": "r",
   "file_extension": ".r",
   "mimetype": "text/x-r-source",
   "name": "R",
   "pygments_lexer": "r",
   "version": "4.1.2"
  },
  "orig_nbformat": 4
 },
 "nbformat": 4,
 "nbformat_minor": 2
}
