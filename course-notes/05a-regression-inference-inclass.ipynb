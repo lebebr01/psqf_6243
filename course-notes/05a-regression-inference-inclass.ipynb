{
 "cells": [
  {
   "cell_type": "markdown",
   "metadata": {},
   "source": [
    "## Inference Practice - In class\n",
    "\n",
    "Inference attempts to help us make statements about the population of interest given the sample data that we have. Inference is only needed if sample data is obtained. If data from the entire population is obtained, descriptive statistics are sufficient. \n",
    "\n",
    "### Steps in Inference\n",
    "\n",
    "1. Generate hypotheses, ie null and alternative hypotheses.\n",
    "2. Establish an $\\alpha$ value\n",
    "3. Estimate parameters\n",
    "4. Compute test statistic\n",
    "5. Generate p-value\n",
    "\n",
    "\n",
    "### General Research Question\n",
    "Does the year of data help understand differences in average or median hourly nurse pay?\n",
    "\n",
    "### Data Description\n",
    "The data are state level data about nurse pay from all United States, including Puerto Rico, Washington DC, Guam, and US Virgin Islands. \n",
    "\n",
    "#### Actual data\n",
    "\n",
    "|attribute                                        |class     |description |\n",
    "|:-----------------------------------------------|:---------|:-----------|\n",
    "|State                                           |character | State |\n",
    "|Year                                            |double    | Year|\n",
    "|Total Employed RN                               |double    | Total Employed Registered Nurses |\n",
    "|Employed Standard Error (%)                     |double    | Employed standard error (%) |\n",
    "|Hourly Wage Avg                                 |double    | Hourly wage average|\n",
    "|Hourly Wage Median                              |double    | Hourly wage median |\n",
    "|Annual Salary Avg                               |double    | Annual salary average |\n",
    "|Annual Salary Median                            |double    | Annual salary median |\n",
    "|Wage/Salary standard error (%)                  |double    | Wage/salary standard error % |\n",
    "|Hourly 10th Percentile                          |double    | Hourly 10th Percentile               |\n",
    "|Hourly 25th Percentile                          |double    | Hourly 25th Percentile                         |\n",
    "|Hourly 75th Percentile                          |double    | Hourly 75th Percentile                         |\n",
    "|Hourly 90th Percentile                          |double    | Hourly 90th Percentile                         |\n",
    "|Annual 10th Percentile                          |double    | Annual 10th Percentile                         |\n",
    "|Annual 25th Percentile                          |double    | Annual 25th Percentile                         |\n",
    "|Annual 75th Percentile                          |double    | Annual 75th Percentile                         |\n",
    "|Annual 90th Percentile                          |double    | Annual 90th Percentile                         |\n",
    "|Location Quotient                               |double    | Location Quotient                              |\n",
    "|Total Employed (National)_Aggregate             |double    | Total Employed (National)_Aggregate            |\n",
    "|Total Employed (Healthcare, National)_Aggregate |double    | Total Employed (Healthcare, National)_Aggregate|\n",
    "|Total Employed (Healthcare, State)_Aggregate    |double    | Total Employed (Healthcare, State)_Aggregate   |\n",
    "|Yearly Total Employed (State)_Aggregate         |double    | Yearly Total Employed (State)_Aggregate        |\n"
   ]
  },
  {
   "cell_type": "code",
   "execution_count": 6,
   "metadata": {
    "vscode": {
     "languageId": "r"
    }
   },
   "outputs": [
    {
     "name": "stderr",
     "output_type": "stream",
     "text": [
      "\u001b[1mRows: \u001b[22m\u001b[34m1242\u001b[39m \u001b[1mColumns: \u001b[22m\u001b[34m22\u001b[39m\n",
      "\u001b[36m--\u001b[39m \u001b[1mColumn specification\u001b[22m \u001b[36m--------------------------------------------------------\u001b[39m\n",
      "\u001b[1mDelimiter:\u001b[22m \",\"\n",
      "\u001b[31mchr\u001b[39m  (1): State\n",
      "\u001b[32mdbl\u001b[39m (21): Year, Total Employed RN, Employed Standard Error (%), Hourly Wage ...\n",
      "\n",
      "\u001b[36mi\u001b[39m Use `spec()` to retrieve the full column specification for this data.\n",
      "\u001b[36mi\u001b[39m Specify the column types or set `show_col_types = FALSE` to quiet this message.\n"
     ]
    },
    {
     "data": {
      "text/html": [
       "<table class=\"dataframe\">\n",
       "<caption>A tibble: 6 × 22</caption>\n",
       "<thead>\n",
       "\t<tr><th scope=col>state</th><th scope=col>year</th><th scope=col>total_employed_rn</th><th scope=col>employed_standard_error_percent</th><th scope=col>hourly_wage_avg</th><th scope=col>hourly_wage_median</th><th scope=col>annual_salary_avg</th><th scope=col>annual_salary_median</th><th scope=col>wage_salary_standard_error_percent</th><th scope=col>hourly_10th_percentile</th><th scope=col>⋯</th><th scope=col>hourly_90th_percentile</th><th scope=col>annual_10th_percentile</th><th scope=col>annual_25th_percentile</th><th scope=col>annual_75th_percentile</th><th scope=col>annual_90th_percentile</th><th scope=col>location_quotient</th><th scope=col>total_employed_national_aggregate</th><th scope=col>total_employed_healthcare_national_aggregate</th><th scope=col>total_employed_healthcare_state_aggregate</th><th scope=col>yearly_total_employed_state_aggregate</th></tr>\n",
       "\t<tr><th scope=col>&lt;chr&gt;</th><th scope=col>&lt;dbl&gt;</th><th scope=col>&lt;dbl&gt;</th><th scope=col>&lt;dbl&gt;</th><th scope=col>&lt;dbl&gt;</th><th scope=col>&lt;dbl&gt;</th><th scope=col>&lt;dbl&gt;</th><th scope=col>&lt;dbl&gt;</th><th scope=col>&lt;dbl&gt;</th><th scope=col>&lt;dbl&gt;</th><th scope=col>⋯</th><th scope=col>&lt;dbl&gt;</th><th scope=col>&lt;dbl&gt;</th><th scope=col>&lt;dbl&gt;</th><th scope=col>&lt;dbl&gt;</th><th scope=col>&lt;dbl&gt;</th><th scope=col>&lt;dbl&gt;</th><th scope=col>&lt;dbl&gt;</th><th scope=col>&lt;dbl&gt;</th><th scope=col>&lt;dbl&gt;</th><th scope=col>&lt;dbl&gt;</th></tr>\n",
       "</thead>\n",
       "<tbody>\n",
       "\t<tr><td>Alabama   </td><td>2020</td><td> 48850</td><td> 2.9</td><td>28.96</td><td>28.19</td><td> 60230</td><td> 58630</td><td>0.8</td><td>20.75</td><td>⋯</td><td>38.67</td><td>43150</td><td>49360</td><td> 68960</td><td> 80420</td><td>1.20</td><td>140019790</td><td>8632190</td><td>128600</td><td> 1903210</td></tr>\n",
       "\t<tr><td>Alaska    </td><td>2020</td><td>  6240</td><td>13.0</td><td>45.81</td><td>45.23</td><td> 95270</td><td> 94070</td><td>1.4</td><td>31.50</td><td>⋯</td><td>60.70</td><td>65530</td><td>76830</td><td>110890</td><td>126260</td><td>0.98</td><td>140019790</td><td>8632190</td><td> 17730</td><td>  296300</td></tr>\n",
       "\t<tr><td>Arizona   </td><td>2020</td><td> 55520</td><td> 3.7</td><td>38.64</td><td>37.98</td><td> 80380</td><td> 79010</td><td>0.9</td><td>27.66</td><td>⋯</td><td>50.14</td><td>57530</td><td>67760</td><td> 92920</td><td>104290</td><td>0.91</td><td>140019790</td><td>8632190</td><td>171010</td><td> 2835110</td></tr>\n",
       "\t<tr><td>Arkansas  </td><td>2020</td><td> 25300</td><td> 4.2</td><td>30.60</td><td>29.97</td><td> 63640</td><td> 62330</td><td>1.4</td><td>21.47</td><td>⋯</td><td>39.65</td><td>44660</td><td>53490</td><td> 73630</td><td> 82480</td><td>1.00</td><td>140019790</td><td>8632190</td><td> 80410</td><td> 1177860</td></tr>\n",
       "\t<tr><td>California</td><td>2020</td><td>307060</td><td> 2.0</td><td>57.96</td><td>56.93</td><td>120560</td><td>118410</td><td>1.0</td><td>36.62</td><td>⋯</td><td>83.35</td><td>76180</td><td>93970</td><td>147830</td><td>173370</td><td>0.87</td><td>140019790</td><td>8632190</td><td>844740</td><td>16430660</td></tr>\n",
       "\t<tr><td>Colorado  </td><td>2020</td><td> 52330</td><td> 2.8</td><td>37.43</td><td>36.78</td><td> 77860</td><td> 76500</td><td>0.7</td><td>26.84</td><td>⋯</td><td>50.03</td><td>55820</td><td>64580</td><td> 90410</td><td>104070</td><td>0.95</td><td>140019790</td><td>8632190</td><td>144490</td><td> 2578000</td></tr>\n",
       "</tbody>\n",
       "</table>\n"
      ],
      "text/latex": [
       "A tibble: 6 × 22\n",
       "\\begin{tabular}{lllllllllllllllllllll}\n",
       " state & year & total\\_employed\\_rn & employed\\_standard\\_error\\_percent & hourly\\_wage\\_avg & hourly\\_wage\\_median & annual\\_salary\\_avg & annual\\_salary\\_median & wage\\_salary\\_standard\\_error\\_percent & hourly\\_10th\\_percentile & ⋯ & hourly\\_90th\\_percentile & annual\\_10th\\_percentile & annual\\_25th\\_percentile & annual\\_75th\\_percentile & annual\\_90th\\_percentile & location\\_quotient & total\\_employed\\_national\\_aggregate & total\\_employed\\_healthcare\\_national\\_aggregate & total\\_employed\\_healthcare\\_state\\_aggregate & yearly\\_total\\_employed\\_state\\_aggregate\\\\\n",
       " <chr> & <dbl> & <dbl> & <dbl> & <dbl> & <dbl> & <dbl> & <dbl> & <dbl> & <dbl> & ⋯ & <dbl> & <dbl> & <dbl> & <dbl> & <dbl> & <dbl> & <dbl> & <dbl> & <dbl> & <dbl>\\\\\n",
       "\\hline\n",
       "\t Alabama    & 2020 &  48850 &  2.9 & 28.96 & 28.19 &  60230 &  58630 & 0.8 & 20.75 & ⋯ & 38.67 & 43150 & 49360 &  68960 &  80420 & 1.20 & 140019790 & 8632190 & 128600 &  1903210\\\\\n",
       "\t Alaska     & 2020 &   6240 & 13.0 & 45.81 & 45.23 &  95270 &  94070 & 1.4 & 31.50 & ⋯ & 60.70 & 65530 & 76830 & 110890 & 126260 & 0.98 & 140019790 & 8632190 &  17730 &   296300\\\\\n",
       "\t Arizona    & 2020 &  55520 &  3.7 & 38.64 & 37.98 &  80380 &  79010 & 0.9 & 27.66 & ⋯ & 50.14 & 57530 & 67760 &  92920 & 104290 & 0.91 & 140019790 & 8632190 & 171010 &  2835110\\\\\n",
       "\t Arkansas   & 2020 &  25300 &  4.2 & 30.60 & 29.97 &  63640 &  62330 & 1.4 & 21.47 & ⋯ & 39.65 & 44660 & 53490 &  73630 &  82480 & 1.00 & 140019790 & 8632190 &  80410 &  1177860\\\\\n",
       "\t California & 2020 & 307060 &  2.0 & 57.96 & 56.93 & 120560 & 118410 & 1.0 & 36.62 & ⋯ & 83.35 & 76180 & 93970 & 147830 & 173370 & 0.87 & 140019790 & 8632190 & 844740 & 16430660\\\\\n",
       "\t Colorado   & 2020 &  52330 &  2.8 & 37.43 & 36.78 &  77860 &  76500 & 0.7 & 26.84 & ⋯ & 50.03 & 55820 & 64580 &  90410 & 104070 & 0.95 & 140019790 & 8632190 & 144490 &  2578000\\\\\n",
       "\\end{tabular}\n"
      ],
      "text/markdown": [
       "\n",
       "A tibble: 6 × 22\n",
       "\n",
       "| state &lt;chr&gt; | year &lt;dbl&gt; | total_employed_rn &lt;dbl&gt; | employed_standard_error_percent &lt;dbl&gt; | hourly_wage_avg &lt;dbl&gt; | hourly_wage_median &lt;dbl&gt; | annual_salary_avg &lt;dbl&gt; | annual_salary_median &lt;dbl&gt; | wage_salary_standard_error_percent &lt;dbl&gt; | hourly_10th_percentile &lt;dbl&gt; | ⋯ ⋯ | hourly_90th_percentile &lt;dbl&gt; | annual_10th_percentile &lt;dbl&gt; | annual_25th_percentile &lt;dbl&gt; | annual_75th_percentile &lt;dbl&gt; | annual_90th_percentile &lt;dbl&gt; | location_quotient &lt;dbl&gt; | total_employed_national_aggregate &lt;dbl&gt; | total_employed_healthcare_national_aggregate &lt;dbl&gt; | total_employed_healthcare_state_aggregate &lt;dbl&gt; | yearly_total_employed_state_aggregate &lt;dbl&gt; |\n",
       "|---|---|---|---|---|---|---|---|---|---|---|---|---|---|---|---|---|---|---|---|---|\n",
       "| Alabama    | 2020 |  48850 |  2.9 | 28.96 | 28.19 |  60230 |  58630 | 0.8 | 20.75 | ⋯ | 38.67 | 43150 | 49360 |  68960 |  80420 | 1.20 | 140019790 | 8632190 | 128600 |  1903210 |\n",
       "| Alaska     | 2020 |   6240 | 13.0 | 45.81 | 45.23 |  95270 |  94070 | 1.4 | 31.50 | ⋯ | 60.70 | 65530 | 76830 | 110890 | 126260 | 0.98 | 140019790 | 8632190 |  17730 |   296300 |\n",
       "| Arizona    | 2020 |  55520 |  3.7 | 38.64 | 37.98 |  80380 |  79010 | 0.9 | 27.66 | ⋯ | 50.14 | 57530 | 67760 |  92920 | 104290 | 0.91 | 140019790 | 8632190 | 171010 |  2835110 |\n",
       "| Arkansas   | 2020 |  25300 |  4.2 | 30.60 | 29.97 |  63640 |  62330 | 1.4 | 21.47 | ⋯ | 39.65 | 44660 | 53490 |  73630 |  82480 | 1.00 | 140019790 | 8632190 |  80410 |  1177860 |\n",
       "| California | 2020 | 307060 |  2.0 | 57.96 | 56.93 | 120560 | 118410 | 1.0 | 36.62 | ⋯ | 83.35 | 76180 | 93970 | 147830 | 173370 | 0.87 | 140019790 | 8632190 | 844740 | 16430660 |\n",
       "| Colorado   | 2020 |  52330 |  2.8 | 37.43 | 36.78 |  77860 |  76500 | 0.7 | 26.84 | ⋯ | 50.03 | 55820 | 64580 |  90410 | 104070 | 0.95 | 140019790 | 8632190 | 144490 |  2578000 |\n",
       "\n"
      ],
      "text/plain": [
       "  state      year total_employed_rn employed_standard_error_percent\n",
       "1 Alabama    2020  48850             2.9                           \n",
       "2 Alaska     2020   6240            13.0                           \n",
       "3 Arizona    2020  55520             3.7                           \n",
       "4 Arkansas   2020  25300             4.2                           \n",
       "5 California 2020 307060             2.0                           \n",
       "6 Colorado   2020  52330             2.8                           \n",
       "  hourly_wage_avg hourly_wage_median annual_salary_avg annual_salary_median\n",
       "1 28.96           28.19               60230             58630              \n",
       "2 45.81           45.23               95270             94070              \n",
       "3 38.64           37.98               80380             79010              \n",
       "4 30.60           29.97               63640             62330              \n",
       "5 57.96           56.93              120560            118410              \n",
       "6 37.43           36.78               77860             76500              \n",
       "  wage_salary_standard_error_percent hourly_10th_percentile <U+22EF>       \n",
       "1 0.8                                20.75                  <U+22EF>\n",
       "2 1.4                                31.50                  <U+22EF>\n",
       "3 0.9                                27.66                  <U+22EF>\n",
       "4 1.4                                21.47                  <U+22EF>\n",
       "5 1.0                                36.62                  <U+22EF>\n",
       "6 0.7                                26.84                  <U+22EF>\n",
       "  hourly_90th_percentile annual_10th_percentile annual_25th_percentile\n",
       "1 38.67                  43150                  49360                 \n",
       "2 60.70                  65530                  76830                 \n",
       "3 50.14                  57530                  67760                 \n",
       "4 39.65                  44660                  53490                 \n",
       "5 83.35                  76180                  93970                 \n",
       "6 50.03                  55820                  64580                 \n",
       "  annual_75th_percentile annual_90th_percentile location_quotient\n",
       "1  68960                  80420                 1.20             \n",
       "2 110890                 126260                 0.98             \n",
       "3  92920                 104290                 0.91             \n",
       "4  73630                  82480                 1.00             \n",
       "5 147830                 173370                 0.87             \n",
       "6  90410                 104070                 0.95             \n",
       "  total_employed_national_aggregate\n",
       "1 140019790                        \n",
       "2 140019790                        \n",
       "3 140019790                        \n",
       "4 140019790                        \n",
       "5 140019790                        \n",
       "6 140019790                        \n",
       "  total_employed_healthcare_national_aggregate\n",
       "1 8632190                                     \n",
       "2 8632190                                     \n",
       "3 8632190                                     \n",
       "4 8632190                                     \n",
       "5 8632190                                     \n",
       "6 8632190                                     \n",
       "  total_employed_healthcare_state_aggregate\n",
       "1 128600                                   \n",
       "2  17730                                   \n",
       "3 171010                                   \n",
       "4  80410                                   \n",
       "5 844740                                   \n",
       "6 144490                                   \n",
       "  yearly_total_employed_state_aggregate\n",
       "1  1903210                             \n",
       "2   296300                             \n",
       "3  2835110                             \n",
       "4  1177860                             \n",
       "5 16430660                             \n",
       "6  2578000                             "
      ]
     },
     "metadata": {},
     "output_type": "display_data"
    }
   ],
   "source": [
    "library(tidyverse)\n",
    "library(ggformula)\n",
    "\n",
    "theme_set(theme_bw(base_size = 16))\n",
    "\n",
    "# install.packages(\"janitor\")\n",
    "\n",
    "nurses <- readr::read_csv('https://raw.githubusercontent.com/rfordatascience/tidytuesday/master/data/2021/2021-10-05/nurses.csv') |>\n",
    "    janitor::clean_names()\n",
    "\n",
    "head(nurses)"
   ]
  },
  {
   "cell_type": "code",
   "execution_count": null,
   "metadata": {
    "vscode": {
     "languageId": "r"
    }
   },
   "outputs": [],
   "source": [
    "count(nurses, year)"
   ]
  },
  {
   "cell_type": "code",
   "execution_count": null,
   "metadata": {
    "vscode": {
     "languageId": "r"
    }
   },
   "outputs": [],
   "source": [
    "count(nurses, state)"
   ]
  },
  {
   "cell_type": "markdown",
   "metadata": {},
   "source": [
    "## Univariate exploration\n",
    "\n",
    "First, explore the univariate distribution of the outcome of interest. Fill in the outcome of interest (either median or average hourly wage) in place of \"%%\" in the code below. You may also want to fill in an appropriate axis label in place of \"@@\" below. \n",
    "\n",
    "+ Summarize any key features of this distribution."
   ]
  },
  {
   "cell_type": "code",
   "execution_count": null,
   "metadata": {
    "vscode": {
     "languageId": "r"
    }
   },
   "outputs": [],
   "source": [
    "gf_density(~ %%, data = nurses) |>\n",
    "  gf_labs(x = \"@@\")"
   ]
  },
  {
   "cell_type": "markdown",
   "metadata": {},
   "source": [
    "## Bivariate exploration\n",
    "\n",
    "It is important to explore relationships bivariately before going to the model phase. To do this, fill in the outcome of interest in place of \"%%\" below and fill in the appropriate predictor in place of \"^^\". You may also want to fill in an appropriate axis labels in place of \"@@\" below. \n",
    "\n",
    "+ Summarize the bivariate association"
   ]
  },
  {
   "cell_type": "code",
   "execution_count": null,
   "metadata": {
    "vscode": {
     "languageId": "r"
    }
   },
   "outputs": [],
   "source": [
    "gf_point(%% ~ ^^, data = nurses, size = 4) |> \n",
    "  gf_smooth(method = 'lm', size = 1.5) |>\n",
    "  gf_smooth(method = 'loess', size = 1.5, color = 'green') |>\n",
    "  gf_labs(x = \"@@\",\n",
    "          y = \"@@\")"
   ]
  },
  {
   "cell_type": "markdown",
   "metadata": {},
   "source": [
    "### Jittered bivariate plot\n",
    "\n",
    "A jittered plot can be helpful in this situation. \n",
    "\n",
    "+ We haven't talked about jitter before, compare the following figure with the preceeding one to explore what differs and think about what is happening in this new figure. "
   ]
  },
  {
   "cell_type": "code",
   "execution_count": null,
   "metadata": {
    "vscode": {
     "languageId": "r"
    }
   },
   "outputs": [],
   "source": [
    "gf_jitter(%% ~ ^^, data = nurses, size = 4) |> \n",
    "  gf_smooth(method = 'lm', size = 1.5) |>\n",
    "  gf_smooth(method = 'loess', size = 1.5, color = 'green') |>\n",
    "  gf_labs(x = \"@@\",\n",
    "          y = \"@@\")"
   ]
  },
  {
   "cell_type": "markdown",
   "metadata": {},
   "source": [
    "## Establish Hyptheses\n",
    "\n",
    "## Set an $\\alpha$ value\n",
    "\n",
    "## Estimate Parameters\n",
    "\n",
    "To do this, fill in the outcome of interest in place of \"%%\" below and fill in the appropriate predictor in place of \"^^\". "
   ]
  },
  {
   "cell_type": "code",
   "execution_count": null,
   "metadata": {
    "vscode": {
     "languageId": "r"
    }
   },
   "outputs": [],
   "source": [
    "nurse_year <- lm(%% ~ ^^, data = nurses)\n",
    "\n",
    "coef(nurse_year) |> round(3)"
   ]
  }
 ],
 "metadata": {
  "kernelspec": {
   "display_name": "R",
   "language": "R",
   "name": "ir"
  },
  "language_info": {
   "codemirror_mode": "r",
   "file_extension": ".r",
   "mimetype": "text/x-r-source",
   "name": "R",
   "pygments_lexer": "r",
   "version": "4.2.0"
  },
  "orig_nbformat": 4
 },
 "nbformat": 4,
 "nbformat_minor": 2
}
