{
 "cells": [
  {
   "cell_type": "markdown",
   "metadata": {},
   "source": [
    "# Regression with Categorical Predictors - Part 1\n",
    "\n",
    "This set of notes will explore using linear regression for a single predictor attribute that is categorical instead of continuous. To explore this first, let's explore some data. "
   ]
  },
  {
   "cell_type": "code",
   "execution_count": null,
   "metadata": {},
   "outputs": [],
   "source": [
    "library(tidyverse)\n",
    "library(Lahman)\n",
    "library(ggformula)\n",
    "\n",
    "theme_set(theme_bw(base_size = 18))\n",
    "\n",
    "career <- Batting %>%\n",
    "  filter(AB > 100) %>%\n",
    "  anti_join(Pitching, by = \"playerID\") %>%\n",
    "  filter(yearID > 1990) %>%\n",
    "  group_by(playerID, lgID) %>%\n",
    "  summarise(H = sum(H), AB = sum(AB)) %>%\n",
    "  mutate(average = H / AB)\n",
    "\n",
    "career <- Master %>%\n",
    "  tbl_df() %>%\n",
    "  dplyr::select(playerID, nameFirst, nameLast) %>%\n",
    "  unite(name, nameFirst, nameLast, sep = \" \") %>%\n",
    "  inner_join(career, by = \"playerID\") %>%\n",
    "  dplyr::select(-playerID)\n",
    "\n",
    "head(career)"
   ]
  },
  {
   "cell_type": "markdown",
   "metadata": {},
   "source": [
    "## Question\n",
    "\n",
    "Suppose we are interested in the batting average of baseball players since 1990, that is, the average is:\n",
    "\n",
    "$$\n",
    "average = \\frac{number\\ of\\ hits}{number\\ of\\ atbats}\n",
    "$$\n",
    "\n",
    "Let's first visualize this."
   ]
  },
  {
   "cell_type": "code",
   "execution_count": null,
   "metadata": {},
   "outputs": [],
   "source": [
    "gf_density(~ average, data = career) %>%\n",
    "  gf_labs(x = \"Batting Average\")"
   ]
  },
  {
   "cell_type": "markdown",
   "metadata": {},
   "source": [
    "What if we hypothesized that the batting average will differ based on the league that players played in. "
   ]
  },
  {
   "cell_type": "code",
   "execution_count": null,
   "metadata": {},
   "outputs": [],
   "source": [
    "gf_violin(lgID ~ average, data = career, fill = 'gray80', draw_quantiles = c('0.1', '0.5', '0.9')) %>%\n",
    "  gf_labs(x = \"Batting Average\",\n",
    "          y = \"League\")"
   ]
  },
  {
   "cell_type": "markdown",
   "metadata": {},
   "source": [
    "The distributions seem similar, but what if we wanted to go a step further and estimate a model to explore if there are really differences or not. For example, suppose we were interested in:\n",
    "\n",
    "$$ \n",
    "H_{0}: \\mu_{NL} = \\mu_{AL}\n",
    "$$\n",
    "\n",
    "What type of model could we use? What about linear regression?"
   ]
  },
  {
   "cell_type": "markdown",
   "metadata": {},
   "source": [
    "## Linear Regression with Categorical Attributes\n",
    "\n",
    "Since these notes are happening, you can assume it is possible. But how can a categorical attribute with categories rather than numbers be included in the linear regression model?\n",
    "\n",
    "The answer is that they can't. We need a new representation of the categorical attribute, enter dummy or indicator coding. \n",
    "\n",
    "### Dummy/Indicator Coding\n",
    "\n",
    "Suppose we use the following logic:\n",
    "\n",
    "If NL, then give a value of 1, else give a value of 0. \n",
    "\n",
    "Does this give the same information as before?\n",
    "\n",
    "| League ID | Dummy League ID |\n",
    "|-----------|-----------------|\n",
    "| AL        | 0               | \n",
    "| NL        | 1               |\n",
    "\n",
    "What would this look like for the actual data?"
   ]
  },
  {
   "cell_type": "code",
   "execution_count": null,
   "metadata": {},
   "outputs": [],
   "source": [
    "career <- career %>%\n",
    "  mutate(league_dummy = ifelse(lgID == 'NL', 1, 0))\n",
    "\n",
    "head(career, n = 10)"
   ]
  },
  {
   "cell_type": "markdown",
   "metadata": {},
   "source": [
    "Now that there is a numeric attribute, these can be added into the linear regression model."
   ]
  },
  {
   "cell_type": "code",
   "execution_count": null,
   "metadata": {},
   "outputs": [],
   "source": [
    "average_lm <- lm(average ~ league_dummy, data = career)\n",
    "\n",
    "broom::tidy(average_lm)"
   ]
  },
  {
   "cell_type": "markdown",
   "metadata": {},
   "source": [
    "How are these terms interpreted now?"
   ]
  },
  {
   "cell_type": "code",
   "execution_count": null,
   "metadata": {},
   "outputs": [],
   "source": [
    "df_stats(average ~ league_dummy, data = career, mean, sd, length)"
   ]
  },
  {
   "cell_type": "code",
   "execution_count": null,
   "metadata": {},
   "outputs": [],
   "source": [
    "average_lm2 <- lm(average ~ lgID, data = career)\n",
    "\n",
    "broom::tidy(average_lm2)"
   ]
  },
  {
   "cell_type": "code",
   "execution_count": null,
   "metadata": {},
   "outputs": [],
   "source": [
    "t.test(average ~ lgID, data = career, var.equal = TRUE)"
   ]
  }
 ],
 "metadata": {
  "kernelspec": {
   "display_name": "R",
   "language": "R",
   "name": "ir"
  },
  "language_info": {
   "codemirror_mode": "r",
   "file_extension": ".r",
   "mimetype": "text/x-r-source",
   "name": "R",
   "pygments_lexer": "r",
   "version": "4.1.1"
  },
  "orig_nbformat": 4
 },
 "nbformat": 4,
 "nbformat_minor": 2
}
